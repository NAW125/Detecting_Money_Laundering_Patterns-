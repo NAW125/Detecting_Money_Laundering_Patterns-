{
  "cells": [
    {
      "cell_type": "markdown",
      "metadata": {
        "id": "0aStgWSO0E0E"
      },
      "source": [
        "# Detecting Money Laundering Patterns Across Global Financial Transactions- ETL process and statistical analysis."
      ]
    },
    {
      "cell_type": "markdown",
      "metadata": {
        "id": "1eLEkw5O0ECa"
      },
      "source": [
        "## Objectives\n",
        "\n",
        "This project will explore a large dataset of 10,000 records, containing information on international  financial transactions. The dataset includes categorical and numerical information as it relates to each financial transaction including country of origin, the legality of the transaction, transaction amount, industry, number of shell companies, tax haven of country and risk rating. \n",
        "\n",
        "The objective is to determine what variable or group of variables within the dataset will determine if the transaction is illegal. To do this, we will:\n",
        "\n",
        "- Carry out a complete ETL (Extract, Transform, Load) process to clean and prepare the data.\n",
        "\n",
        " - Run statistical tests to evaluate the four different hypothesis.\n",
        "\n",
        " - Use these insights to suggest money laundering risk reduction strategies.\n",
        "\n"
      ]
    },
    {
      "cell_type": "markdown",
      "metadata": {},
      "source": [
        "0. **Ethics and Data Privacy**\n",
        "\n"
      ]
    },
    {
      "cell_type": "markdown",
      "metadata": {
        "id": "9uWZXH9LwoQg"
      },
      "source": [
        "---"
      ]
    },
    {
      "cell_type": "markdown",
      "metadata": {},
      "source": [
        "1. **Import Required Libraries**\n",
        "\n",
        "I will begin by importing the necessary Python libraries for data handling and exploration."
      ]
    },
    {
      "cell_type": "code",
      "execution_count": 2,
      "metadata": {
        "id": "wZfF_j-Bz3i4",
        "outputId": "66943449-1436-4c3d-85c7-b85f9f78349b"
      },
      "outputs": [
        {
          "name": "stdout",
          "output_type": "stream",
          "text": [
            "/Users/nataliewaugh/Documents/DataCode/Detecting_Money_Laundering_Patterns-/jupyter_notebooks\n"
          ]
        }
      ],
      "source": [
        "import pandas as pd\n",
        "import numpy as np\n",
        "import os\n",
        "\n",
        "# Step 0. Move up one directory level to where the dataset file is located, enabling pandas to find and load the CSV successfully\n",
        "print(os.getcwd())"
      ]
    },
    {
      "cell_type": "markdown",
      "metadata": {
        "id": "9MWW8E7lz3i7"
      },
      "source": [
        "2. **Load the Dataset**\n",
        "\n",
        "I will load the CSV file named Money_Laundering_Dataset.csv from the local directory."
      ]
    },
    {
      "cell_type": "code",
      "execution_count": 3,
      "metadata": {
        "id": "TwHsQRWjz3i9",
        "outputId": "86849db3-cd2f-4cc5-ebb8-2d0caafa1a2c"
      },
      "outputs": [
        {
          "data": {
            "text/html": [
              "<div>\n",
              "<style scoped>\n",
              "    .dataframe tbody tr th:only-of-type {\n",
              "        vertical-align: middle;\n",
              "    }\n",
              "\n",
              "    .dataframe tbody tr th {\n",
              "        vertical-align: top;\n",
              "    }\n",
              "\n",
              "    .dataframe thead th {\n",
              "        text-align: right;\n",
              "    }\n",
              "</style>\n",
              "<table border=\"1\" class=\"dataframe\">\n",
              "  <thead>\n",
              "    <tr style=\"text-align: right;\">\n",
              "      <th></th>\n",
              "      <th>Transaction ID</th>\n",
              "      <th>Country</th>\n",
              "      <th>Amount (USD)</th>\n",
              "      <th>Transaction Type</th>\n",
              "      <th>Date of Transaction</th>\n",
              "      <th>Person Involved</th>\n",
              "      <th>Industry</th>\n",
              "      <th>Destination Country</th>\n",
              "      <th>Reported by Authority</th>\n",
              "      <th>Source of Money</th>\n",
              "      <th>Money Laundering Risk Score</th>\n",
              "      <th>Shell Companies Involved</th>\n",
              "      <th>Financial Institution</th>\n",
              "      <th>Tax Haven Country</th>\n",
              "    </tr>\n",
              "  </thead>\n",
              "  <tbody>\n",
              "    <tr>\n",
              "      <th>0</th>\n",
              "      <td>TX0000000001</td>\n",
              "      <td>Brazil</td>\n",
              "      <td>3.267530e+06</td>\n",
              "      <td>Offshore Transfer</td>\n",
              "      <td>2013-01-01 00:00:00</td>\n",
              "      <td>Person_1101</td>\n",
              "      <td>Construction</td>\n",
              "      <td>USA</td>\n",
              "      <td>True</td>\n",
              "      <td>Illegal</td>\n",
              "      <td>6</td>\n",
              "      <td>1</td>\n",
              "      <td>Bank_40</td>\n",
              "      <td>Singapore</td>\n",
              "    </tr>\n",
              "    <tr>\n",
              "      <th>1</th>\n",
              "      <td>TX0000000002</td>\n",
              "      <td>China</td>\n",
              "      <td>4.965767e+06</td>\n",
              "      <td>Stocks Transfer</td>\n",
              "      <td>2013-01-01 01:00:00</td>\n",
              "      <td>Person_7484</td>\n",
              "      <td>Luxury Goods</td>\n",
              "      <td>South Africa</td>\n",
              "      <td>False</td>\n",
              "      <td>Illegal</td>\n",
              "      <td>9</td>\n",
              "      <td>0</td>\n",
              "      <td>Bank_461</td>\n",
              "      <td>Bahamas</td>\n",
              "    </tr>\n",
              "    <tr>\n",
              "      <th>2</th>\n",
              "      <td>TX0000000003</td>\n",
              "      <td>UK</td>\n",
              "      <td>9.416750e+04</td>\n",
              "      <td>Stocks Transfer</td>\n",
              "      <td>2013-01-01 02:00:00</td>\n",
              "      <td>Person_3655</td>\n",
              "      <td>Construction</td>\n",
              "      <td>Switzerland</td>\n",
              "      <td>True</td>\n",
              "      <td>Illegal</td>\n",
              "      <td>1</td>\n",
              "      <td>3</td>\n",
              "      <td>Bank_387</td>\n",
              "      <td>Switzerland</td>\n",
              "    </tr>\n",
              "    <tr>\n",
              "      <th>3</th>\n",
              "      <td>TX0000000004</td>\n",
              "      <td>UAE</td>\n",
              "      <td>3.864201e+05</td>\n",
              "      <td>Cash Withdrawal</td>\n",
              "      <td>2013-01-01 03:00:00</td>\n",
              "      <td>Person_3226</td>\n",
              "      <td>Oil &amp; Gas</td>\n",
              "      <td>Russia</td>\n",
              "      <td>False</td>\n",
              "      <td>Illegal</td>\n",
              "      <td>7</td>\n",
              "      <td>2</td>\n",
              "      <td>Bank_353</td>\n",
              "      <td>Panama</td>\n",
              "    </tr>\n",
              "    <tr>\n",
              "      <th>4</th>\n",
              "      <td>TX0000000005</td>\n",
              "      <td>South Africa</td>\n",
              "      <td>6.433784e+05</td>\n",
              "      <td>Cryptocurrency</td>\n",
              "      <td>2013-01-01 04:00:00</td>\n",
              "      <td>Person_7975</td>\n",
              "      <td>Real Estate</td>\n",
              "      <td>USA</td>\n",
              "      <td>True</td>\n",
              "      <td>Illegal</td>\n",
              "      <td>1</td>\n",
              "      <td>9</td>\n",
              "      <td>Bank_57</td>\n",
              "      <td>Luxembourg</td>\n",
              "    </tr>\n",
              "  </tbody>\n",
              "</table>\n",
              "</div>"
            ],
            "text/plain": [
              "  Transaction ID       Country  Amount (USD)   Transaction Type  \\\n",
              "0   TX0000000001        Brazil  3.267530e+06  Offshore Transfer   \n",
              "1   TX0000000002         China  4.965767e+06    Stocks Transfer   \n",
              "2   TX0000000003            UK  9.416750e+04    Stocks Transfer   \n",
              "3   TX0000000004           UAE  3.864201e+05    Cash Withdrawal   \n",
              "4   TX0000000005  South Africa  6.433784e+05     Cryptocurrency   \n",
              "\n",
              "   Date of Transaction Person Involved      Industry Destination Country  \\\n",
              "0  2013-01-01 00:00:00     Person_1101  Construction                 USA   \n",
              "1  2013-01-01 01:00:00     Person_7484  Luxury Goods        South Africa   \n",
              "2  2013-01-01 02:00:00     Person_3655  Construction         Switzerland   \n",
              "3  2013-01-01 03:00:00     Person_3226     Oil & Gas              Russia   \n",
              "4  2013-01-01 04:00:00     Person_7975   Real Estate                 USA   \n",
              "\n",
              "   Reported by Authority Source of Money  Money Laundering Risk Score  \\\n",
              "0                   True         Illegal                            6   \n",
              "1                  False         Illegal                            9   \n",
              "2                   True         Illegal                            1   \n",
              "3                  False         Illegal                            7   \n",
              "4                   True         Illegal                            1   \n",
              "\n",
              "   Shell Companies Involved Financial Institution Tax Haven Country  \n",
              "0                         1               Bank_40         Singapore  \n",
              "1                         0              Bank_461           Bahamas  \n",
              "2                         3              Bank_387       Switzerland  \n",
              "3                         2              Bank_353            Panama  \n",
              "4                         9               Bank_57        Luxembourg  "
            ]
          },
          "execution_count": 3,
          "metadata": {},
          "output_type": "execute_result"
        }
      ],
      "source": [
        "#Step 1. Load the dataset\n",
        "data = pd.read_csv('/Users/nataliewaugh/Documents/DataCode/Detecting_Money_Laundering_Patterns-/data/Money_ Laundering_Dataset.csv')\n",
        "\n",
        "#Step 2. show the first few rows of the dataset\n",
        "data.head()"
      ]
    },
    {
      "cell_type": "code",
      "execution_count": 4,
      "metadata": {},
      "outputs": [
        {
          "name": "stdout",
          "output_type": "stream",
          "text": [
            "<class 'pandas.core.frame.DataFrame'>\n",
            "RangeIndex: 10000 entries, 0 to 9999\n",
            "Data columns (total 14 columns):\n",
            " #   Column                       Non-Null Count  Dtype  \n",
            "---  ------                       --------------  -----  \n",
            " 0   Transaction ID               10000 non-null  object \n",
            " 1   Country                      10000 non-null  object \n",
            " 2   Amount (USD)                 10000 non-null  float64\n",
            " 3   Transaction Type             10000 non-null  object \n",
            " 4   Date of Transaction          10000 non-null  object \n",
            " 5   Person Involved              10000 non-null  object \n",
            " 6   Industry                     10000 non-null  object \n",
            " 7   Destination Country          10000 non-null  object \n",
            " 8   Reported by Authority        10000 non-null  bool   \n",
            " 9   Source of Money              10000 non-null  object \n",
            " 10  Money Laundering Risk Score  10000 non-null  int64  \n",
            " 11  Shell Companies Involved     10000 non-null  int64  \n",
            " 12  Financial Institution        10000 non-null  object \n",
            " 13  Tax Haven Country            10000 non-null  object \n",
            "dtypes: bool(1), float64(1), int64(2), object(10)\n",
            "memory usage: 1.0+ MB\n"
          ]
        }
      ],
      "source": [
        "# Step 3. Display summary of dataset structure, including column names, non-null counts, and data types.\n",
        "data.info()"
      ]
    },
    {
      "cell_type": "markdown",
      "metadata": {},
      "source": [
        "3. **Clean the Dataset**\n",
        "\n",
        "I will check for irregularities across the dataset which may hinder further analysis i.e spelling mistakes and duplication. Moneytary values will be brought down to 0 decimal places "
      ]
    },
    {
      "cell_type": "code",
      "execution_count": 5,
      "metadata": {},
      "outputs": [],
      "source": [
        "# Step 4. Drop columns that are not needed for analysis\n",
        "data.drop(columns=['Transaction ID'], inplace=True)"
      ]
    },
    {
      "cell_type": "code",
      "execution_count": 6,
      "metadata": {},
      "outputs": [
        {
          "name": "stdout",
          "output_type": "stream",
          "text": [
            "3680\n"
          ]
        }
      ],
      "source": [
        "# Step 5. Check for duplicate values in 'Person Involved' column\n",
        "print(data['Person Involved'].duplicated().sum())"
      ]
    },
    {
      "cell_type": "code",
      "execution_count": 7,
      "metadata": {},
      "outputs": [
        {
          "name": "stdout",
          "output_type": "stream",
          "text": [
            "['Person_1101' 'Person_7484' 'Person_3655' ... 'Person_6348' 'Person_4171'\n",
            " 'Person_3267']\n"
          ]
        }
      ],
      "source": [
        "print(data['Person Involved'].unique())"
      ]
    },
    {
      "cell_type": "markdown",
      "metadata": {},
      "source": [
        "Initially, I considered removing the `'Person Involved'` column because it contains coded identifiers. However, after discovering that there are 3,680 duplicate entries, it’s clear that this column provides valuable information for analysis. These repeated entries can help identify individuals involved in multiple transactions, which is important for detecting suspicious patterns or behaviors."
      ]
    },
    {
      "cell_type": "code",
      "execution_count": 8,
      "metadata": {},
      "outputs": [
        {
          "name": "stdout",
          "output_type": "stream",
          "text": [
            "9501\n"
          ]
        },
        {
          "data": {
            "text/plain": [
              "Financial Institution\n",
              "Bank_81     36\n",
              "Bank_260    36\n",
              "Bank_100    35\n",
              "Bank_120    34\n",
              "Bank_438    33\n",
              "            ..\n",
              "Bank_199    11\n",
              "Bank_169    11\n",
              "Bank_269    11\n",
              "Bank_249     9\n",
              "Bank_133     9\n",
              "Name: count, Length: 499, dtype: int64"
            ]
          },
          "execution_count": 8,
          "metadata": {},
          "output_type": "execute_result"
        }
      ],
      "source": [
        "# Step 6. Check for duplicate values in 'Financial Institution' column\n",
        "print(data['Financial Institution'].duplicated().sum())\n",
        "data['Financial Institution'].value_counts()"
      ]
    },
    {
      "cell_type": "markdown",
      "metadata": {},
      "source": [
        "The exploration above shows that there is repetition in the `'Financial Institution`' involved, with some banks appearing significantly more often than others. Therefore, I will retain this column to further analyze whether there is any correlation between the financial institution and the legality of the transactions."
      ]
    },
    {
      "cell_type": "code",
      "execution_count": 9,
      "metadata": {},
      "outputs": [
        {
          "name": "stdout",
          "output_type": "stream",
          "text": [
            "['Construction' 'Luxury Goods' 'Oil & Gas' 'Real Estate' 'Arms Trade'\n",
            " 'Casinos' 'Finance']\n"
          ]
        }
      ],
      "source": [
        "#Step 7. Check for irregularies in 'Industry' column\n",
        "print(data['Industry'].unique())"
      ]
    },
    {
      "cell_type": "markdown",
      "metadata": {},
      "source": [
        "`'Industry`' column contains seven industries and no irregularities in the data. "
      ]
    },
    {
      "cell_type": "code",
      "execution_count": 10,
      "metadata": {},
      "outputs": [
        {
          "name": "stdout",
          "output_type": "stream",
          "text": [
            "[ True False]\n",
            "['Illegal' 'Legal']\n",
            "['USA' 'South Africa' 'Switzerland' 'Russia' 'Brazil' 'UK' 'India' 'China'\n",
            " 'Singapore' 'UAE']\n",
            "['Singapore' 'Bahamas' 'Switzerland' 'Panama' 'Luxembourg'\n",
            " 'Cayman Islands']\n"
          ]
        }
      ],
      "source": [
        "#Step 8. Check for irregularities in remaining columns \n",
        "print(data['Reported by Authority'].unique())\n",
        "print(data['Source of Money'].unique())\n",
        "print(data['Destination Country'].unique())\n",
        "print(data['Tax Haven Country'].unique())\n",
        " "
      ]
    },
    {
      "cell_type": "markdown",
      "metadata": {},
      "source": [
        "The remaining columns in the dataset do not show any irregularities in their entries. There are a total of 10 countries where the source of money originates and six tax haven countries. Overall, the data quality in these columns appears to be good."
      ]
    },
    {
      "cell_type": "code",
      "execution_count": 11,
      "metadata": {},
      "outputs": [
        {
          "name": "stdout",
          "output_type": "stream",
          "text": [
            "0    3267530.0\n",
            "1    4965767.0\n",
            "2      94168.0\n",
            "3     386420.0\n",
            "4     643378.0\n",
            "Name: Amount (USD), dtype: float64\n"
          ]
        }
      ],
      "source": [
        "# Step 9. Change the monetary values to 0 decimal places\n",
        "data['Amount (USD)'] = data['Amount (USD)'].round(0)\n",
        "print(data['Amount (USD)'].head())\n",
        "  "
      ]
    },
    {
      "cell_type": "markdown",
      "metadata": {},
      "source": [
        "4. **Time Shift data**\n",
        "\n",
        "The `Date of Transaction` in the dataset range from 2013 onwards. For the purpose of this analysis, the dates have been shifted forward by 10 years to align with the current timeline (2023 and beyond). This adjustment helps in contextualizing the data to present-day conditions without altering the relative timing of transactions, allowing for more relevant insights while maintaining data integrity."
      ]
    },
    {
      "cell_type": "code",
      "execution_count": 12,
      "metadata": {},
      "outputs": [
        {
          "name": "stdout",
          "output_type": "stream",
          "text": [
            "0   2023-01-01 00:00:00\n",
            "1   2023-01-01 01:00:00\n",
            "2   2023-01-01 02:00:00\n",
            "3   2023-01-01 03:00:00\n",
            "4   2023-01-01 04:00:00\n",
            "Name: Date of Transaction, dtype: datetime64[ns]\n"
          ]
        }
      ],
      "source": [
        "# Step 10. Check date column is in the correct datetime format to allow for analysis \n",
        "data['Date of Transaction'] = pd.to_datetime(data['Date of Transaction'])\n",
        "\n",
        "# Step 11.Shift the dates forward by 10 years\n",
        "data['Date of Transaction'] = data['Date of Transaction'] + pd.DateOffset(years=10)\n",
        "print(data['Date of Transaction'].head())"
      ]
    },
    {
      "cell_type": "markdown",
      "metadata": {
        "id": "ZY3l0-AxO93d"
      },
      "source": [
        "---"
      ]
    },
    {
      "cell_type": "markdown",
      "metadata": {
        "id": "uFQo3ycuO-v6"
      },
      "source": [
        "## Initial Analysis "
      ]
    },
    {
      "cell_type": "markdown",
      "metadata": {},
      "source": [
        "This analysis begins with basic descriptive statistics — specifically, the mean, median, and mode of the numerical columns — to uncover initial patterns in the dataset."
      ]
    },
    {
      "cell_type": "code",
      "execution_count": 13,
      "metadata": {},
      "outputs": [
        {
          "name": "stdout",
          "output_type": "stream",
          "text": [
            "                                     mean     median       mode\n",
            "Amount (USD)                 2501817.6671  2501310.5  2655927.0\n",
            "Reported by Authority              0.2005        0.0      False\n",
            "Money Laundering Risk Score        5.5264        6.0          9\n",
            "Shell Companies Involved           4.4694        4.0          0\n"
          ]
        }
      ],
      "source": [
        "#Step 12. Import seaborn and matplotlib for data visualisation\n",
        "import seaborn as sns\n",
        "import matplotlib.pyplot as plt\n",
        "\n",
        "#Step 13. Select numeric columns for descriptive statistics, this will include float64, int64, and bool types\n",
        "numeric_cols = data.select_dtypes(include=['float64', 'int64', 'bool']).columns\n",
        " \n",
        "#Step 14. Calculate mean, median, mode for each numeric column\n",
        "stats = pd.DataFrame(index=numeric_cols, columns=['mean', 'median', 'mode'])\n",
        "\n",
        "for col in numeric_cols:\n",
        "    stats.loc[col, 'mean'] = data[col].mean()\n",
        "    stats.loc[col, 'median'] = data[col].median()\n",
        "    stats.loc[col, 'mode'] = data[col].mode().iloc[0]\n",
        "\n",
        "print(stats)\n"
      ]
    },
    {
      "cell_type": "markdown",
      "metadata": {},
      "source": []
    },
    {
      "cell_type": "markdown",
      "metadata": {},
      "source": [
        "The Initial analysis of the data shows:\n",
        "- `Amount (USD)` Mean - 2,501,817, therfore on average, transactions involve about $2.5 million. Median - 2,501,310: The middle transaction amount is about $2.5 million, very close to the mean, so distribution might be roughly symmetric and there are less likely to be outliers in the data, as the mean and median are close together. Mode - 2,655,927: The most common transaction amount is about $2.65 million — this is the single value that appears most often.\n",
        "\n",
        "\n",
        "- `Reported By Authority`  Mean - 0.2005: Therefore 20% of transactions were reported by authorities (True = 1, False = 0).\n",
        "Median = 0.0: More than half of transactions were not reported (median is 0 = False).\n",
        "Mode = False: The most common value is False, meaning the majority of transactions are unreported.\n",
        "Conclusion- Only a minority of transactions are reported by authorities, indicating this might be a key flag for suspicious activity.\n",
        "\n",
        "\n",
        "- `Money Laundering Risk Score`  Mean ≈ 5.53: Average risk score is around 5.5 on a scale of between 0 and 9\n",
        "Median = 6: Half of the transactions have a score below 6, half above. Mode = 9: The most frequent score is 9, which could mean many transactions cluster near high risk.\n",
        "\n",
        "- `Shell Companies Involved`  Mean ≈ 4.47: On average, about 4.5 shell companies are involved per transaction.\n",
        "Median = 4: Half of transactions have 4 or fewer shell companies involved. Mode = 0: The most common value is zero, meaning many transactions involve no shell companies at all.\n",
        "\n"
      ]
    },
    {
      "cell_type": "markdown",
      "metadata": {},
      "source": [
        "Next I will visualise the distribution for the four numerical columns."
      ]
    },
    {
      "cell_type": "code",
      "execution_count": null,
      "metadata": {},
      "outputs": [
        {
          "name": "stdout",
          "output_type": "stream",
          "text": [
            "Amount (USD)                   1424364.28\n",
            "Money Laundering Risk Score          2.89\n",
            "Shell Companies Involved             2.88\n",
            "dtype: float64\n"
          ]
        }
      ],
      "source": [
        "#Step 15. Display the statistics for each numeric column\n",
        "numeric_cols = ['Amount (USD)', 'Money Laundering Risk Score', 'Shell Companies Involved']\n",
        "\n",
        "#Step 16. Calculate standard deviation\n",
        "std_devs = data[numeric_cols].std()\n",
        "\n",
        "#Step 17. Round figure to two decimal places  for cleaner display\n",
        "std_devs = std_devs.round(2)\n",
        "print(std_devs)"
      ]
    },
    {
      "cell_type": "markdown",
      "metadata": {},
      "source": [
        "The stanadard deviation for `Amount (USD)` is $1,424,364.28\tThis is very high, so the transaction amounts vary a lot — some are small, some are really big, in the region of $5m.\n",
        "`Money Laundering Risk Score` is \t2.89, the scores range from 1 to 10, and the SD of 2.9 shows a moderate spread, no risk scores are clustered in one area.\n",
        "`Shell Companies Involved` is 2.88, There’s high variation in the number of shell companies involved per transaction — some transactions involve none, while others may involve several. "
      ]
    },
    {
      "cell_type": "markdown",
      "metadata": {},
      "source": [
        "We will plot the data to check the distribution. "
      ]
    },
    {
      "cell_type": "code",
      "execution_count": null,
      "metadata": {},
      "outputs": [
        {
          "data": {
            "image/png": "[encoded data removed]",
            "text/plain": [
              "<Figure size 800x400 with 1 Axes>"
            ]
          },
          "metadata": {},
          "output_type": "display_data"
        }
      ],
      "source": [
        "\n",
        "plt.figure(figsize=(8, 4))\n",
        "sns.countplot(x='Money Laundering Risk Score', data=data, color='darkblue', edgecolor='black')\n",
        "plt.title(\"Money Laundering Risk Score Count\")\n",
        "plt.ylabel(\"Frequency\")\n",
        "plt.xlabel(\"Risk Score\")\n",
        "plt.tight_layout()\n",
        "plt.show()"
      ]
    },
    {
      "cell_type": "code",
      "execution_count": null,
      "metadata": {},
      "outputs": [
        {
          "data": {
            "image/png": "[encoded data removed]",
            "text/plain": [
              "<Figure size 800x400 with 1 Axes>"
            ]
          },
          "metadata": {},
          "output_type": "display_data"
        }
      ],
      "source": [
        "\n",
        "plt.figure(figsize=(8, 4))\n",
        "sns.countplot(x='Shell Companies Involved', data=data, color='darkblue', edgecolor='black')\n",
        "plt.title(\"Shell Companies Involved\")\n",
        "plt.ylabel(\"Frequency\")\n",
        "plt.xlabel(\"Number of Shell Companies\")\n",
        "plt.tight_layout()\n",
        "plt.show()"
      ]
    },
    {
      "cell_type": "code",
      "execution_count": 31,
      "metadata": {},
      "outputs": [
        {
          "name": "stdout",
          "output_type": "stream",
          "text": [
            "Standard Deviation for Amount (USD): $1,424,364.28\n"
          ]
        }
      ],
      "source": [
        "std_amount = data['Amount (USD)'].std()\n",
        "print(f\"Standard Deviation for Amount (USD): ${std_amount:,.2f}\")"
      ]
    },
    {
      "cell_type": "code",
      "execution_count": 39,
      "metadata": {},
      "outputs": [
        {
          "data": {
            "image/png": "[encoded data removed]",
            "text/plain": [
              "<Figure size 800x600 with 1 Axes>"
            ]
          },
          "metadata": {},
          "output_type": "display_data"
        }
      ],
      "source": [
        "plt.figure(figsize=(8, 6))\n",
        "sns.boxplot(y=data['Amount (USD)'], color='lightgreen')\n",
        "plt.title('Transaction Amounts (USD)', fontsize=14)\n",
        "plt.xlabel('Amount (USD)', fontsize=12)\n",
        "plt.grid(True)\n",
        "plt.show()"
      ]
    },
    {
      "cell_type": "markdown",
      "metadata": {},
      "source": [
        "This box plot shows that the mid point for most transactions is $2.5million, most transactions cluster around $1.5m and $3.75m. There are no extreme outliers beyond $5m and there can't be a transaction which is less than $0. "
      ]
    },
    {
      "cell_type": "markdown",
      "metadata": {},
      "source": []
    },
    {
      "cell_type": "code",
      "execution_count": 40,
      "metadata": {},
      "outputs": [
        {
          "data": {
            "text/plain": [
              "Industry\n",
              "Luxury Goods    5.373544\n",
              "Oil & Gas       5.427843\n",
              "Real Estate     5.455301\n",
              "Casinos         5.556282\n",
              "Arms Trade      5.570721\n",
              "Construction    5.583562\n",
              "Finance         5.711864\n",
              "Name: Money Laundering Risk Score, dtype: float64"
            ]
          },
          "execution_count": 40,
          "metadata": {},
          "output_type": "execute_result"
        }
      ],
      "source": [
        "data.groupby('Industry')['Money Laundering Risk Score'].mean().sort_values()"
      ]
    },
    {
      "cell_type": "markdown",
      "metadata": {},
      "source": [
        "Bearing in mind the `Money Laundering Risk Score`range from 1-9 inclusive, there isn't a great deal of difference between the low and the highest score."
      ]
    },
    {
      "cell_type": "markdown",
      "metadata": {},
      "source": [
        "---"
      ]
    },
    {
      "cell_type": "markdown",
      "metadata": {},
      "source": [
        "## Advanced Analysis "
      ]
    }
  ],
  "metadata": {
    "accelerator": "GPU",
    "colab": {
      "name": "Data Practitioner Jupyter Notebook.ipynb",
      "provenance": [],
      "toc_visible": true
    },
    "kernelspec": {
      "display_name": ".venv",
      "language": "python",
      "name": "python3"
    },
    "language_info": {
      "codemirror_mode": {
        "name": "ipython",
        "version": 3
      },
      "file_extension": ".py",
      "mimetype": "text/x-python",
      "name": "python",
      "nbconvert_exporter": "python",
      "pygments_lexer": "ipython3",
      "version": "3.12.8"
    },
    "orig_nbformat": 2
  },
  "nbformat": 4,
  "nbformat_minor": 2
}
