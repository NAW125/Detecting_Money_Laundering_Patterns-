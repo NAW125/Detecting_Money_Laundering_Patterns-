{
 "cells": [
  {
   "cell_type": "markdown",
   "id": "062d6272",
   "metadata": {},
   "source": [
    "# Decision Tree"
   ]
  },
  {
   "cell_type": "markdown",
   "id": "d32c93ce",
   "metadata": {},
   "source": [
    "1. **Aims and Objectives**\n",
    "\n",
    "Following the exploratory data analysis and visualisations developed in Tableau, this section will  apply a supervised machine learning approach to predict the likelihood that a financial transaction is fraudulent. The model is trained on the pre-processed, labeled dataset, prepared in the `etl_process.ipynb` notebook. By using classification techniques, the goal is to identify key patterns and risk indicators that may signal potential money laundering or financial crime activity before the transaction occurs.\n",
    "\n",
    "The workflow I will use for this supervised learning is\n",
    "- Split the dataset into train and test set\n",
    "- Fit the pipeline\n",
    "- Evaluate your model. "
   ]
  },
  {
   "cell_type": "markdown",
   "id": "72af0d74",
   "metadata": {},
   "source": [
    "1. **Import the data**\n"
   ]
  }
 ],
 "metadata": {
  "kernelspec": {
   "display_name": ".venv",
   "language": "python",
   "name": "python3"
  },
  "language_info": {
   "name": "python",
   "version": "3.12.8"
  }
 },
 "nbformat": 4,
 "nbformat_minor": 5
}
