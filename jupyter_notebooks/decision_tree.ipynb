{
 "cells": [
  {
   "cell_type": "markdown",
   "id": "062d6272",
   "metadata": {},
   "source": [
    "# Decision Tree"
   ]
  },
  {
   "cell_type": "markdown",
   "id": "d32c93ce",
   "metadata": {},
   "source": [
    "1. **Aims and Objectives**\n",
    "\n",
    "Following the exploratory data analysis and visualisations developed in Tableau, this section will  apply a supervised machine learning approach to predict the likelihood that a financial transaction is fraudulent. The model is trained on the pre-processed, labeled dataset, prepared in the `etl_process.ipynb` notebook. By using classification techniques, the goal is to identify key patterns and risk indicators that may signal potential money laundering or financial crime activity before the transaction occurs.\n",
    "\n",
    "The workflow I will use for this supervised learning is\n",
    "- Split the dataset into train and test set\n",
    "- Fit the pipeline\n",
    "- Evaluate your model. "
   ]
  },
  {
   "cell_type": "code",
   "execution_count": 5,
   "id": "f946e234",
   "metadata": {},
   "outputs": [],
   "source": [
    "#step 0. Import necessary libraries\n",
    "import numpy as np\n",
    "import pandas as pd\n",
    "import matplotlib.pyplot as plt\n",
    "import seaborn as sns\n",
    "sns.set_style(\"whitegrid\")\n",
    "\n",
    "import warnings\n",
    "warnings.filterwarnings('ignore')"
   ]
  },
  {
   "cell_type": "markdown",
   "id": "72af0d74",
   "metadata": {},
   "source": [
    "1. **Import the data**\n"
   ]
  },
  {
   "cell_type": "code",
   "execution_count": 6,
   "id": "b238cfd2",
   "metadata": {},
   "outputs": [
    {
     "data": {
      "text/html": [
       "<div>\n",
       "<style scoped>\n",
       "    .dataframe tbody tr th:only-of-type {\n",
       "        vertical-align: middle;\n",
       "    }\n",
       "\n",
       "    .dataframe tbody tr th {\n",
       "        vertical-align: top;\n",
       "    }\n",
       "\n",
       "    .dataframe thead th {\n",
       "        text-align: right;\n",
       "    }\n",
       "</style>\n",
       "<table border=\"1\" class=\"dataframe\">\n",
       "  <thead>\n",
       "    <tr style=\"text-align: right;\">\n",
       "      <th></th>\n",
       "      <th>Origin Country</th>\n",
       "      <th>Amount (USD)</th>\n",
       "      <th>Transaction Type</th>\n",
       "      <th>Date of Transaction</th>\n",
       "      <th>Person Involved</th>\n",
       "      <th>Industry</th>\n",
       "      <th>Destination Country</th>\n",
       "      <th>Reported by Authority</th>\n",
       "      <th>Source of Money</th>\n",
       "      <th>Money Laundering Risk Score</th>\n",
       "      <th>Shell Companies Involved</th>\n",
       "      <th>Financial Institution</th>\n",
       "      <th>Tax Haven Country</th>\n",
       "      <th>Domestic or Cross-Border</th>\n",
       "      <th>Origin Country Category</th>\n",
       "      <th>Destination Tax Haven Flag</th>\n",
       "    </tr>\n",
       "  </thead>\n",
       "  <tbody>\n",
       "    <tr>\n",
       "      <th>0</th>\n",
       "      <td>Brazil</td>\n",
       "      <td>3267530.0</td>\n",
       "      <td>Offshore Transfer</td>\n",
       "      <td>2023-01-01 00:00:00</td>\n",
       "      <td>Person_1101</td>\n",
       "      <td>Construction</td>\n",
       "      <td>USA</td>\n",
       "      <td>True</td>\n",
       "      <td>Illegal</td>\n",
       "      <td>6</td>\n",
       "      <td>1</td>\n",
       "      <td>Bank_40</td>\n",
       "      <td>Singapore</td>\n",
       "      <td>Cross-Border</td>\n",
       "      <td>Upper-Middle / Partial Regulated</td>\n",
       "      <td>Non-Tax Haven</td>\n",
       "    </tr>\n",
       "    <tr>\n",
       "      <th>1</th>\n",
       "      <td>China</td>\n",
       "      <td>4965767.0</td>\n",
       "      <td>Stocks Transfer</td>\n",
       "      <td>2023-01-01 01:00:00</td>\n",
       "      <td>Person_7484</td>\n",
       "      <td>Luxury Goods</td>\n",
       "      <td>South Africa</td>\n",
       "      <td>False</td>\n",
       "      <td>Illegal</td>\n",
       "      <td>9</td>\n",
       "      <td>0</td>\n",
       "      <td>Bank_461</td>\n",
       "      <td>Bahamas</td>\n",
       "      <td>Cross-Border</td>\n",
       "      <td>Upper-Middle / Partial Regulated</td>\n",
       "      <td>Non-Tax Haven</td>\n",
       "    </tr>\n",
       "    <tr>\n",
       "      <th>2</th>\n",
       "      <td>UK</td>\n",
       "      <td>94168.0</td>\n",
       "      <td>Stocks Transfer</td>\n",
       "      <td>2023-01-01 02:00:00</td>\n",
       "      <td>Person_3655</td>\n",
       "      <td>Construction</td>\n",
       "      <td>Switzerland</td>\n",
       "      <td>True</td>\n",
       "      <td>Illegal</td>\n",
       "      <td>1</td>\n",
       "      <td>3</td>\n",
       "      <td>Bank_387</td>\n",
       "      <td>Switzerland</td>\n",
       "      <td>Cross-Border</td>\n",
       "      <td>High Income / Regulated</td>\n",
       "      <td>Tax Haven</td>\n",
       "    </tr>\n",
       "    <tr>\n",
       "      <th>3</th>\n",
       "      <td>UAE</td>\n",
       "      <td>386420.0</td>\n",
       "      <td>Cash Withdrawal</td>\n",
       "      <td>2023-01-01 03:00:00</td>\n",
       "      <td>Person_3226</td>\n",
       "      <td>Oil &amp; Gas</td>\n",
       "      <td>Russia</td>\n",
       "      <td>False</td>\n",
       "      <td>Illegal</td>\n",
       "      <td>7</td>\n",
       "      <td>2</td>\n",
       "      <td>Bank_353</td>\n",
       "      <td>Panama</td>\n",
       "      <td>Cross-Border</td>\n",
       "      <td>High Income / Tax Haven</td>\n",
       "      <td>Non-Tax Haven</td>\n",
       "    </tr>\n",
       "    <tr>\n",
       "      <th>4</th>\n",
       "      <td>South Africa</td>\n",
       "      <td>643378.0</td>\n",
       "      <td>Cryptocurrency</td>\n",
       "      <td>2023-01-01 04:00:00</td>\n",
       "      <td>Person_7975</td>\n",
       "      <td>Real Estate</td>\n",
       "      <td>USA</td>\n",
       "      <td>True</td>\n",
       "      <td>Illegal</td>\n",
       "      <td>1</td>\n",
       "      <td>9</td>\n",
       "      <td>Bank_57</td>\n",
       "      <td>Luxembourg</td>\n",
       "      <td>Cross-Border</td>\n",
       "      <td>Upper-Middle / Regulated</td>\n",
       "      <td>Non-Tax Haven</td>\n",
       "    </tr>\n",
       "  </tbody>\n",
       "</table>\n",
       "</div>"
      ],
      "text/plain": [
       "  Origin Country  Amount (USD)   Transaction Type  Date of Transaction  \\\n",
       "0         Brazil     3267530.0  Offshore Transfer  2023-01-01 00:00:00   \n",
       "1          China     4965767.0    Stocks Transfer  2023-01-01 01:00:00   \n",
       "2             UK       94168.0    Stocks Transfer  2023-01-01 02:00:00   \n",
       "3            UAE      386420.0    Cash Withdrawal  2023-01-01 03:00:00   \n",
       "4   South Africa      643378.0     Cryptocurrency  2023-01-01 04:00:00   \n",
       "\n",
       "  Person Involved      Industry Destination Country  Reported by Authority  \\\n",
       "0     Person_1101  Construction                 USA                   True   \n",
       "1     Person_7484  Luxury Goods        South Africa                  False   \n",
       "2     Person_3655  Construction         Switzerland                   True   \n",
       "3     Person_3226     Oil & Gas              Russia                  False   \n",
       "4     Person_7975   Real Estate                 USA                   True   \n",
       "\n",
       "  Source of Money  Money Laundering Risk Score  Shell Companies Involved  \\\n",
       "0         Illegal                            6                         1   \n",
       "1         Illegal                            9                         0   \n",
       "2         Illegal                            1                         3   \n",
       "3         Illegal                            7                         2   \n",
       "4         Illegal                            1                         9   \n",
       "\n",
       "  Financial Institution Tax Haven Country Domestic or Cross-Border  \\\n",
       "0               Bank_40         Singapore             Cross-Border   \n",
       "1              Bank_461           Bahamas             Cross-Border   \n",
       "2              Bank_387       Switzerland             Cross-Border   \n",
       "3              Bank_353            Panama             Cross-Border   \n",
       "4               Bank_57        Luxembourg             Cross-Border   \n",
       "\n",
       "            Origin Country Category Destination Tax Haven Flag  \n",
       "0  Upper-Middle / Partial Regulated              Non-Tax Haven  \n",
       "1  Upper-Middle / Partial Regulated              Non-Tax Haven  \n",
       "2           High Income / Regulated                  Tax Haven  \n",
       "3           High Income / Tax Haven              Non-Tax Haven  \n",
       "4          Upper-Middle / Regulated              Non-Tax Haven  "
      ]
     },
     "execution_count": 6,
     "metadata": {},
     "output_type": "execute_result"
    }
   ],
   "source": [
    "#Step 1. Load the dataset\n",
    "data = pd.read_csv ('/Users/nataliewaugh/Documents/DataCode/Detecting_Money_Laundering_Patterns-/data/cleaned_money_laundering_datasetrevised.csv') \n",
    "\n",
    "#Step 2. show the first few rows of the dataset\n",
    "data.head()"
   ]
  },
  {
   "cell_type": "markdown",
   "id": "4541cc9c",
   "metadata": {},
   "source": [
    "2. **Prepare the data**"
   ]
  },
  {
   "cell_type": "code",
   "execution_count": null,
   "id": "76254ad4",
   "metadata": {},
   "outputs": [],
   "source": [
    "#Step 3 Drop columns that are not needed.\n",
    "data = data.drop(columns=[\n",
    "    'Date of Transaction',        \n",
    "    'Person Involved',            \n",
    "    'Financial Institution'        \n",
    "])\n",
    "\n",
    "#Step 4 Set target\n",
    "target = 'Source of Money'\n",
    "X = data.drop(columns=[target])\n",
    "y = data[target]"
   ]
  },
  {
   "cell_type": "code",
   "execution_count": 19,
   "id": "d6d30b50",
   "metadata": {},
   "outputs": [],
   "source": [
    "# Step 5. Confirm numeric columns\n",
    "numeric_features = [\n",
    "    'Amount (USD)',\n",
    "    'Money Laundering Risk Score',\n",
    "    'Shell Companies Involved'\n",
    "]\n",
    "# Step 6 define all non-numeric columns (after dropping irrelevant ones)\n",
    "categorical_features = [\n",
    "    'Origin Country',\n",
    "    'Transaction Type',\n",
    "    'Industry',\n",
    "    'Destination Country',\n",
    "    'Reported by Authority',\n",
    "    'Tax Haven Country',\n",
    "    'Domestic or Cross-Border',\n",
    "    'Origin Country Category',\n",
    "    'Destination Tax Haven Flag'\n",
    "]\n",
    "\n",
    "# Step 7 Define the preprocessor\n",
    "from sklearn.compose import ColumnTransformer\n",
    "from sklearn.preprocessing import StandardScaler, OneHotEncoder\n",
    "\n",
    "preprocessor = ColumnTransformer(\n",
    "    transformers=[\n",
    "        ('num', StandardScaler(), numeric_features),\n",
    "        ('cat', OneHotEncoder(handle_unknown='ignore'), categorical_features)\n",
    "    ]\n",
    ")"
   ]
  },
  {
   "cell_type": "code",
   "execution_count": null,
   "id": "0545b156",
   "metadata": {},
   "outputs": [
    {
     "name": "stdout",
     "output_type": "stream",
     "text": [
      "  (0, 0)\t0.5376086952287111\n",
      "  (0, 1)\t0.16367954583222122\n",
      "  (0, 2)\t-1.2048079468837176\n",
      "  (0, 3)\t1.0\n",
      "  (0, 15)\t1.0\n",
      "  (0, 20)\t1.0\n",
      "  (0, 34)\t1.0\n",
      "  (0, 36)\t1.0\n",
      "  (0, 41)\t1.0\n",
      "  (0, 43)\t1.0\n",
      "  (0, 49)\t1.0\n",
      "  (0, 51)\t1.0\n",
      "  (1, 0)\t1.729945475832176\n",
      "  (1, 1)\t1.2005009932491624\n",
      "  (1, 2)\t-1.5520748941609752\n",
      "  (1, 4)\t1.0\n",
      "  (1, 17)\t1.0\n",
      "  (1, 22)\t1.0\n",
      "  (1, 30)\t1.0\n",
      "  (1, 35)\t1.0\n",
      "  (1, 37)\t1.0\n",
      "  (1, 43)\t1.0\n",
      "  (1, 49)\t1.0\n",
      "  (1, 51)\t1.0\n",
      "  (2, 0)\t-1.690417328682776\n",
      "  :\t:\n",
      "  (2, 52)\t1.0\n",
      "  (3, 0)\t-1.4852264108044564\n",
      "  (3, 1)\t0.5092866949712016\n",
      "  (3, 2)\t-0.85754099960646\n",
      "  (3, 10)\t1.0\n",
      "  (3, 13)\t1.0\n",
      "  (3, 23)\t1.0\n",
      "  (3, 28)\t1.0\n",
      "  (3, 35)\t1.0\n",
      "  (3, 40)\t1.0\n",
      "  (3, 43)\t1.0\n",
      "  (3, 46)\t1.0\n",
      "  (3, 51)\t1.0\n",
      "  (4, 0)\t-1.3048155055713793\n",
      "  (4, 1)\t-1.564356199862681\n",
      "  (4, 2)\t1.5733276313343432\n",
      "  (4, 8)\t1.0\n",
      "  (4, 14)\t1.0\n",
      "  (4, 24)\t1.0\n",
      "  (4, 34)\t1.0\n",
      "  (4, 36)\t1.0\n",
      "  (4, 39)\t1.0\n",
      "  (4, 43)\t1.0\n",
      "  (4, 50)\t1.0\n",
      "  (4, 51)\t1.0\n"
     ]
    }
   ],
   "source": [
    "# Step 8 print the first 5 rows of the transformed data\n",
    "X_preprocessed = preprocessor.fit_transform(X)\n",
    "print(X_preprocessed[:5])  "
   ]
  },
  {
   "cell_type": "markdown",
   "id": "2b19f84a",
   "metadata": {},
   "source": [
    "As this is a classification problem, I will use the Decision Tree Classifier from sklearn."
   ]
  },
  {
   "cell_type": "code",
   "execution_count": 8,
   "id": "3a31ccad",
   "metadata": {},
   "outputs": [],
   "source": [
    "#Step 3 Import the Decision Tree Classifier\n",
    "from sklearn.tree import DecisionTreeClassifier"
   ]
  },
  {
   "cell_type": "code",
   "execution_count": null,
   "id": "f4cdae9a",
   "metadata": {},
   "outputs": [],
   "source": []
  },
  {
   "cell_type": "markdown",
   "id": "8ac092b1",
   "metadata": {},
   "source": [
    "The target variable is `Source of Money` I will split the data to train and test set."
   ]
  },
  {
   "cell_type": "code",
   "execution_count": 11,
   "id": "2738effa",
   "metadata": {},
   "outputs": [
    {
     "name": "stdout",
     "output_type": "stream",
     "text": [
      "* Train set: (8000, 15) (8000,) \n",
      "* Test set: (2000, 15) (2000,)\n"
     ]
    }
   ],
   "source": [
    "#Step 4. import the train_test_split function\n",
    "from sklearn.model_selection import train_test_split\n",
    "\n",
    "#Step 5. Drop the target variable and split the data into features and target\n",
    "X_train, X_test,y_train, y_test = train_test_split(\n",
    "    data.drop(['Source of Money'],axis=1),\n",
    "    data['Source of Money'],\n",
    "    test_size=0.2,\n",
    "    random_state=101\n",
    "    )\n",
    "\n",
    "print(\"* Train set:\", X_train.shape, y_train.shape, \"\\n* Test set:\",  X_test.shape, y_test.shape)"
   ]
  },
  {
   "cell_type": "markdown",
   "id": "b8e571c8",
   "metadata": {},
   "source": [
    "I will apply feature scaling, perform feature selection, and build a model using DecisionTreeClassifier. To ensure reproducibility of results across different environments, I set a fixed random_state. All these steps—scaling, selecting features, and modeling—are combined into a single Pipeline using scikit-learn for cleaner and more efficient workflow management."
   ]
  },
  {
   "cell_type": "code",
   "execution_count": 12,
   "id": "9412be44",
   "metadata": {},
   "outputs": [
    {
     "data": {
      "text/html": [
       "<style>#sk-container-id-1 {color: black;}#sk-container-id-1 pre{padding: 0;}#sk-container-id-1 div.sk-toggleable {background-color: white;}#sk-container-id-1 label.sk-toggleable__label {cursor: pointer;display: block;width: 100%;margin-bottom: 0;padding: 0.3em;box-sizing: border-box;text-align: center;}#sk-container-id-1 label.sk-toggleable__label-arrow:before {content: \"▸\";float: left;margin-right: 0.25em;color: #696969;}#sk-container-id-1 label.sk-toggleable__label-arrow:hover:before {color: black;}#sk-container-id-1 div.sk-estimator:hover label.sk-toggleable__label-arrow:before {color: black;}#sk-container-id-1 div.sk-toggleable__content {max-height: 0;max-width: 0;overflow: hidden;text-align: left;background-color: #f0f8ff;}#sk-container-id-1 div.sk-toggleable__content pre {margin: 0.2em;color: black;border-radius: 0.25em;background-color: #f0f8ff;}#sk-container-id-1 input.sk-toggleable__control:checked~div.sk-toggleable__content {max-height: 200px;max-width: 100%;overflow: auto;}#sk-container-id-1 input.sk-toggleable__control:checked~label.sk-toggleable__label-arrow:before {content: \"▾\";}#sk-container-id-1 div.sk-estimator input.sk-toggleable__control:checked~label.sk-toggleable__label {background-color: #d4ebff;}#sk-container-id-1 div.sk-label input.sk-toggleable__control:checked~label.sk-toggleable__label {background-color: #d4ebff;}#sk-container-id-1 input.sk-hidden--visually {border: 0;clip: rect(1px 1px 1px 1px);clip: rect(1px, 1px, 1px, 1px);height: 1px;margin: -1px;overflow: hidden;padding: 0;position: absolute;width: 1px;}#sk-container-id-1 div.sk-estimator {font-family: monospace;background-color: #f0f8ff;border: 1px dotted black;border-radius: 0.25em;box-sizing: border-box;margin-bottom: 0.5em;}#sk-container-id-1 div.sk-estimator:hover {background-color: #d4ebff;}#sk-container-id-1 div.sk-parallel-item::after {content: \"\";width: 100%;border-bottom: 1px solid gray;flex-grow: 1;}#sk-container-id-1 div.sk-label:hover label.sk-toggleable__label {background-color: #d4ebff;}#sk-container-id-1 div.sk-serial::before {content: \"\";position: absolute;border-left: 1px solid gray;box-sizing: border-box;top: 0;bottom: 0;left: 50%;z-index: 0;}#sk-container-id-1 div.sk-serial {display: flex;flex-direction: column;align-items: center;background-color: white;padding-right: 0.2em;padding-left: 0.2em;position: relative;}#sk-container-id-1 div.sk-item {position: relative;z-index: 1;}#sk-container-id-1 div.sk-parallel {display: flex;align-items: stretch;justify-content: center;background-color: white;position: relative;}#sk-container-id-1 div.sk-item::before, #sk-container-id-1 div.sk-parallel-item::before {content: \"\";position: absolute;border-left: 1px solid gray;box-sizing: border-box;top: 0;bottom: 0;left: 50%;z-index: -1;}#sk-container-id-1 div.sk-parallel-item {display: flex;flex-direction: column;z-index: 1;position: relative;background-color: white;}#sk-container-id-1 div.sk-parallel-item:first-child::after {align-self: flex-end;width: 50%;}#sk-container-id-1 div.sk-parallel-item:last-child::after {align-self: flex-start;width: 50%;}#sk-container-id-1 div.sk-parallel-item:only-child::after {width: 0;}#sk-container-id-1 div.sk-dashed-wrapped {border: 1px dashed gray;margin: 0 0.4em 0.5em 0.4em;box-sizing: border-box;padding-bottom: 0.4em;background-color: white;}#sk-container-id-1 div.sk-label label {font-family: monospace;font-weight: bold;display: inline-block;line-height: 1.2em;}#sk-container-id-1 div.sk-label-container {text-align: center;}#sk-container-id-1 div.sk-container {/* jupyter's `normalize.less` sets `[hidden] { display: none; }` but bootstrap.min.css set `[hidden] { display: none !important; }` so we also need the `!important` here to be able to override the default hidden behavior on the sphinx rendered scikit-learn.org. See: https://github.com/scikit-learn/scikit-learn/issues/21755 */display: inline-block !important;position: relative;}#sk-container-id-1 div.sk-text-repr-fallback {display: none;}</style><div id=\"sk-container-id-1\" class=\"sk-top-container\"><div class=\"sk-text-repr-fallback\"><pre>Pipeline(steps=[(&#x27;feat_scaling&#x27;, StandardScaler()),\n",
       "                (&#x27;feat_selection&#x27;,\n",
       "                 SelectFromModel(estimator=DecisionTreeClassifier(random_state=101))),\n",
       "                (&#x27;model&#x27;, DecisionTreeClassifier(random_state=101))])</pre><b>In a Jupyter environment, please rerun this cell to show the HTML representation or trust the notebook. <br />On GitHub, the HTML representation is unable to render, please try loading this page with nbviewer.org.</b></div><div class=\"sk-container\" hidden><div class=\"sk-item sk-dashed-wrapped\"><div class=\"sk-label-container\"><div class=\"sk-label sk-toggleable\"><input class=\"sk-toggleable__control sk-hidden--visually\" id=\"sk-estimator-id-1\" type=\"checkbox\" ><label for=\"sk-estimator-id-1\" class=\"sk-toggleable__label sk-toggleable__label-arrow\">Pipeline</label><div class=\"sk-toggleable__content\"><pre>Pipeline(steps=[(&#x27;feat_scaling&#x27;, StandardScaler()),\n",
       "                (&#x27;feat_selection&#x27;,\n",
       "                 SelectFromModel(estimator=DecisionTreeClassifier(random_state=101))),\n",
       "                (&#x27;model&#x27;, DecisionTreeClassifier(random_state=101))])</pre></div></div></div><div class=\"sk-serial\"><div class=\"sk-item\"><div class=\"sk-estimator sk-toggleable\"><input class=\"sk-toggleable__control sk-hidden--visually\" id=\"sk-estimator-id-2\" type=\"checkbox\" ><label for=\"sk-estimator-id-2\" class=\"sk-toggleable__label sk-toggleable__label-arrow\">StandardScaler</label><div class=\"sk-toggleable__content\"><pre>StandardScaler()</pre></div></div></div><div class=\"sk-item sk-dashed-wrapped\"><div class=\"sk-label-container\"><div class=\"sk-label sk-toggleable\"><input class=\"sk-toggleable__control sk-hidden--visually\" id=\"sk-estimator-id-3\" type=\"checkbox\" ><label for=\"sk-estimator-id-3\" class=\"sk-toggleable__label sk-toggleable__label-arrow\">feat_selection: SelectFromModel</label><div class=\"sk-toggleable__content\"><pre>SelectFromModel(estimator=DecisionTreeClassifier(random_state=101))</pre></div></div></div><div class=\"sk-parallel\"><div class=\"sk-parallel-item\"><div class=\"sk-item\"><div class=\"sk-label-container\"><div class=\"sk-label sk-toggleable\"><input class=\"sk-toggleable__control sk-hidden--visually\" id=\"sk-estimator-id-4\" type=\"checkbox\" ><label for=\"sk-estimator-id-4\" class=\"sk-toggleable__label sk-toggleable__label-arrow\">estimator: DecisionTreeClassifier</label><div class=\"sk-toggleable__content\"><pre>DecisionTreeClassifier(random_state=101)</pre></div></div></div><div class=\"sk-serial\"><div class=\"sk-item\"><div class=\"sk-estimator sk-toggleable\"><input class=\"sk-toggleable__control sk-hidden--visually\" id=\"sk-estimator-id-5\" type=\"checkbox\" ><label for=\"sk-estimator-id-5\" class=\"sk-toggleable__label sk-toggleable__label-arrow\">DecisionTreeClassifier</label><div class=\"sk-toggleable__content\"><pre>DecisionTreeClassifier(random_state=101)</pre></div></div></div></div></div></div></div></div><div class=\"sk-item\"><div class=\"sk-estimator sk-toggleable\"><input class=\"sk-toggleable__control sk-hidden--visually\" id=\"sk-estimator-id-6\" type=\"checkbox\" ><label for=\"sk-estimator-id-6\" class=\"sk-toggleable__label sk-toggleable__label-arrow\">DecisionTreeClassifier</label><div class=\"sk-toggleable__content\"><pre>DecisionTreeClassifier(random_state=101)</pre></div></div></div></div></div></div></div>"
      ],
      "text/plain": [
       "Pipeline(steps=[('feat_scaling', StandardScaler()),\n",
       "                ('feat_selection',\n",
       "                 SelectFromModel(estimator=DecisionTreeClassifier(random_state=101))),\n",
       "                ('model', DecisionTreeClassifier(random_state=101))])"
      ]
     },
     "execution_count": 12,
     "metadata": {},
     "output_type": "execute_result"
    }
   ],
   "source": [
    "#Step 6. Import necessary libraries for the pipeline\n",
    "from sklearn.pipeline import Pipeline\n",
    "\n",
    "#Step 7. Import Feature Scaling\n",
    "from sklearn.preprocessing import StandardScaler\n",
    "\n",
    "#Step 8. Feat Selection\n",
    "from sklearn.feature_selection import SelectFromModel\n",
    "\n",
    "#Sept 8. Import ML algorithms \n",
    "from sklearn.tree import DecisionTreeClassifier\n",
    "\n",
    "\n",
    "def pipeline_decision_tree_moneylaundering():\n",
    "  pipeline = Pipeline([\n",
    "      ( \"feat_scaling\",StandardScaler() ),\n",
    "\n",
    "      ( \"feat_selection\",SelectFromModel(DecisionTreeClassifier(random_state=101)) ),\n",
    "      \n",
    "      ( \"model\", DecisionTreeClassifier(random_state=101)),\n",
    "\n",
    "    ])\n",
    "\n",
    "  return pipeline\n",
    "\n",
    "pipeline_decision_tree_moneylaundering()"
   ]
  },
  {
   "cell_type": "markdown",
   "id": "2f7ada9d",
   "metadata": {},
   "source": [
    "I will now fit the pipeline - training the model to learn patterns in the data — specifically, the relationships between the features (input variables) and the target `Source of Funds`\n",
    "The variable I am creating is called `laundering_pipeline` and assign it the pipeline I defined above. I will then use the `.fit()` method on that variable to train the pipeline on our data."
   ]
  },
  {
   "cell_type": "code",
   "execution_count": 13,
   "id": "8e00d046",
   "metadata": {},
   "outputs": [
    {
     "ename": "ValueError",
     "evalue": "could not convert string to float: 'Russia'",
     "output_type": "error",
     "traceback": [
      "\u001b[31m---------------------------------------------------------------------------\u001b[39m",
      "\u001b[31mValueError\u001b[39m                                Traceback (most recent call last)",
      "\u001b[36mCell\u001b[39m\u001b[36m \u001b[39m\u001b[32mIn[13]\u001b[39m\u001b[32m, line 2\u001b[39m\n\u001b[32m      1\u001b[39m laundering_pipeline = pipeline_decision_tree_moneylaundering()\n\u001b[32m----> \u001b[39m\u001b[32m2\u001b[39m \u001b[43mlaundering_pipeline\u001b[49m\u001b[43m.\u001b[49m\u001b[43mfit\u001b[49m\u001b[43m(\u001b[49m\u001b[43mX_train\u001b[49m\u001b[43m,\u001b[49m\u001b[43m \u001b[49m\u001b[43my_train\u001b[49m\u001b[43m)\u001b[49m\n",
      "\u001b[36mFile \u001b[39m\u001b[32m~/Documents/DataCode/Detecting_Money_Laundering_Patterns-/.venv/lib/python3.12/site-packages/sklearn/base.py:1152\u001b[39m, in \u001b[36m_fit_context.<locals>.decorator.<locals>.wrapper\u001b[39m\u001b[34m(estimator, *args, **kwargs)\u001b[39m\n\u001b[32m   1145\u001b[39m     estimator._validate_params()\n\u001b[32m   1147\u001b[39m \u001b[38;5;28;01mwith\u001b[39;00m config_context(\n\u001b[32m   1148\u001b[39m     skip_parameter_validation=(\n\u001b[32m   1149\u001b[39m         prefer_skip_nested_validation \u001b[38;5;129;01mor\u001b[39;00m global_skip_validation\n\u001b[32m   1150\u001b[39m     )\n\u001b[32m   1151\u001b[39m ):\n\u001b[32m-> \u001b[39m\u001b[32m1152\u001b[39m     \u001b[38;5;28;01mreturn\u001b[39;00m \u001b[43mfit_method\u001b[49m\u001b[43m(\u001b[49m\u001b[43mestimator\u001b[49m\u001b[43m,\u001b[49m\u001b[43m \u001b[49m\u001b[43m*\u001b[49m\u001b[43margs\u001b[49m\u001b[43m,\u001b[49m\u001b[43m \u001b[49m\u001b[43m*\u001b[49m\u001b[43m*\u001b[49m\u001b[43mkwargs\u001b[49m\u001b[43m)\u001b[49m\n",
      "\u001b[36mFile \u001b[39m\u001b[32m~/Documents/DataCode/Detecting_Money_Laundering_Patterns-/.venv/lib/python3.12/site-packages/sklearn/pipeline.py:423\u001b[39m, in \u001b[36mPipeline.fit\u001b[39m\u001b[34m(self, X, y, **fit_params)\u001b[39m\n\u001b[32m    397\u001b[39m \u001b[38;5;250m\u001b[39m\u001b[33;03m\"\"\"Fit the model.\u001b[39;00m\n\u001b[32m    398\u001b[39m \n\u001b[32m    399\u001b[39m \u001b[33;03mFit all the transformers one after the other and transform the\u001b[39;00m\n\u001b[32m   (...)\u001b[39m\u001b[32m    420\u001b[39m \u001b[33;03m    Pipeline with fitted steps.\u001b[39;00m\n\u001b[32m    421\u001b[39m \u001b[33;03m\"\"\"\u001b[39;00m\n\u001b[32m    422\u001b[39m fit_params_steps = \u001b[38;5;28mself\u001b[39m._check_fit_params(**fit_params)\n\u001b[32m--> \u001b[39m\u001b[32m423\u001b[39m Xt = \u001b[38;5;28;43mself\u001b[39;49m\u001b[43m.\u001b[49m\u001b[43m_fit\u001b[49m\u001b[43m(\u001b[49m\u001b[43mX\u001b[49m\u001b[43m,\u001b[49m\u001b[43m \u001b[49m\u001b[43my\u001b[49m\u001b[43m,\u001b[49m\u001b[43m \u001b[49m\u001b[43m*\u001b[49m\u001b[43m*\u001b[49m\u001b[43mfit_params_steps\u001b[49m\u001b[43m)\u001b[49m\n\u001b[32m    424\u001b[39m \u001b[38;5;28;01mwith\u001b[39;00m _print_elapsed_time(\u001b[33m\"\u001b[39m\u001b[33mPipeline\u001b[39m\u001b[33m\"\u001b[39m, \u001b[38;5;28mself\u001b[39m._log_message(\u001b[38;5;28mlen\u001b[39m(\u001b[38;5;28mself\u001b[39m.steps) - \u001b[32m1\u001b[39m)):\n\u001b[32m    425\u001b[39m     \u001b[38;5;28;01mif\u001b[39;00m \u001b[38;5;28mself\u001b[39m._final_estimator != \u001b[33m\"\u001b[39m\u001b[33mpassthrough\u001b[39m\u001b[33m\"\u001b[39m:\n",
      "\u001b[36mFile \u001b[39m\u001b[32m~/Documents/DataCode/Detecting_Money_Laundering_Patterns-/.venv/lib/python3.12/site-packages/sklearn/pipeline.py:377\u001b[39m, in \u001b[36mPipeline._fit\u001b[39m\u001b[34m(self, X, y, **fit_params_steps)\u001b[39m\n\u001b[32m    375\u001b[39m     cloned_transformer = clone(transformer)\n\u001b[32m    376\u001b[39m \u001b[38;5;66;03m# Fit or load from cache the current transformer\u001b[39;00m\n\u001b[32m--> \u001b[39m\u001b[32m377\u001b[39m X, fitted_transformer = \u001b[43mfit_transform_one_cached\u001b[49m\u001b[43m(\u001b[49m\n\u001b[32m    378\u001b[39m \u001b[43m    \u001b[49m\u001b[43mcloned_transformer\u001b[49m\u001b[43m,\u001b[49m\n\u001b[32m    379\u001b[39m \u001b[43m    \u001b[49m\u001b[43mX\u001b[49m\u001b[43m,\u001b[49m\n\u001b[32m    380\u001b[39m \u001b[43m    \u001b[49m\u001b[43my\u001b[49m\u001b[43m,\u001b[49m\n\u001b[32m    381\u001b[39m \u001b[43m    \u001b[49m\u001b[38;5;28;43;01mNone\u001b[39;49;00m\u001b[43m,\u001b[49m\n\u001b[32m    382\u001b[39m \u001b[43m    \u001b[49m\u001b[43mmessage_clsname\u001b[49m\u001b[43m=\u001b[49m\u001b[33;43m\"\u001b[39;49m\u001b[33;43mPipeline\u001b[39;49m\u001b[33;43m\"\u001b[39;49m\u001b[43m,\u001b[49m\n\u001b[32m    383\u001b[39m \u001b[43m    \u001b[49m\u001b[43mmessage\u001b[49m\u001b[43m=\u001b[49m\u001b[38;5;28;43mself\u001b[39;49m\u001b[43m.\u001b[49m\u001b[43m_log_message\u001b[49m\u001b[43m(\u001b[49m\u001b[43mstep_idx\u001b[49m\u001b[43m)\u001b[49m\u001b[43m,\u001b[49m\n\u001b[32m    384\u001b[39m \u001b[43m    \u001b[49m\u001b[43m*\u001b[49m\u001b[43m*\u001b[49m\u001b[43mfit_params_steps\u001b[49m\u001b[43m[\u001b[49m\u001b[43mname\u001b[49m\u001b[43m]\u001b[49m\u001b[43m,\u001b[49m\n\u001b[32m    385\u001b[39m \u001b[43m\u001b[49m\u001b[43m)\u001b[49m\n\u001b[32m    386\u001b[39m \u001b[38;5;66;03m# Replace the transformer of the step with the fitted\u001b[39;00m\n\u001b[32m    387\u001b[39m \u001b[38;5;66;03m# transformer. This is necessary when loading the transformer\u001b[39;00m\n\u001b[32m    388\u001b[39m \u001b[38;5;66;03m# from the cache.\u001b[39;00m\n\u001b[32m    389\u001b[39m \u001b[38;5;28mself\u001b[39m.steps[step_idx] = (name, fitted_transformer)\n",
      "\u001b[36mFile \u001b[39m\u001b[32m~/Documents/DataCode/Detecting_Money_Laundering_Patterns-/.venv/lib/python3.12/site-packages/joblib/memory.py:326\u001b[39m, in \u001b[36mNotMemorizedFunc.__call__\u001b[39m\u001b[34m(self, *args, **kwargs)\u001b[39m\n\u001b[32m    325\u001b[39m \u001b[38;5;28;01mdef\u001b[39;00m\u001b[38;5;250m \u001b[39m\u001b[34m__call__\u001b[39m(\u001b[38;5;28mself\u001b[39m, *args, **kwargs):\n\u001b[32m--> \u001b[39m\u001b[32m326\u001b[39m     \u001b[38;5;28;01mreturn\u001b[39;00m \u001b[38;5;28;43mself\u001b[39;49m\u001b[43m.\u001b[49m\u001b[43mfunc\u001b[49m\u001b[43m(\u001b[49m\u001b[43m*\u001b[49m\u001b[43margs\u001b[49m\u001b[43m,\u001b[49m\u001b[43m \u001b[49m\u001b[43m*\u001b[49m\u001b[43m*\u001b[49m\u001b[43mkwargs\u001b[49m\u001b[43m)\u001b[49m\n",
      "\u001b[36mFile \u001b[39m\u001b[32m~/Documents/DataCode/Detecting_Money_Laundering_Patterns-/.venv/lib/python3.12/site-packages/sklearn/pipeline.py:957\u001b[39m, in \u001b[36m_fit_transform_one\u001b[39m\u001b[34m(transformer, X, y, weight, message_clsname, message, **fit_params)\u001b[39m\n\u001b[32m    955\u001b[39m \u001b[38;5;28;01mwith\u001b[39;00m _print_elapsed_time(message_clsname, message):\n\u001b[32m    956\u001b[39m     \u001b[38;5;28;01mif\u001b[39;00m \u001b[38;5;28mhasattr\u001b[39m(transformer, \u001b[33m\"\u001b[39m\u001b[33mfit_transform\u001b[39m\u001b[33m\"\u001b[39m):\n\u001b[32m--> \u001b[39m\u001b[32m957\u001b[39m         res = \u001b[43mtransformer\u001b[49m\u001b[43m.\u001b[49m\u001b[43mfit_transform\u001b[49m\u001b[43m(\u001b[49m\u001b[43mX\u001b[49m\u001b[43m,\u001b[49m\u001b[43m \u001b[49m\u001b[43my\u001b[49m\u001b[43m,\u001b[49m\u001b[43m \u001b[49m\u001b[43m*\u001b[49m\u001b[43m*\u001b[49m\u001b[43mfit_params\u001b[49m\u001b[43m)\u001b[49m\n\u001b[32m    958\u001b[39m     \u001b[38;5;28;01melse\u001b[39;00m:\n\u001b[32m    959\u001b[39m         res = transformer.fit(X, y, **fit_params).transform(X)\n",
      "\u001b[36mFile \u001b[39m\u001b[32m~/Documents/DataCode/Detecting_Money_Laundering_Patterns-/.venv/lib/python3.12/site-packages/sklearn/utils/_set_output.py:157\u001b[39m, in \u001b[36m_wrap_method_output.<locals>.wrapped\u001b[39m\u001b[34m(self, X, *args, **kwargs)\u001b[39m\n\u001b[32m    155\u001b[39m \u001b[38;5;129m@wraps\u001b[39m(f)\n\u001b[32m    156\u001b[39m \u001b[38;5;28;01mdef\u001b[39;00m\u001b[38;5;250m \u001b[39m\u001b[34mwrapped\u001b[39m(\u001b[38;5;28mself\u001b[39m, X, *args, **kwargs):\n\u001b[32m--> \u001b[39m\u001b[32m157\u001b[39m     data_to_wrap = \u001b[43mf\u001b[49m\u001b[43m(\u001b[49m\u001b[38;5;28;43mself\u001b[39;49m\u001b[43m,\u001b[49m\u001b[43m \u001b[49m\u001b[43mX\u001b[49m\u001b[43m,\u001b[49m\u001b[43m \u001b[49m\u001b[43m*\u001b[49m\u001b[43margs\u001b[49m\u001b[43m,\u001b[49m\u001b[43m \u001b[49m\u001b[43m*\u001b[49m\u001b[43m*\u001b[49m\u001b[43mkwargs\u001b[49m\u001b[43m)\u001b[49m\n\u001b[32m    158\u001b[39m     \u001b[38;5;28;01mif\u001b[39;00m \u001b[38;5;28misinstance\u001b[39m(data_to_wrap, \u001b[38;5;28mtuple\u001b[39m):\n\u001b[32m    159\u001b[39m         \u001b[38;5;66;03m# only wrap the first output for cross decomposition\u001b[39;00m\n\u001b[32m    160\u001b[39m         return_tuple = (\n\u001b[32m    161\u001b[39m             _wrap_data_with_container(method, data_to_wrap[\u001b[32m0\u001b[39m], X, \u001b[38;5;28mself\u001b[39m),\n\u001b[32m    162\u001b[39m             *data_to_wrap[\u001b[32m1\u001b[39m:],\n\u001b[32m    163\u001b[39m         )\n",
      "\u001b[36mFile \u001b[39m\u001b[32m~/Documents/DataCode/Detecting_Money_Laundering_Patterns-/.venv/lib/python3.12/site-packages/sklearn/base.py:919\u001b[39m, in \u001b[36mTransformerMixin.fit_transform\u001b[39m\u001b[34m(self, X, y, **fit_params)\u001b[39m\n\u001b[32m    916\u001b[39m     \u001b[38;5;28;01mreturn\u001b[39;00m \u001b[38;5;28mself\u001b[39m.fit(X, **fit_params).transform(X)\n\u001b[32m    917\u001b[39m \u001b[38;5;28;01melse\u001b[39;00m:\n\u001b[32m    918\u001b[39m     \u001b[38;5;66;03m# fit method of arity 2 (supervised transformation)\u001b[39;00m\n\u001b[32m--> \u001b[39m\u001b[32m919\u001b[39m     \u001b[38;5;28;01mreturn\u001b[39;00m \u001b[38;5;28;43mself\u001b[39;49m\u001b[43m.\u001b[49m\u001b[43mfit\u001b[49m\u001b[43m(\u001b[49m\u001b[43mX\u001b[49m\u001b[43m,\u001b[49m\u001b[43m \u001b[49m\u001b[43my\u001b[49m\u001b[43m,\u001b[49m\u001b[43m \u001b[49m\u001b[43m*\u001b[49m\u001b[43m*\u001b[49m\u001b[43mfit_params\u001b[49m\u001b[43m)\u001b[49m.transform(X)\n",
      "\u001b[36mFile \u001b[39m\u001b[32m~/Documents/DataCode/Detecting_Money_Laundering_Patterns-/.venv/lib/python3.12/site-packages/sklearn/preprocessing/_data.py:839\u001b[39m, in \u001b[36mStandardScaler.fit\u001b[39m\u001b[34m(self, X, y, sample_weight)\u001b[39m\n\u001b[32m    837\u001b[39m \u001b[38;5;66;03m# Reset internal state before fitting\u001b[39;00m\n\u001b[32m    838\u001b[39m \u001b[38;5;28mself\u001b[39m._reset()\n\u001b[32m--> \u001b[39m\u001b[32m839\u001b[39m \u001b[38;5;28;01mreturn\u001b[39;00m \u001b[38;5;28;43mself\u001b[39;49m\u001b[43m.\u001b[49m\u001b[43mpartial_fit\u001b[49m\u001b[43m(\u001b[49m\u001b[43mX\u001b[49m\u001b[43m,\u001b[49m\u001b[43m \u001b[49m\u001b[43my\u001b[49m\u001b[43m,\u001b[49m\u001b[43m \u001b[49m\u001b[43msample_weight\u001b[49m\u001b[43m)\u001b[49m\n",
      "\u001b[36mFile \u001b[39m\u001b[32m~/Documents/DataCode/Detecting_Money_Laundering_Patterns-/.venv/lib/python3.12/site-packages/sklearn/base.py:1152\u001b[39m, in \u001b[36m_fit_context.<locals>.decorator.<locals>.wrapper\u001b[39m\u001b[34m(estimator, *args, **kwargs)\u001b[39m\n\u001b[32m   1145\u001b[39m     estimator._validate_params()\n\u001b[32m   1147\u001b[39m \u001b[38;5;28;01mwith\u001b[39;00m config_context(\n\u001b[32m   1148\u001b[39m     skip_parameter_validation=(\n\u001b[32m   1149\u001b[39m         prefer_skip_nested_validation \u001b[38;5;129;01mor\u001b[39;00m global_skip_validation\n\u001b[32m   1150\u001b[39m     )\n\u001b[32m   1151\u001b[39m ):\n\u001b[32m-> \u001b[39m\u001b[32m1152\u001b[39m     \u001b[38;5;28;01mreturn\u001b[39;00m \u001b[43mfit_method\u001b[49m\u001b[43m(\u001b[49m\u001b[43mestimator\u001b[49m\u001b[43m,\u001b[49m\u001b[43m \u001b[49m\u001b[43m*\u001b[49m\u001b[43margs\u001b[49m\u001b[43m,\u001b[49m\u001b[43m \u001b[49m\u001b[43m*\u001b[49m\u001b[43m*\u001b[49m\u001b[43mkwargs\u001b[49m\u001b[43m)\u001b[49m\n",
      "\u001b[36mFile \u001b[39m\u001b[32m~/Documents/DataCode/Detecting_Money_Laundering_Patterns-/.venv/lib/python3.12/site-packages/sklearn/preprocessing/_data.py:875\u001b[39m, in \u001b[36mStandardScaler.partial_fit\u001b[39m\u001b[34m(self, X, y, sample_weight)\u001b[39m\n\u001b[32m    843\u001b[39m \u001b[38;5;250m\u001b[39m\u001b[33;03m\"\"\"Online computation of mean and std on X for later scaling.\u001b[39;00m\n\u001b[32m    844\u001b[39m \n\u001b[32m    845\u001b[39m \u001b[33;03mAll of X is processed as a single batch. This is intended for cases\u001b[39;00m\n\u001b[32m   (...)\u001b[39m\u001b[32m    872\u001b[39m \u001b[33;03m    Fitted scaler.\u001b[39;00m\n\u001b[32m    873\u001b[39m \u001b[33;03m\"\"\"\u001b[39;00m\n\u001b[32m    874\u001b[39m first_call = \u001b[38;5;129;01mnot\u001b[39;00m \u001b[38;5;28mhasattr\u001b[39m(\u001b[38;5;28mself\u001b[39m, \u001b[33m\"\u001b[39m\u001b[33mn_samples_seen_\u001b[39m\u001b[33m\"\u001b[39m)\n\u001b[32m--> \u001b[39m\u001b[32m875\u001b[39m X = \u001b[38;5;28;43mself\u001b[39;49m\u001b[43m.\u001b[49m\u001b[43m_validate_data\u001b[49m\u001b[43m(\u001b[49m\n\u001b[32m    876\u001b[39m \u001b[43m    \u001b[49m\u001b[43mX\u001b[49m\u001b[43m,\u001b[49m\n\u001b[32m    877\u001b[39m \u001b[43m    \u001b[49m\u001b[43maccept_sparse\u001b[49m\u001b[43m=\u001b[49m\u001b[43m(\u001b[49m\u001b[33;43m\"\u001b[39;49m\u001b[33;43mcsr\u001b[39;49m\u001b[33;43m\"\u001b[39;49m\u001b[43m,\u001b[49m\u001b[43m \u001b[49m\u001b[33;43m\"\u001b[39;49m\u001b[33;43mcsc\u001b[39;49m\u001b[33;43m\"\u001b[39;49m\u001b[43m)\u001b[49m\u001b[43m,\u001b[49m\n\u001b[32m    878\u001b[39m \u001b[43m    \u001b[49m\u001b[43mdtype\u001b[49m\u001b[43m=\u001b[49m\u001b[43mFLOAT_DTYPES\u001b[49m\u001b[43m,\u001b[49m\n\u001b[32m    879\u001b[39m \u001b[43m    \u001b[49m\u001b[43mforce_all_finite\u001b[49m\u001b[43m=\u001b[49m\u001b[33;43m\"\u001b[39;49m\u001b[33;43mallow-nan\u001b[39;49m\u001b[33;43m\"\u001b[39;49m\u001b[43m,\u001b[49m\n\u001b[32m    880\u001b[39m \u001b[43m    \u001b[49m\u001b[43mreset\u001b[49m\u001b[43m=\u001b[49m\u001b[43mfirst_call\u001b[49m\u001b[43m,\u001b[49m\n\u001b[32m    881\u001b[39m \u001b[43m\u001b[49m\u001b[43m)\u001b[49m\n\u001b[32m    882\u001b[39m n_features = X.shape[\u001b[32m1\u001b[39m]\n\u001b[32m    884\u001b[39m \u001b[38;5;28;01mif\u001b[39;00m sample_weight \u001b[38;5;129;01mis\u001b[39;00m \u001b[38;5;129;01mnot\u001b[39;00m \u001b[38;5;28;01mNone\u001b[39;00m:\n",
      "\u001b[36mFile \u001b[39m\u001b[32m~/Documents/DataCode/Detecting_Money_Laundering_Patterns-/.venv/lib/python3.12/site-packages/sklearn/base.py:605\u001b[39m, in \u001b[36mBaseEstimator._validate_data\u001b[39m\u001b[34m(self, X, y, reset, validate_separately, cast_to_ndarray, **check_params)\u001b[39m\n\u001b[32m    603\u001b[39m         out = X, y\n\u001b[32m    604\u001b[39m \u001b[38;5;28;01melif\u001b[39;00m \u001b[38;5;129;01mnot\u001b[39;00m no_val_X \u001b[38;5;129;01mand\u001b[39;00m no_val_y:\n\u001b[32m--> \u001b[39m\u001b[32m605\u001b[39m     out = \u001b[43mcheck_array\u001b[49m\u001b[43m(\u001b[49m\u001b[43mX\u001b[49m\u001b[43m,\u001b[49m\u001b[43m \u001b[49m\u001b[43minput_name\u001b[49m\u001b[43m=\u001b[49m\u001b[33;43m\"\u001b[39;49m\u001b[33;43mX\u001b[39;49m\u001b[33;43m\"\u001b[39;49m\u001b[43m,\u001b[49m\u001b[43m \u001b[49m\u001b[43m*\u001b[49m\u001b[43m*\u001b[49m\u001b[43mcheck_params\u001b[49m\u001b[43m)\u001b[49m\n\u001b[32m    606\u001b[39m \u001b[38;5;28;01melif\u001b[39;00m no_val_X \u001b[38;5;129;01mand\u001b[39;00m \u001b[38;5;129;01mnot\u001b[39;00m no_val_y:\n\u001b[32m    607\u001b[39m     out = _check_y(y, **check_params)\n",
      "\u001b[36mFile \u001b[39m\u001b[32m~/Documents/DataCode/Detecting_Money_Laundering_Patterns-/.venv/lib/python3.12/site-packages/sklearn/utils/validation.py:836\u001b[39m, in \u001b[36mcheck_array\u001b[39m\u001b[34m(array, accept_sparse, accept_large_sparse, dtype, order, copy, force_all_finite, ensure_2d, allow_nd, ensure_min_samples, ensure_min_features, estimator, input_name)\u001b[39m\n\u001b[32m    831\u001b[39m \u001b[38;5;28;01mif\u001b[39;00m pandas_requires_conversion:\n\u001b[32m    832\u001b[39m     \u001b[38;5;66;03m# pandas dataframe requires conversion earlier to handle extension dtypes with\u001b[39;00m\n\u001b[32m    833\u001b[39m     \u001b[38;5;66;03m# nans\u001b[39;00m\n\u001b[32m    834\u001b[39m     \u001b[38;5;66;03m# Use the original dtype for conversion if dtype is None\u001b[39;00m\n\u001b[32m    835\u001b[39m     new_dtype = dtype_orig \u001b[38;5;28;01mif\u001b[39;00m dtype \u001b[38;5;129;01mis\u001b[39;00m \u001b[38;5;28;01mNone\u001b[39;00m \u001b[38;5;28;01melse\u001b[39;00m dtype\n\u001b[32m--> \u001b[39m\u001b[32m836\u001b[39m     array = \u001b[43marray\u001b[49m\u001b[43m.\u001b[49m\u001b[43mastype\u001b[49m\u001b[43m(\u001b[49m\u001b[43mnew_dtype\u001b[49m\u001b[43m)\u001b[49m\n\u001b[32m    837\u001b[39m     \u001b[38;5;66;03m# Since we converted here, we do not need to convert again later\u001b[39;00m\n\u001b[32m    838\u001b[39m     dtype = \u001b[38;5;28;01mNone\u001b[39;00m\n",
      "\u001b[36mFile \u001b[39m\u001b[32m~/Documents/DataCode/Detecting_Money_Laundering_Patterns-/.venv/lib/python3.12/site-packages/pandas/core/generic.py:6534\u001b[39m, in \u001b[36mNDFrame.astype\u001b[39m\u001b[34m(self, dtype, copy, errors)\u001b[39m\n\u001b[32m   6530\u001b[39m     results = [ser.astype(dtype, copy=copy) \u001b[38;5;28;01mfor\u001b[39;00m _, ser \u001b[38;5;129;01min\u001b[39;00m \u001b[38;5;28mself\u001b[39m.items()]\n\u001b[32m   6532\u001b[39m \u001b[38;5;28;01melse\u001b[39;00m:\n\u001b[32m   6533\u001b[39m     \u001b[38;5;66;03m# else, only a single dtype is given\u001b[39;00m\n\u001b[32m-> \u001b[39m\u001b[32m6534\u001b[39m     new_data = \u001b[38;5;28;43mself\u001b[39;49m\u001b[43m.\u001b[49m\u001b[43m_mgr\u001b[49m\u001b[43m.\u001b[49m\u001b[43mastype\u001b[49m\u001b[43m(\u001b[49m\u001b[43mdtype\u001b[49m\u001b[43m=\u001b[49m\u001b[43mdtype\u001b[49m\u001b[43m,\u001b[49m\u001b[43m \u001b[49m\u001b[43mcopy\u001b[49m\u001b[43m=\u001b[49m\u001b[43mcopy\u001b[49m\u001b[43m,\u001b[49m\u001b[43m \u001b[49m\u001b[43merrors\u001b[49m\u001b[43m=\u001b[49m\u001b[43merrors\u001b[49m\u001b[43m)\u001b[49m\n\u001b[32m   6535\u001b[39m     res = \u001b[38;5;28mself\u001b[39m._constructor_from_mgr(new_data, axes=new_data.axes)\n\u001b[32m   6536\u001b[39m     \u001b[38;5;28;01mreturn\u001b[39;00m res.__finalize__(\u001b[38;5;28mself\u001b[39m, method=\u001b[33m\"\u001b[39m\u001b[33mastype\u001b[39m\u001b[33m\"\u001b[39m)\n",
      "\u001b[36mFile \u001b[39m\u001b[32m~/Documents/DataCode/Detecting_Money_Laundering_Patterns-/.venv/lib/python3.12/site-packages/pandas/core/internals/managers.py:414\u001b[39m, in \u001b[36mBaseBlockManager.astype\u001b[39m\u001b[34m(self, dtype, copy, errors)\u001b[39m\n\u001b[32m    411\u001b[39m \u001b[38;5;28;01melif\u001b[39;00m using_copy_on_write():\n\u001b[32m    412\u001b[39m     copy = \u001b[38;5;28;01mFalse\u001b[39;00m\n\u001b[32m--> \u001b[39m\u001b[32m414\u001b[39m \u001b[38;5;28;01mreturn\u001b[39;00m \u001b[38;5;28;43mself\u001b[39;49m\u001b[43m.\u001b[49m\u001b[43mapply\u001b[49m\u001b[43m(\u001b[49m\n\u001b[32m    415\u001b[39m \u001b[43m    \u001b[49m\u001b[33;43m\"\u001b[39;49m\u001b[33;43mastype\u001b[39;49m\u001b[33;43m\"\u001b[39;49m\u001b[43m,\u001b[49m\n\u001b[32m    416\u001b[39m \u001b[43m    \u001b[49m\u001b[43mdtype\u001b[49m\u001b[43m=\u001b[49m\u001b[43mdtype\u001b[49m\u001b[43m,\u001b[49m\n\u001b[32m    417\u001b[39m \u001b[43m    \u001b[49m\u001b[43mcopy\u001b[49m\u001b[43m=\u001b[49m\u001b[43mcopy\u001b[49m\u001b[43m,\u001b[49m\n\u001b[32m    418\u001b[39m \u001b[43m    \u001b[49m\u001b[43merrors\u001b[49m\u001b[43m=\u001b[49m\u001b[43merrors\u001b[49m\u001b[43m,\u001b[49m\n\u001b[32m    419\u001b[39m \u001b[43m    \u001b[49m\u001b[43musing_cow\u001b[49m\u001b[43m=\u001b[49m\u001b[43musing_copy_on_write\u001b[49m\u001b[43m(\u001b[49m\u001b[43m)\u001b[49m\u001b[43m,\u001b[49m\n\u001b[32m    420\u001b[39m \u001b[43m\u001b[49m\u001b[43m)\u001b[49m\n",
      "\u001b[36mFile \u001b[39m\u001b[32m~/Documents/DataCode/Detecting_Money_Laundering_Patterns-/.venv/lib/python3.12/site-packages/pandas/core/internals/managers.py:354\u001b[39m, in \u001b[36mBaseBlockManager.apply\u001b[39m\u001b[34m(self, f, align_keys, **kwargs)\u001b[39m\n\u001b[32m    352\u001b[39m         applied = b.apply(f, **kwargs)\n\u001b[32m    353\u001b[39m     \u001b[38;5;28;01melse\u001b[39;00m:\n\u001b[32m--> \u001b[39m\u001b[32m354\u001b[39m         applied = \u001b[38;5;28;43mgetattr\u001b[39;49m\u001b[43m(\u001b[49m\u001b[43mb\u001b[49m\u001b[43m,\u001b[49m\u001b[43m \u001b[49m\u001b[43mf\u001b[49m\u001b[43m)\u001b[49m\u001b[43m(\u001b[49m\u001b[43m*\u001b[49m\u001b[43m*\u001b[49m\u001b[43mkwargs\u001b[49m\u001b[43m)\u001b[49m\n\u001b[32m    355\u001b[39m     result_blocks = extend_blocks(applied, result_blocks)\n\u001b[32m    357\u001b[39m out = \u001b[38;5;28mtype\u001b[39m(\u001b[38;5;28mself\u001b[39m).from_blocks(result_blocks, \u001b[38;5;28mself\u001b[39m.axes)\n",
      "\u001b[36mFile \u001b[39m\u001b[32m~/Documents/DataCode/Detecting_Money_Laundering_Patterns-/.venv/lib/python3.12/site-packages/pandas/core/internals/blocks.py:616\u001b[39m, in \u001b[36mBlock.astype\u001b[39m\u001b[34m(self, dtype, copy, errors, using_cow)\u001b[39m\n\u001b[32m    596\u001b[39m \u001b[38;5;250m\u001b[39m\u001b[33;03m\"\"\"\u001b[39;00m\n\u001b[32m    597\u001b[39m \u001b[33;03mCoerce to the new dtype.\u001b[39;00m\n\u001b[32m    598\u001b[39m \n\u001b[32m   (...)\u001b[39m\u001b[32m    612\u001b[39m \u001b[33;03mBlock\u001b[39;00m\n\u001b[32m    613\u001b[39m \u001b[33;03m\"\"\"\u001b[39;00m\n\u001b[32m    614\u001b[39m values = \u001b[38;5;28mself\u001b[39m.values\n\u001b[32m--> \u001b[39m\u001b[32m616\u001b[39m new_values = \u001b[43mastype_array_safe\u001b[49m\u001b[43m(\u001b[49m\u001b[43mvalues\u001b[49m\u001b[43m,\u001b[49m\u001b[43m \u001b[49m\u001b[43mdtype\u001b[49m\u001b[43m,\u001b[49m\u001b[43m \u001b[49m\u001b[43mcopy\u001b[49m\u001b[43m=\u001b[49m\u001b[43mcopy\u001b[49m\u001b[43m,\u001b[49m\u001b[43m \u001b[49m\u001b[43merrors\u001b[49m\u001b[43m=\u001b[49m\u001b[43merrors\u001b[49m\u001b[43m)\u001b[49m\n\u001b[32m    618\u001b[39m new_values = maybe_coerce_values(new_values)\n\u001b[32m    620\u001b[39m refs = \u001b[38;5;28;01mNone\u001b[39;00m\n",
      "\u001b[36mFile \u001b[39m\u001b[32m~/Documents/DataCode/Detecting_Money_Laundering_Patterns-/.venv/lib/python3.12/site-packages/pandas/core/dtypes/astype.py:238\u001b[39m, in \u001b[36mastype_array_safe\u001b[39m\u001b[34m(values, dtype, copy, errors)\u001b[39m\n\u001b[32m    235\u001b[39m     dtype = dtype.numpy_dtype\n\u001b[32m    237\u001b[39m \u001b[38;5;28;01mtry\u001b[39;00m:\n\u001b[32m--> \u001b[39m\u001b[32m238\u001b[39m     new_values = \u001b[43mastype_array\u001b[49m\u001b[43m(\u001b[49m\u001b[43mvalues\u001b[49m\u001b[43m,\u001b[49m\u001b[43m \u001b[49m\u001b[43mdtype\u001b[49m\u001b[43m,\u001b[49m\u001b[43m \u001b[49m\u001b[43mcopy\u001b[49m\u001b[43m=\u001b[49m\u001b[43mcopy\u001b[49m\u001b[43m)\u001b[49m\n\u001b[32m    239\u001b[39m \u001b[38;5;28;01mexcept\u001b[39;00m (\u001b[38;5;167;01mValueError\u001b[39;00m, \u001b[38;5;167;01mTypeError\u001b[39;00m):\n\u001b[32m    240\u001b[39m     \u001b[38;5;66;03m# e.g. _astype_nansafe can fail on object-dtype of strings\u001b[39;00m\n\u001b[32m    241\u001b[39m     \u001b[38;5;66;03m#  trying to convert to float\u001b[39;00m\n\u001b[32m    242\u001b[39m     \u001b[38;5;28;01mif\u001b[39;00m errors == \u001b[33m\"\u001b[39m\u001b[33mignore\u001b[39m\u001b[33m\"\u001b[39m:\n",
      "\u001b[36mFile \u001b[39m\u001b[32m~/Documents/DataCode/Detecting_Money_Laundering_Patterns-/.venv/lib/python3.12/site-packages/pandas/core/dtypes/astype.py:183\u001b[39m, in \u001b[36mastype_array\u001b[39m\u001b[34m(values, dtype, copy)\u001b[39m\n\u001b[32m    180\u001b[39m     values = values.astype(dtype, copy=copy)\n\u001b[32m    182\u001b[39m \u001b[38;5;28;01melse\u001b[39;00m:\n\u001b[32m--> \u001b[39m\u001b[32m183\u001b[39m     values = \u001b[43m_astype_nansafe\u001b[49m\u001b[43m(\u001b[49m\u001b[43mvalues\u001b[49m\u001b[43m,\u001b[49m\u001b[43m \u001b[49m\u001b[43mdtype\u001b[49m\u001b[43m,\u001b[49m\u001b[43m \u001b[49m\u001b[43mcopy\u001b[49m\u001b[43m=\u001b[49m\u001b[43mcopy\u001b[49m\u001b[43m)\u001b[49m\n\u001b[32m    185\u001b[39m \u001b[38;5;66;03m# in pandas we don't store numpy str dtypes, so convert to object\u001b[39;00m\n\u001b[32m    186\u001b[39m \u001b[38;5;28;01mif\u001b[39;00m \u001b[38;5;28misinstance\u001b[39m(dtype, np.dtype) \u001b[38;5;129;01mand\u001b[39;00m \u001b[38;5;28missubclass\u001b[39m(values.dtype.type, \u001b[38;5;28mstr\u001b[39m):\n",
      "\u001b[36mFile \u001b[39m\u001b[32m~/Documents/DataCode/Detecting_Money_Laundering_Patterns-/.venv/lib/python3.12/site-packages/pandas/core/dtypes/astype.py:134\u001b[39m, in \u001b[36m_astype_nansafe\u001b[39m\u001b[34m(arr, dtype, copy, skipna)\u001b[39m\n\u001b[32m    130\u001b[39m     \u001b[38;5;28;01mraise\u001b[39;00m \u001b[38;5;167;01mValueError\u001b[39;00m(msg)\n\u001b[32m    132\u001b[39m \u001b[38;5;28;01mif\u001b[39;00m copy \u001b[38;5;129;01mor\u001b[39;00m arr.dtype == \u001b[38;5;28mobject\u001b[39m \u001b[38;5;129;01mor\u001b[39;00m dtype == \u001b[38;5;28mobject\u001b[39m:\n\u001b[32m    133\u001b[39m     \u001b[38;5;66;03m# Explicit copy, or required since NumPy can't view from / to object.\u001b[39;00m\n\u001b[32m--> \u001b[39m\u001b[32m134\u001b[39m     \u001b[38;5;28;01mreturn\u001b[39;00m \u001b[43marr\u001b[49m\u001b[43m.\u001b[49m\u001b[43mastype\u001b[49m\u001b[43m(\u001b[49m\u001b[43mdtype\u001b[49m\u001b[43m,\u001b[49m\u001b[43m \u001b[49m\u001b[43mcopy\u001b[49m\u001b[43m=\u001b[49m\u001b[38;5;28;43;01mTrue\u001b[39;49;00m\u001b[43m)\u001b[49m\n\u001b[32m    136\u001b[39m \u001b[38;5;28;01mreturn\u001b[39;00m arr.astype(dtype, copy=copy)\n",
      "\u001b[31mValueError\u001b[39m: could not convert string to float: 'Russia'"
     ]
    }
   ],
   "source": [
    "laundering_pipeline = pipeline_decision_tree_moneylaundering()\n",
    "laundering_pipeline.fit(X_train, y_train)"
   ]
  },
  {
   "cell_type": "code",
   "execution_count": null,
   "id": "fe0fed96",
   "metadata": {},
   "outputs": [],
   "source": []
  }
 ],
 "metadata": {
  "kernelspec": {
   "display_name": ".venv",
   "language": "python",
   "name": "python3"
  },
  "language_info": {
   "codemirror_mode": {
    "name": "ipython",
    "version": 3
   },
   "file_extension": ".py",
   "mimetype": "text/x-python",
   "name": "python",
   "nbconvert_exporter": "python",
   "pygments_lexer": "ipython3",
   "version": "3.12.8"
  }
 },
 "nbformat": 4,
 "nbformat_minor": 5
}
