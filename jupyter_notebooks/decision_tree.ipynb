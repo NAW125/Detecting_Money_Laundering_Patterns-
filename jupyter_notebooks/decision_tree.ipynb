{
 "cells": [
  {
   "cell_type": "markdown",
   "id": "062d6272",
   "metadata": {},
   "source": [
    "# Decision Tree"
   ]
  },
  {
   "cell_type": "markdown",
   "id": "d32c93ce",
   "metadata": {},
   "source": [
    "1. **Aims and Objectives**\n",
    "\n",
    "Following the exploratory data analysis and visualisations developed in Tableau, this section will  apply a supervised machine learning approach to predict the likelihood that a financial transaction is fraudulent. The model is trained on the pre-processed, labeled dataset, prepared in the `etl_process.ipynb` notebook. By using classification techniques, the goal is to identify key patterns and risk indicators that may signal potential money laundering or financial crime activity before the transaction occurs.\n",
    "\n",
    "The workflow I will use for this supervised learning is\n",
    "- Split the dataset into train and test set\n",
    "- Fit the pipeline\n",
    "- Evaluate your model. "
   ]
  },
  {
   "cell_type": "code",
   "execution_count": 5,
   "id": "f946e234",
   "metadata": {},
   "outputs": [],
   "source": [
    "#step 0. Import necessary libraries\n",
    "import numpy as np\n",
    "import pandas as pd\n",
    "import matplotlib.pyplot as plt\n",
    "import seaborn as sns\n",
    "sns.set_style(\"whitegrid\")\n",
    "\n",
    "import warnings\n",
    "warnings.filterwarnings('ignore')"
   ]
  },
  {
   "cell_type": "markdown",
   "id": "72af0d74",
   "metadata": {},
   "source": [
    "1. **Import the data**\n"
   ]
  },
  {
   "cell_type": "code",
   "execution_count": 6,
   "id": "b238cfd2",
   "metadata": {},
   "outputs": [
    {
     "data": {
      "text/html": [
       "<div>\n",
       "<style scoped>\n",
       "    .dataframe tbody tr th:only-of-type {\n",
       "        vertical-align: middle;\n",
       "    }\n",
       "\n",
       "    .dataframe tbody tr th {\n",
       "        vertical-align: top;\n",
       "    }\n",
       "\n",
       "    .dataframe thead th {\n",
       "        text-align: right;\n",
       "    }\n",
       "</style>\n",
       "<table border=\"1\" class=\"dataframe\">\n",
       "  <thead>\n",
       "    <tr style=\"text-align: right;\">\n",
       "      <th></th>\n",
       "      <th>Origin Country</th>\n",
       "      <th>Amount (USD)</th>\n",
       "      <th>Transaction Type</th>\n",
       "      <th>Date of Transaction</th>\n",
       "      <th>Person Involved</th>\n",
       "      <th>Industry</th>\n",
       "      <th>Destination Country</th>\n",
       "      <th>Reported by Authority</th>\n",
       "      <th>Source of Money</th>\n",
       "      <th>Money Laundering Risk Score</th>\n",
       "      <th>Shell Companies Involved</th>\n",
       "      <th>Financial Institution</th>\n",
       "      <th>Tax Haven Country</th>\n",
       "      <th>Domestic or Cross-Border</th>\n",
       "      <th>Origin Country Category</th>\n",
       "      <th>Destination Tax Haven Flag</th>\n",
       "    </tr>\n",
       "  </thead>\n",
       "  <tbody>\n",
       "    <tr>\n",
       "      <th>0</th>\n",
       "      <td>Brazil</td>\n",
       "      <td>3267530.0</td>\n",
       "      <td>Offshore Transfer</td>\n",
       "      <td>2023-01-01 00:00:00</td>\n",
       "      <td>Person_1101</td>\n",
       "      <td>Construction</td>\n",
       "      <td>USA</td>\n",
       "      <td>True</td>\n",
       "      <td>Illegal</td>\n",
       "      <td>6</td>\n",
       "      <td>1</td>\n",
       "      <td>Bank_40</td>\n",
       "      <td>Singapore</td>\n",
       "      <td>Cross-Border</td>\n",
       "      <td>Upper-Middle / Partial Regulated</td>\n",
       "      <td>Non-Tax Haven</td>\n",
       "    </tr>\n",
       "    <tr>\n",
       "      <th>1</th>\n",
       "      <td>China</td>\n",
       "      <td>4965767.0</td>\n",
       "      <td>Stocks Transfer</td>\n",
       "      <td>2023-01-01 01:00:00</td>\n",
       "      <td>Person_7484</td>\n",
       "      <td>Luxury Goods</td>\n",
       "      <td>South Africa</td>\n",
       "      <td>False</td>\n",
       "      <td>Illegal</td>\n",
       "      <td>9</td>\n",
       "      <td>0</td>\n",
       "      <td>Bank_461</td>\n",
       "      <td>Bahamas</td>\n",
       "      <td>Cross-Border</td>\n",
       "      <td>Upper-Middle / Partial Regulated</td>\n",
       "      <td>Non-Tax Haven</td>\n",
       "    </tr>\n",
       "    <tr>\n",
       "      <th>2</th>\n",
       "      <td>UK</td>\n",
       "      <td>94168.0</td>\n",
       "      <td>Stocks Transfer</td>\n",
       "      <td>2023-01-01 02:00:00</td>\n",
       "      <td>Person_3655</td>\n",
       "      <td>Construction</td>\n",
       "      <td>Switzerland</td>\n",
       "      <td>True</td>\n",
       "      <td>Illegal</td>\n",
       "      <td>1</td>\n",
       "      <td>3</td>\n",
       "      <td>Bank_387</td>\n",
       "      <td>Switzerland</td>\n",
       "      <td>Cross-Border</td>\n",
       "      <td>High Income / Regulated</td>\n",
       "      <td>Tax Haven</td>\n",
       "    </tr>\n",
       "    <tr>\n",
       "      <th>3</th>\n",
       "      <td>UAE</td>\n",
       "      <td>386420.0</td>\n",
       "      <td>Cash Withdrawal</td>\n",
       "      <td>2023-01-01 03:00:00</td>\n",
       "      <td>Person_3226</td>\n",
       "      <td>Oil &amp; Gas</td>\n",
       "      <td>Russia</td>\n",
       "      <td>False</td>\n",
       "      <td>Illegal</td>\n",
       "      <td>7</td>\n",
       "      <td>2</td>\n",
       "      <td>Bank_353</td>\n",
       "      <td>Panama</td>\n",
       "      <td>Cross-Border</td>\n",
       "      <td>High Income / Tax Haven</td>\n",
       "      <td>Non-Tax Haven</td>\n",
       "    </tr>\n",
       "    <tr>\n",
       "      <th>4</th>\n",
       "      <td>South Africa</td>\n",
       "      <td>643378.0</td>\n",
       "      <td>Cryptocurrency</td>\n",
       "      <td>2023-01-01 04:00:00</td>\n",
       "      <td>Person_7975</td>\n",
       "      <td>Real Estate</td>\n",
       "      <td>USA</td>\n",
       "      <td>True</td>\n",
       "      <td>Illegal</td>\n",
       "      <td>1</td>\n",
       "      <td>9</td>\n",
       "      <td>Bank_57</td>\n",
       "      <td>Luxembourg</td>\n",
       "      <td>Cross-Border</td>\n",
       "      <td>Upper-Middle / Regulated</td>\n",
       "      <td>Non-Tax Haven</td>\n",
       "    </tr>\n",
       "  </tbody>\n",
       "</table>\n",
       "</div>"
      ],
      "text/plain": [
       "  Origin Country  Amount (USD)   Transaction Type  Date of Transaction  \\\n",
       "0         Brazil     3267530.0  Offshore Transfer  2023-01-01 00:00:00   \n",
       "1          China     4965767.0    Stocks Transfer  2023-01-01 01:00:00   \n",
       "2             UK       94168.0    Stocks Transfer  2023-01-01 02:00:00   \n",
       "3            UAE      386420.0    Cash Withdrawal  2023-01-01 03:00:00   \n",
       "4   South Africa      643378.0     Cryptocurrency  2023-01-01 04:00:00   \n",
       "\n",
       "  Person Involved      Industry Destination Country  Reported by Authority  \\\n",
       "0     Person_1101  Construction                 USA                   True   \n",
       "1     Person_7484  Luxury Goods        South Africa                  False   \n",
       "2     Person_3655  Construction         Switzerland                   True   \n",
       "3     Person_3226     Oil & Gas              Russia                  False   \n",
       "4     Person_7975   Real Estate                 USA                   True   \n",
       "\n",
       "  Source of Money  Money Laundering Risk Score  Shell Companies Involved  \\\n",
       "0         Illegal                            6                         1   \n",
       "1         Illegal                            9                         0   \n",
       "2         Illegal                            1                         3   \n",
       "3         Illegal                            7                         2   \n",
       "4         Illegal                            1                         9   \n",
       "\n",
       "  Financial Institution Tax Haven Country Domestic or Cross-Border  \\\n",
       "0               Bank_40         Singapore             Cross-Border   \n",
       "1              Bank_461           Bahamas             Cross-Border   \n",
       "2              Bank_387       Switzerland             Cross-Border   \n",
       "3              Bank_353            Panama             Cross-Border   \n",
       "4               Bank_57        Luxembourg             Cross-Border   \n",
       "\n",
       "            Origin Country Category Destination Tax Haven Flag  \n",
       "0  Upper-Middle / Partial Regulated              Non-Tax Haven  \n",
       "1  Upper-Middle / Partial Regulated              Non-Tax Haven  \n",
       "2           High Income / Regulated                  Tax Haven  \n",
       "3           High Income / Tax Haven              Non-Tax Haven  \n",
       "4          Upper-Middle / Regulated              Non-Tax Haven  "
      ]
     },
     "execution_count": 6,
     "metadata": {},
     "output_type": "execute_result"
    }
   ],
   "source": [
    "#Step 1. Load the dataset\n",
    "data = pd.read_csv ('/Users/nataliewaugh/Documents/DataCode/Detecting_Money_Laundering_Patterns-/data/cleaned_money_laundering_datasetrevised.csv') \n",
    "\n",
    "#Step 2. show the first few rows of the dataset\n",
    "data.head()"
   ]
  },
  {
   "cell_type": "markdown",
   "id": "2b19f84a",
   "metadata": {},
   "source": [
    "As this is a classification problem, I will use the Decision Tree Classifier from sklearn."
   ]
  },
  {
   "cell_type": "code",
   "execution_count": 8,
   "id": "3a31ccad",
   "metadata": {},
   "outputs": [],
   "source": [
    "#Step 3 Import the Decision Tree Classifier\n",
    "from sklearn.tree import DecisionTreeClassifier"
   ]
  },
  {
   "cell_type": "markdown",
   "id": "8ac092b1",
   "metadata": {},
   "source": [
    "The target variable is `Source of Money` I will split the data to train and test set."
   ]
  },
  {
   "cell_type": "code",
   "execution_count": 11,
   "id": "2738effa",
   "metadata": {},
   "outputs": [
    {
     "name": "stdout",
     "output_type": "stream",
     "text": [
      "* Train set: (8000, 15) (8000,) \n",
      "* Test set: (2000, 15) (2000,)\n"
     ]
    }
   ],
   "source": [
    "#Step 4. import the train_test_split function\n",
    "from sklearn.model_selection import train_test_split\n",
    "\n",
    "#Step 5. Drop the target variable and split the data into features and target\n",
    "X_train, X_test,y_train, y_test = train_test_split(\n",
    "    data.drop(['Source of Money'],axis=1),\n",
    "    data['Source of Money'],\n",
    "    test_size=0.2,\n",
    "    random_state=101\n",
    "    )\n",
    "\n",
    "print(\"* Train set:\", X_train.shape, y_train.shape, \"\\n* Test set:\",  X_test.shape, y_test.shape)"
   ]
  },
  {
   "cell_type": "markdown",
   "id": "b8e571c8",
   "metadata": {},
   "source": [
    "I will apply feature scaling, perform feature selection, and build a model using DecisionTreeClassifier. To ensure reproducibility of results across different environments, I set a fixed random_state. All these steps—scaling, selecting features, and modeling—are combined into a single Pipeline using scikit-learn for cleaner and more efficient workflow management."
   ]
  },
  {
   "cell_type": "code",
   "execution_count": 12,
   "id": "9412be44",
   "metadata": {},
   "outputs": [
    {
     "data": {
      "text/html": [
       "<style>#sk-container-id-1 {color: black;}#sk-container-id-1 pre{padding: 0;}#sk-container-id-1 div.sk-toggleable {background-color: white;}#sk-container-id-1 label.sk-toggleable__label {cursor: pointer;display: block;width: 100%;margin-bottom: 0;padding: 0.3em;box-sizing: border-box;text-align: center;}#sk-container-id-1 label.sk-toggleable__label-arrow:before {content: \"▸\";float: left;margin-right: 0.25em;color: #696969;}#sk-container-id-1 label.sk-toggleable__label-arrow:hover:before {color: black;}#sk-container-id-1 div.sk-estimator:hover label.sk-toggleable__label-arrow:before {color: black;}#sk-container-id-1 div.sk-toggleable__content {max-height: 0;max-width: 0;overflow: hidden;text-align: left;background-color: #f0f8ff;}#sk-container-id-1 div.sk-toggleable__content pre {margin: 0.2em;color: black;border-radius: 0.25em;background-color: #f0f8ff;}#sk-container-id-1 input.sk-toggleable__control:checked~div.sk-toggleable__content {max-height: 200px;max-width: 100%;overflow: auto;}#sk-container-id-1 input.sk-toggleable__control:checked~label.sk-toggleable__label-arrow:before {content: \"▾\";}#sk-container-id-1 div.sk-estimator input.sk-toggleable__control:checked~label.sk-toggleable__label {background-color: #d4ebff;}#sk-container-id-1 div.sk-label input.sk-toggleable__control:checked~label.sk-toggleable__label {background-color: #d4ebff;}#sk-container-id-1 input.sk-hidden--visually {border: 0;clip: rect(1px 1px 1px 1px);clip: rect(1px, 1px, 1px, 1px);height: 1px;margin: -1px;overflow: hidden;padding: 0;position: absolute;width: 1px;}#sk-container-id-1 div.sk-estimator {font-family: monospace;background-color: #f0f8ff;border: 1px dotted black;border-radius: 0.25em;box-sizing: border-box;margin-bottom: 0.5em;}#sk-container-id-1 div.sk-estimator:hover {background-color: #d4ebff;}#sk-container-id-1 div.sk-parallel-item::after {content: \"\";width: 100%;border-bottom: 1px solid gray;flex-grow: 1;}#sk-container-id-1 div.sk-label:hover label.sk-toggleable__label {background-color: #d4ebff;}#sk-container-id-1 div.sk-serial::before {content: \"\";position: absolute;border-left: 1px solid gray;box-sizing: border-box;top: 0;bottom: 0;left: 50%;z-index: 0;}#sk-container-id-1 div.sk-serial {display: flex;flex-direction: column;align-items: center;background-color: white;padding-right: 0.2em;padding-left: 0.2em;position: relative;}#sk-container-id-1 div.sk-item {position: relative;z-index: 1;}#sk-container-id-1 div.sk-parallel {display: flex;align-items: stretch;justify-content: center;background-color: white;position: relative;}#sk-container-id-1 div.sk-item::before, #sk-container-id-1 div.sk-parallel-item::before {content: \"\";position: absolute;border-left: 1px solid gray;box-sizing: border-box;top: 0;bottom: 0;left: 50%;z-index: -1;}#sk-container-id-1 div.sk-parallel-item {display: flex;flex-direction: column;z-index: 1;position: relative;background-color: white;}#sk-container-id-1 div.sk-parallel-item:first-child::after {align-self: flex-end;width: 50%;}#sk-container-id-1 div.sk-parallel-item:last-child::after {align-self: flex-start;width: 50%;}#sk-container-id-1 div.sk-parallel-item:only-child::after {width: 0;}#sk-container-id-1 div.sk-dashed-wrapped {border: 1px dashed gray;margin: 0 0.4em 0.5em 0.4em;box-sizing: border-box;padding-bottom: 0.4em;background-color: white;}#sk-container-id-1 div.sk-label label {font-family: monospace;font-weight: bold;display: inline-block;line-height: 1.2em;}#sk-container-id-1 div.sk-label-container {text-align: center;}#sk-container-id-1 div.sk-container {/* jupyter's `normalize.less` sets `[hidden] { display: none; }` but bootstrap.min.css set `[hidden] { display: none !important; }` so we also need the `!important` here to be able to override the default hidden behavior on the sphinx rendered scikit-learn.org. See: https://github.com/scikit-learn/scikit-learn/issues/21755 */display: inline-block !important;position: relative;}#sk-container-id-1 div.sk-text-repr-fallback {display: none;}</style><div id=\"sk-container-id-1\" class=\"sk-top-container\"><div class=\"sk-text-repr-fallback\"><pre>Pipeline(steps=[(&#x27;feat_scaling&#x27;, StandardScaler()),\n",
       "                (&#x27;feat_selection&#x27;,\n",
       "                 SelectFromModel(estimator=DecisionTreeClassifier(random_state=101))),\n",
       "                (&#x27;model&#x27;, DecisionTreeClassifier(random_state=101))])</pre><b>In a Jupyter environment, please rerun this cell to show the HTML representation or trust the notebook. <br />On GitHub, the HTML representation is unable to render, please try loading this page with nbviewer.org.</b></div><div class=\"sk-container\" hidden><div class=\"sk-item sk-dashed-wrapped\"><div class=\"sk-label-container\"><div class=\"sk-label sk-toggleable\"><input class=\"sk-toggleable__control sk-hidden--visually\" id=\"sk-estimator-id-1\" type=\"checkbox\" ><label for=\"sk-estimator-id-1\" class=\"sk-toggleable__label sk-toggleable__label-arrow\">Pipeline</label><div class=\"sk-toggleable__content\"><pre>Pipeline(steps=[(&#x27;feat_scaling&#x27;, StandardScaler()),\n",
       "                (&#x27;feat_selection&#x27;,\n",
       "                 SelectFromModel(estimator=DecisionTreeClassifier(random_state=101))),\n",
       "                (&#x27;model&#x27;, DecisionTreeClassifier(random_state=101))])</pre></div></div></div><div class=\"sk-serial\"><div class=\"sk-item\"><div class=\"sk-estimator sk-toggleable\"><input class=\"sk-toggleable__control sk-hidden--visually\" id=\"sk-estimator-id-2\" type=\"checkbox\" ><label for=\"sk-estimator-id-2\" class=\"sk-toggleable__label sk-toggleable__label-arrow\">StandardScaler</label><div class=\"sk-toggleable__content\"><pre>StandardScaler()</pre></div></div></div><div class=\"sk-item sk-dashed-wrapped\"><div class=\"sk-label-container\"><div class=\"sk-label sk-toggleable\"><input class=\"sk-toggleable__control sk-hidden--visually\" id=\"sk-estimator-id-3\" type=\"checkbox\" ><label for=\"sk-estimator-id-3\" class=\"sk-toggleable__label sk-toggleable__label-arrow\">feat_selection: SelectFromModel</label><div class=\"sk-toggleable__content\"><pre>SelectFromModel(estimator=DecisionTreeClassifier(random_state=101))</pre></div></div></div><div class=\"sk-parallel\"><div class=\"sk-parallel-item\"><div class=\"sk-item\"><div class=\"sk-label-container\"><div class=\"sk-label sk-toggleable\"><input class=\"sk-toggleable__control sk-hidden--visually\" id=\"sk-estimator-id-4\" type=\"checkbox\" ><label for=\"sk-estimator-id-4\" class=\"sk-toggleable__label sk-toggleable__label-arrow\">estimator: DecisionTreeClassifier</label><div class=\"sk-toggleable__content\"><pre>DecisionTreeClassifier(random_state=101)</pre></div></div></div><div class=\"sk-serial\"><div class=\"sk-item\"><div class=\"sk-estimator sk-toggleable\"><input class=\"sk-toggleable__control sk-hidden--visually\" id=\"sk-estimator-id-5\" type=\"checkbox\" ><label for=\"sk-estimator-id-5\" class=\"sk-toggleable__label sk-toggleable__label-arrow\">DecisionTreeClassifier</label><div class=\"sk-toggleable__content\"><pre>DecisionTreeClassifier(random_state=101)</pre></div></div></div></div></div></div></div></div><div class=\"sk-item\"><div class=\"sk-estimator sk-toggleable\"><input class=\"sk-toggleable__control sk-hidden--visually\" id=\"sk-estimator-id-6\" type=\"checkbox\" ><label for=\"sk-estimator-id-6\" class=\"sk-toggleable__label sk-toggleable__label-arrow\">DecisionTreeClassifier</label><div class=\"sk-toggleable__content\"><pre>DecisionTreeClassifier(random_state=101)</pre></div></div></div></div></div></div></div>"
      ],
      "text/plain": [
       "Pipeline(steps=[('feat_scaling', StandardScaler()),\n",
       "                ('feat_selection',\n",
       "                 SelectFromModel(estimator=DecisionTreeClassifier(random_state=101))),\n",
       "                ('model', DecisionTreeClassifier(random_state=101))])"
      ]
     },
     "execution_count": 12,
     "metadata": {},
     "output_type": "execute_result"
    }
   ],
   "source": [
    "#Step 6. Import necessary libraries for the pipeline\n",
    "from sklearn.pipeline import Pipeline\n",
    "\n",
    "#Step 7. Import Feature Scaling\n",
    "from sklearn.preprocessing import StandardScaler\n",
    "\n",
    "#Step 8. Feat Selection\n",
    "from sklearn.feature_selection import SelectFromModel\n",
    "\n",
    "#Sept 8. Import ML algorithms \n",
    "from sklearn.tree import DecisionTreeClassifier\n",
    "\n",
    "\n",
    "def pipeline_decision_tree_moneylaundering():\n",
    "  pipeline = Pipeline([\n",
    "      ( \"feat_scaling\",StandardScaler() ),\n",
    "\n",
    "      ( \"feat_selection\",SelectFromModel(DecisionTreeClassifier(random_state=101)) ),\n",
    "      \n",
    "      ( \"model\", DecisionTreeClassifier(random_state=101)),\n",
    "\n",
    "    ])\n",
    "\n",
    "  return pipeline\n",
    "\n",
    "pipeline_decision_tree_moneylaundering()"
   ]
  },
  {
   "cell_type": "code",
   "execution_count": null,
   "id": "8e00d046",
   "metadata": {},
   "outputs": [],
   "source": []
  }
 ],
 "metadata": {
  "kernelspec": {
   "display_name": ".venv",
   "language": "python",
   "name": "python3"
  },
  "language_info": {
   "codemirror_mode": {
    "name": "ipython",
    "version": 3
   },
   "file_extension": ".py",
   "mimetype": "text/x-python",
   "name": "python",
   "nbconvert_exporter": "python",
   "pygments_lexer": "ipython3",
   "version": "3.12.8"
  }
 },
 "nbformat": 4,
 "nbformat_minor": 5
}
