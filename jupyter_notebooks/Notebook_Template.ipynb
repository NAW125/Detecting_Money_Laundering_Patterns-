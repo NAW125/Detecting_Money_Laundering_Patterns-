{
  "cells": [
    {
      "cell_type": "markdown",
      "metadata": {
        "id": "0aStgWSO0E0E"
      },
      "source": [
        "# Detecting Money Laundering Patterns Across Global Financial Transactions- ETL process and statistical analysis."
      ]
    },
    {
      "cell_type": "markdown",
      "metadata": {
        "id": "1eLEkw5O0ECa"
      },
      "source": [
        "## Objectives\n",
        "\n",
        "This project will explore a large dataset of 10,000 records, containing information on international  financial transactions. The dataset includes categorical and numerical information as it relates to each financial transaction including country of origin, the legality of the transaction, transaction amount, industry, number of shell companies, tax haven of country and risk rating. \n",
        "\n",
        "The objective is to determine what variable or group of variables within the dataset will determine if the transaction is illegal. To do this, we will:\n",
        "\n",
        "- Carry out a complete ETL (Extract, Transform, Load) process to clean and prepare the data.\n",
        "\n",
        " - Run statistical tests to evaluate the four different hypothesis.\n",
        "\n",
        " - Use these insights to suggest money laundering risk reduction strategies.\n",
        "\n"
      ]
    },
    {
      "cell_type": "markdown",
      "metadata": {
        "id": "9uWZXH9LwoQg"
      },
      "source": [
        "---"
      ]
    },
    {
      "cell_type": "markdown",
      "metadata": {},
      "source": [
        "1. **Import Required Libraries**\n",
        "\n",
        "I will begin by importing the necessary Python libraries for data handling and exploration."
      ]
    },
    {
      "cell_type": "code",
      "execution_count": 27,
      "metadata": {
        "id": "wZfF_j-Bz3i4",
        "outputId": "66943449-1436-4c3d-85c7-b85f9f78349b"
      },
      "outputs": [
        {
          "name": "stdout",
          "output_type": "stream",
          "text": [
            "/Users/nataliewaugh/Documents/DataCode/Detecting_Money_Laundering_Patterns-/jupyter_notebooks\n"
          ]
        }
      ],
      "source": [
        "import pandas as pd\n",
        "import numpy as np\n",
        "import os\n",
        "\n",
        "# Step 0. Move up one directory level to where the dataset file is located, enabling pandas to find and load the CSV successfully\n",
        "print(os.getcwd())"
      ]
    },
    {
      "cell_type": "markdown",
      "metadata": {
        "id": "9MWW8E7lz3i7"
      },
      "source": [
        "2. **Load the Dataset**\n",
        "\n",
        "I will load the CSV file named Money_Laundering_Dataset.csv from the local directory."
      ]
    },
    {
      "cell_type": "code",
      "execution_count": 28,
      "metadata": {
        "id": "TwHsQRWjz3i9",
        "outputId": "86849db3-cd2f-4cc5-ebb8-2d0caafa1a2c"
      },
      "outputs": [
        {
          "data": {
            "text/html": [
              "<div>\n",
              "<style scoped>\n",
              "    .dataframe tbody tr th:only-of-type {\n",
              "        vertical-align: middle;\n",
              "    }\n",
              "\n",
              "    .dataframe tbody tr th {\n",
              "        vertical-align: top;\n",
              "    }\n",
              "\n",
              "    .dataframe thead th {\n",
              "        text-align: right;\n",
              "    }\n",
              "</style>\n",
              "<table border=\"1\" class=\"dataframe\">\n",
              "  <thead>\n",
              "    <tr style=\"text-align: right;\">\n",
              "      <th></th>\n",
              "      <th>Transaction ID</th>\n",
              "      <th>Country</th>\n",
              "      <th>Amount (USD)</th>\n",
              "      <th>Transaction Type</th>\n",
              "      <th>Date of Transaction</th>\n",
              "      <th>Person Involved</th>\n",
              "      <th>Industry</th>\n",
              "      <th>Destination Country</th>\n",
              "      <th>Reported by Authority</th>\n",
              "      <th>Source of Money</th>\n",
              "      <th>Money Laundering Risk Score</th>\n",
              "      <th>Shell Companies Involved</th>\n",
              "      <th>Financial Institution</th>\n",
              "      <th>Tax Haven Country</th>\n",
              "    </tr>\n",
              "  </thead>\n",
              "  <tbody>\n",
              "    <tr>\n",
              "      <th>0</th>\n",
              "      <td>TX0000000001</td>\n",
              "      <td>Brazil</td>\n",
              "      <td>3.267530e+06</td>\n",
              "      <td>Offshore Transfer</td>\n",
              "      <td>2013-01-01 00:00:00</td>\n",
              "      <td>Person_1101</td>\n",
              "      <td>Construction</td>\n",
              "      <td>USA</td>\n",
              "      <td>True</td>\n",
              "      <td>Illegal</td>\n",
              "      <td>6</td>\n",
              "      <td>1</td>\n",
              "      <td>Bank_40</td>\n",
              "      <td>Singapore</td>\n",
              "    </tr>\n",
              "    <tr>\n",
              "      <th>1</th>\n",
              "      <td>TX0000000002</td>\n",
              "      <td>China</td>\n",
              "      <td>4.965767e+06</td>\n",
              "      <td>Stocks Transfer</td>\n",
              "      <td>2013-01-01 01:00:00</td>\n",
              "      <td>Person_7484</td>\n",
              "      <td>Luxury Goods</td>\n",
              "      <td>South Africa</td>\n",
              "      <td>False</td>\n",
              "      <td>Illegal</td>\n",
              "      <td>9</td>\n",
              "      <td>0</td>\n",
              "      <td>Bank_461</td>\n",
              "      <td>Bahamas</td>\n",
              "    </tr>\n",
              "    <tr>\n",
              "      <th>2</th>\n",
              "      <td>TX0000000003</td>\n",
              "      <td>UK</td>\n",
              "      <td>9.416750e+04</td>\n",
              "      <td>Stocks Transfer</td>\n",
              "      <td>2013-01-01 02:00:00</td>\n",
              "      <td>Person_3655</td>\n",
              "      <td>Construction</td>\n",
              "      <td>Switzerland</td>\n",
              "      <td>True</td>\n",
              "      <td>Illegal</td>\n",
              "      <td>1</td>\n",
              "      <td>3</td>\n",
              "      <td>Bank_387</td>\n",
              "      <td>Switzerland</td>\n",
              "    </tr>\n",
              "    <tr>\n",
              "      <th>3</th>\n",
              "      <td>TX0000000004</td>\n",
              "      <td>UAE</td>\n",
              "      <td>3.864201e+05</td>\n",
              "      <td>Cash Withdrawal</td>\n",
              "      <td>2013-01-01 03:00:00</td>\n",
              "      <td>Person_3226</td>\n",
              "      <td>Oil &amp; Gas</td>\n",
              "      <td>Russia</td>\n",
              "      <td>False</td>\n",
              "      <td>Illegal</td>\n",
              "      <td>7</td>\n",
              "      <td>2</td>\n",
              "      <td>Bank_353</td>\n",
              "      <td>Panama</td>\n",
              "    </tr>\n",
              "    <tr>\n",
              "      <th>4</th>\n",
              "      <td>TX0000000005</td>\n",
              "      <td>South Africa</td>\n",
              "      <td>6.433784e+05</td>\n",
              "      <td>Cryptocurrency</td>\n",
              "      <td>2013-01-01 04:00:00</td>\n",
              "      <td>Person_7975</td>\n",
              "      <td>Real Estate</td>\n",
              "      <td>USA</td>\n",
              "      <td>True</td>\n",
              "      <td>Illegal</td>\n",
              "      <td>1</td>\n",
              "      <td>9</td>\n",
              "      <td>Bank_57</td>\n",
              "      <td>Luxembourg</td>\n",
              "    </tr>\n",
              "  </tbody>\n",
              "</table>\n",
              "</div>"
            ],
            "text/plain": [
              "  Transaction ID       Country  Amount (USD)   Transaction Type  \\\n",
              "0   TX0000000001        Brazil  3.267530e+06  Offshore Transfer   \n",
              "1   TX0000000002         China  4.965767e+06    Stocks Transfer   \n",
              "2   TX0000000003            UK  9.416750e+04    Stocks Transfer   \n",
              "3   TX0000000004           UAE  3.864201e+05    Cash Withdrawal   \n",
              "4   TX0000000005  South Africa  6.433784e+05     Cryptocurrency   \n",
              "\n",
              "   Date of Transaction Person Involved      Industry Destination Country  \\\n",
              "0  2013-01-01 00:00:00     Person_1101  Construction                 USA   \n",
              "1  2013-01-01 01:00:00     Person_7484  Luxury Goods        South Africa   \n",
              "2  2013-01-01 02:00:00     Person_3655  Construction         Switzerland   \n",
              "3  2013-01-01 03:00:00     Person_3226     Oil & Gas              Russia   \n",
              "4  2013-01-01 04:00:00     Person_7975   Real Estate                 USA   \n",
              "\n",
              "   Reported by Authority Source of Money  Money Laundering Risk Score  \\\n",
              "0                   True         Illegal                            6   \n",
              "1                  False         Illegal                            9   \n",
              "2                   True         Illegal                            1   \n",
              "3                  False         Illegal                            7   \n",
              "4                   True         Illegal                            1   \n",
              "\n",
              "   Shell Companies Involved Financial Institution Tax Haven Country  \n",
              "0                         1               Bank_40         Singapore  \n",
              "1                         0              Bank_461           Bahamas  \n",
              "2                         3              Bank_387       Switzerland  \n",
              "3                         2              Bank_353            Panama  \n",
              "4                         9               Bank_57        Luxembourg  "
            ]
          },
          "execution_count": 28,
          "metadata": {},
          "output_type": "execute_result"
        }
      ],
      "source": [
        "#Step 1. Load the dataset\n",
        "data = pd.read_csv('/Users/nataliewaugh/Documents/DataCode/Detecting_Money_Laundering_Patterns-/data/Money_ Laundering_Dataset.csv')\n",
        "\n",
        "#Step 2. show the first few rows of the dataset\n",
        "data.head()"
      ]
    },
    {
      "cell_type": "code",
      "execution_count": 26,
      "metadata": {},
      "outputs": [
        {
          "name": "stdout",
          "output_type": "stream",
          "text": [
            "<class 'pandas.core.frame.DataFrame'>\n",
            "RangeIndex: 10000 entries, 0 to 9999\n",
            "Data columns (total 13 columns):\n",
            " #   Column                       Non-Null Count  Dtype  \n",
            "---  ------                       --------------  -----  \n",
            " 0   Country                      10000 non-null  object \n",
            " 1   Amount (USD)                 10000 non-null  float64\n",
            " 2   Transaction Type             10000 non-null  object \n",
            " 3   Date of Transaction          10000 non-null  object \n",
            " 4   Person Involved              10000 non-null  object \n",
            " 5   Industry                     10000 non-null  object \n",
            " 6   Destination Country          10000 non-null  object \n",
            " 7   Reported by Authority        10000 non-null  bool   \n",
            " 8   Source of Money              10000 non-null  object \n",
            " 9   Money Laundering Risk Score  10000 non-null  int64  \n",
            " 10  Shell Companies Involved     10000 non-null  int64  \n",
            " 11  Financial Institution        10000 non-null  object \n",
            " 12  Tax Haven Country            10000 non-null  object \n",
            "dtypes: bool(1), float64(1), int64(2), object(9)\n",
            "memory usage: 947.4+ KB\n"
          ]
        }
      ],
      "source": [
        "# Step 3. Display summary of dataset structure, including column names, non-null counts, and data types.\n",
        "data.info()"
      ]
    },
    {
      "cell_type": "markdown",
      "metadata": {},
      "source": [
        "3. **Clean the Dataset**\n",
        "\n",
        "I will check for irregularities across the dataset which may hinder further analysis i.e spelling mistakes and duplication. Moneytary values will be brought down to 0 decimal places "
      ]
    },
    {
      "cell_type": "code",
      "execution_count": 35,
      "metadata": {},
      "outputs": [],
      "source": [
        "# Step 4. Drop columns that are not needed for analysis\n",
        "data.drop(columns=['Transaction ID'], inplace=True)"
      ]
    },
    {
      "cell_type": "code",
      "execution_count": 33,
      "metadata": {},
      "outputs": [
        {
          "name": "stdout",
          "output_type": "stream",
          "text": [
            "3680\n"
          ]
        }
      ],
      "source": [
        "# Step 5. Check for duplicate values in 'Person Involved' column\n",
        "print(data['Person Involved'].duplicated().sum())"
      ]
    },
    {
      "cell_type": "code",
      "execution_count": 42,
      "metadata": {},
      "outputs": [
        {
          "name": "stdout",
          "output_type": "stream",
          "text": [
            "['Person_1101' 'Person_7484' 'Person_3655' ... 'Person_6348' 'Person_4171'\n",
            " 'Person_3267']\n"
          ]
        }
      ],
      "source": [
        "print(data['Person Involved'].unique())"
      ]
    },
    {
      "cell_type": "markdown",
      "metadata": {},
      "source": [
        "Initially, I considered removing the `'Person Involved'` column because it contains coded identifiers. However, after discovering that there are 3,680 duplicate entries, it’s clear that this column provides valuable information for analysis. These repeated entries can help identify individuals involved in multiple transactions, which is important for detecting suspicious patterns or behaviors."
      ]
    },
    {
      "cell_type": "code",
      "execution_count": 41,
      "metadata": {},
      "outputs": [
        {
          "name": "stdout",
          "output_type": "stream",
          "text": [
            "9501\n"
          ]
        },
        {
          "data": {
            "text/plain": [
              "Financial Institution\n",
              "Bank_81     36\n",
              "Bank_260    36\n",
              "Bank_100    35\n",
              "Bank_120    34\n",
              "Bank_438    33\n",
              "            ..\n",
              "Bank_199    11\n",
              "Bank_169    11\n",
              "Bank_269    11\n",
              "Bank_249     9\n",
              "Bank_133     9\n",
              "Name: count, Length: 499, dtype: int64"
            ]
          },
          "execution_count": 41,
          "metadata": {},
          "output_type": "execute_result"
        }
      ],
      "source": [
        "# Step 6. Check for duplicate values in 'Financial Institution' column\n",
        "print(data['Financial Institution'].duplicated().sum())\n",
        "data['Financial Institution'].value_counts()"
      ]
    },
    {
      "cell_type": "markdown",
      "metadata": {},
      "source": [
        "The exploration above shows that there is repetition in the `'Financial Institution`' involved, with some banks appearing significantly more often than others. Therefore, I will retain this column to further analyze whether there is any correlation between the financial institution and the legality of the transactions."
      ]
    },
    {
      "cell_type": "code",
      "execution_count": 43,
      "metadata": {},
      "outputs": [
        {
          "name": "stdout",
          "output_type": "stream",
          "text": [
            "['Construction' 'Luxury Goods' 'Oil & Gas' 'Real Estate' 'Arms Trade'\n",
            " 'Casinos' 'Finance']\n"
          ]
        }
      ],
      "source": [
        "#Step 7. Check for irregularies in 'Industry' column\n",
        "print(data['Industry'].unique())"
      ]
    },
    {
      "cell_type": "markdown",
      "metadata": {},
      "source": [
        "`'Industry`' column contains seven industries and no irregularities in the data. "
      ]
    },
    {
      "cell_type": "code",
      "execution_count": 45,
      "metadata": {},
      "outputs": [
        {
          "name": "stdout",
          "output_type": "stream",
          "text": [
            "[ True False]\n",
            "['Illegal' 'Legal']\n",
            "['USA' 'South Africa' 'Switzerland' 'Russia' 'Brazil' 'UK' 'India' 'China'\n",
            " 'Singapore' 'UAE']\n",
            "['Singapore' 'Bahamas' 'Switzerland' 'Panama' 'Luxembourg'\n",
            " 'Cayman Islands']\n"
          ]
        }
      ],
      "source": [
        "#Step 8. Check for irregularities in remaining columns \n",
        "print(data['Reported by Authority'].unique())\n",
        "print(data['Source of Money'].unique())\n",
        "print(data['Destination Country'].unique())\n",
        "print(data['Tax Haven Country'].unique())\n",
        " "
      ]
    },
    {
      "cell_type": "markdown",
      "metadata": {},
      "source": [
        "The remaining columns in the dataset do not show any irregularities in their entries. There are a total of 10 countries where the source of money originates and six tax haven countries. Overall, the data quality in these columns appears to be good."
      ]
    },
    {
      "cell_type": "code",
      "execution_count": 47,
      "metadata": {},
      "outputs": [
        {
          "name": "stdout",
          "output_type": "stream",
          "text": [
            "0    3267530.0\n",
            "1    4965767.0\n",
            "2      94168.0\n",
            "3     386420.0\n",
            "4     643378.0\n",
            "Name: Amount (USD), dtype: float64\n"
          ]
        }
      ],
      "source": [
        "# Step 9. Change the monetary values to 0 decimal places\n",
        "data['Amount (USD)'] = data['Amount (USD)'].round(0)\n",
        "print(data['Amount (USD)'].head())\n",
        "  "
      ]
    },
    {
      "cell_type": "markdown",
      "metadata": {},
      "source": [
        "4. **Time Shift data**\n",
        "\n",
        "The transaction dates in the dataset range from 2013 onwards. For the purpose of this analysis, the dates have been shifted forward by 10 years to align with the current timeline (2023 and beyond). This adjustment helps in contextualizing the data to present-day conditions without altering the relative timing of transactions, allowing for more relevant insights while maintaining data integrity."
      ]
    },
    {
      "cell_type": "code",
      "execution_count": 49,
      "metadata": {},
      "outputs": [
        {
          "name": "stdout",
          "output_type": "stream",
          "text": [
            "0   2023-01-01 00:00:00\n",
            "1   2023-01-01 01:00:00\n",
            "2   2023-01-01 02:00:00\n",
            "3   2023-01-01 03:00:00\n",
            "4   2023-01-01 04:00:00\n",
            "Name: Date of Transaction, dtype: datetime64[ns]\n"
          ]
        }
      ],
      "source": [
        "# Check date column is in the correct datetime format to allow for analysis \n",
        "data['Date of Transaction'] = pd.to_datetime(data['Date of Transaction'])\n",
        "\n",
        "# Shift the dates forward by 10 years\n",
        "data['Date of Transaction'] = data['Date of Transaction'] + pd.DateOffset(years=10)\n",
        "print(data['Date of Transaction'].head())"
      ]
    },
    {
      "cell_type": "markdown",
      "metadata": {
        "id": "ZY3l0-AxO93d"
      },
      "source": [
        "---"
      ]
    },
    {
      "cell_type": "markdown",
      "metadata": {
        "id": "uFQo3ycuO-v6"
      },
      "source": [
        "# Section 2"
      ]
    },
    {
      "cell_type": "markdown",
      "metadata": {},
      "source": [
        "Section 2 content"
      ]
    },
    {
      "cell_type": "code",
      "execution_count": null,
      "metadata": {},
      "outputs": [],
      "source": []
    },
    {
      "cell_type": "markdown",
      "metadata": {},
      "source": [
        "---"
      ]
    },
    {
      "cell_type": "markdown",
      "metadata": {},
      "source": [
        "NOTE"
      ]
    },
    {
      "cell_type": "markdown",
      "metadata": {},
      "source": [
        "* You may add as many sections as you want, as long as it supports your project workflow.\n",
        "* All notebook's cells should be run top-down (you can't create a dynamic wherein a given point you need to go back to a previous cell to execute some task, like go back to a previous cell and refresh a variable content)"
      ]
    },
    {
      "cell_type": "markdown",
      "metadata": {},
      "source": [
        "---"
      ]
    },
    {
      "cell_type": "markdown",
      "metadata": {
        "id": "ltNetd085qHf"
      },
      "source": [
        "# Push files to Repo"
      ]
    },
    {
      "cell_type": "markdown",
      "metadata": {},
      "source": [
        "* In cases where you don't need to push files to Repo, you may replace this section with \"Conclusions and Next Steps\" and state your conclusions and next steps."
      ]
    },
    {
      "cell_type": "code",
      "execution_count": null,
      "metadata": {
        "id": "aKlnIozA4eQO",
        "outputId": "fd09bc1f-adb1-4511-f6ce-492a6af570c0"
      },
      "outputs": [],
      "source": [
        "import os\n",
        "try:\n",
        "  # create your folder here\n",
        "  # os.makedirs(name='')\n",
        "except Exception as e:\n",
        "  print(e)\n"
      ]
    }
  ],
  "metadata": {
    "accelerator": "GPU",
    "colab": {
      "name": "Data Practitioner Jupyter Notebook.ipynb",
      "provenance": [],
      "toc_visible": true
    },
    "kernelspec": {
      "display_name": ".venv",
      "language": "python",
      "name": "python3"
    },
    "language_info": {
      "codemirror_mode": {
        "name": "ipython",
        "version": 3
      },
      "file_extension": ".py",
      "mimetype": "text/x-python",
      "name": "python",
      "nbconvert_exporter": "python",
      "pygments_lexer": "ipython3",
      "version": "3.12.8"
    },
    "orig_nbformat": 2
  },
  "nbformat": 4,
  "nbformat_minor": 2
}
