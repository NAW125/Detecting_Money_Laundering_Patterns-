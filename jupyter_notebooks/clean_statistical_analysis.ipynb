{
 "cells": [
  {
   "cell_type": "markdown",
   "id": "c1824a79",
   "metadata": {},
   "source": [
    "# Exploratory Data Analysis\n"
   ]
  },
  {
   "cell_type": "markdown",
   "id": "1698fac7",
   "metadata": {},
   "source": [
    "---"
   ]
  },
  {
   "cell_type": "markdown",
   "id": "3a7f7ff7",
   "metadata": {},
   "source": [
    "1. **Import Required Libraries**\n",
    "\n",
    "I will begin by importing the necessary Python libraries for data handling and exploration."
   ]
  },
  {
   "cell_type": "code",
   "execution_count": 4,
   "id": "a73572dc",
   "metadata": {},
   "outputs": [
    {
     "name": "stdout",
     "output_type": "stream",
     "text": [
      "/Users/nataliewaugh/Documents/DataCode/Detecting_Money_Laundering_Patterns-/jupyter_notebooks\n"
     ]
    }
   ],
   "source": [
    "import pandas as pd\n",
    "import numpy as np\n",
    "import matplotlib as plt\n",
    "import seaborn as sns   \n",
    "import warnings\n",
    "import os \n",
    "\n",
    "# Step 0. Move up one directory level to where the dataset file is located, enabling pandas to find and load the CSV successfully\n",
    "print(os.getcwd())"
   ]
  },
  {
   "cell_type": "markdown",
   "id": "c15c4e0d",
   "metadata": {},
   "source": [
    "**Load the clean dataset**"
   ]
  },
  {
   "cell_type": "code",
   "execution_count": 9,
   "id": "7a0f67aa",
   "metadata": {},
   "outputs": [
    {
     "data": {
      "text/html": [
       "<div>\n",
       "<style scoped>\n",
       "    .dataframe tbody tr th:only-of-type {\n",
       "        vertical-align: middle;\n",
       "    }\n",
       "\n",
       "    .dataframe tbody tr th {\n",
       "        vertical-align: top;\n",
       "    }\n",
       "\n",
       "    .dataframe thead th {\n",
       "        text-align: right;\n",
       "    }\n",
       "</style>\n",
       "<table border=\"1\" class=\"dataframe\">\n",
       "  <thead>\n",
       "    <tr style=\"text-align: right;\">\n",
       "      <th></th>\n",
       "      <th>Origin Country</th>\n",
       "      <th>Amount (USD)</th>\n",
       "      <th>Transaction Type</th>\n",
       "      <th>Date of Transaction</th>\n",
       "      <th>Person Involved</th>\n",
       "      <th>Industry</th>\n",
       "      <th>Destination Country</th>\n",
       "      <th>Reported by Authority</th>\n",
       "      <th>Source of Money</th>\n",
       "      <th>Money Laundering Risk Score</th>\n",
       "      <th>Shell Companies Involved</th>\n",
       "      <th>Financial Institution</th>\n",
       "      <th>Tax Haven Country</th>\n",
       "      <th>Domestic or Cross-Border</th>\n",
       "      <th>Origin Country Category</th>\n",
       "      <th>Destination Tax Haven Flag</th>\n",
       "    </tr>\n",
       "  </thead>\n",
       "  <tbody>\n",
       "    <tr>\n",
       "      <th>0</th>\n",
       "      <td>Brazil</td>\n",
       "      <td>3267530.0</td>\n",
       "      <td>Offshore Transfer</td>\n",
       "      <td>2023-01-01 00:00:00</td>\n",
       "      <td>Person_1101</td>\n",
       "      <td>Construction</td>\n",
       "      <td>USA</td>\n",
       "      <td>True</td>\n",
       "      <td>Illegal</td>\n",
       "      <td>6</td>\n",
       "      <td>1</td>\n",
       "      <td>Bank_40</td>\n",
       "      <td>Singapore</td>\n",
       "      <td>Cross-Border</td>\n",
       "      <td>Upper-Middle / Partial Regulated</td>\n",
       "      <td>Non-Tax Haven</td>\n",
       "    </tr>\n",
       "    <tr>\n",
       "      <th>1</th>\n",
       "      <td>China</td>\n",
       "      <td>4965767.0</td>\n",
       "      <td>Stocks Transfer</td>\n",
       "      <td>2023-01-01 01:00:00</td>\n",
       "      <td>Person_7484</td>\n",
       "      <td>Luxury Goods</td>\n",
       "      <td>South Africa</td>\n",
       "      <td>False</td>\n",
       "      <td>Illegal</td>\n",
       "      <td>9</td>\n",
       "      <td>0</td>\n",
       "      <td>Bank_461</td>\n",
       "      <td>Bahamas</td>\n",
       "      <td>Cross-Border</td>\n",
       "      <td>Upper-Middle / Partial Regulated</td>\n",
       "      <td>Non-Tax Haven</td>\n",
       "    </tr>\n",
       "    <tr>\n",
       "      <th>2</th>\n",
       "      <td>UK</td>\n",
       "      <td>94168.0</td>\n",
       "      <td>Stocks Transfer</td>\n",
       "      <td>2023-01-01 02:00:00</td>\n",
       "      <td>Person_3655</td>\n",
       "      <td>Construction</td>\n",
       "      <td>Switzerland</td>\n",
       "      <td>True</td>\n",
       "      <td>Illegal</td>\n",
       "      <td>1</td>\n",
       "      <td>3</td>\n",
       "      <td>Bank_387</td>\n",
       "      <td>Switzerland</td>\n",
       "      <td>Cross-Border</td>\n",
       "      <td>High Income / Regulated</td>\n",
       "      <td>Tax Haven</td>\n",
       "    </tr>\n",
       "    <tr>\n",
       "      <th>3</th>\n",
       "      <td>UAE</td>\n",
       "      <td>386420.0</td>\n",
       "      <td>Cash Withdrawal</td>\n",
       "      <td>2023-01-01 03:00:00</td>\n",
       "      <td>Person_3226</td>\n",
       "      <td>Oil &amp; Gas</td>\n",
       "      <td>Russia</td>\n",
       "      <td>False</td>\n",
       "      <td>Illegal</td>\n",
       "      <td>7</td>\n",
       "      <td>2</td>\n",
       "      <td>Bank_353</td>\n",
       "      <td>Panama</td>\n",
       "      <td>Cross-Border</td>\n",
       "      <td>High Income / Tax Haven</td>\n",
       "      <td>Non-Tax Haven</td>\n",
       "    </tr>\n",
       "    <tr>\n",
       "      <th>4</th>\n",
       "      <td>South Africa</td>\n",
       "      <td>643378.0</td>\n",
       "      <td>Cryptocurrency</td>\n",
       "      <td>2023-01-01 04:00:00</td>\n",
       "      <td>Person_7975</td>\n",
       "      <td>Real Estate</td>\n",
       "      <td>USA</td>\n",
       "      <td>True</td>\n",
       "      <td>Illegal</td>\n",
       "      <td>1</td>\n",
       "      <td>9</td>\n",
       "      <td>Bank_57</td>\n",
       "      <td>Luxembourg</td>\n",
       "      <td>Cross-Border</td>\n",
       "      <td>Upper-Middle / Regulated</td>\n",
       "      <td>Non-Tax Haven</td>\n",
       "    </tr>\n",
       "  </tbody>\n",
       "</table>\n",
       "</div>"
      ],
      "text/plain": [
       "  Origin Country  Amount (USD)   Transaction Type  Date of Transaction  \\\n",
       "0         Brazil     3267530.0  Offshore Transfer  2023-01-01 00:00:00   \n",
       "1          China     4965767.0    Stocks Transfer  2023-01-01 01:00:00   \n",
       "2             UK       94168.0    Stocks Transfer  2023-01-01 02:00:00   \n",
       "3            UAE      386420.0    Cash Withdrawal  2023-01-01 03:00:00   \n",
       "4   South Africa      643378.0     Cryptocurrency  2023-01-01 04:00:00   \n",
       "\n",
       "  Person Involved      Industry Destination Country  Reported by Authority  \\\n",
       "0     Person_1101  Construction                 USA                   True   \n",
       "1     Person_7484  Luxury Goods        South Africa                  False   \n",
       "2     Person_3655  Construction         Switzerland                   True   \n",
       "3     Person_3226     Oil & Gas              Russia                  False   \n",
       "4     Person_7975   Real Estate                 USA                   True   \n",
       "\n",
       "  Source of Money  Money Laundering Risk Score  Shell Companies Involved  \\\n",
       "0         Illegal                            6                         1   \n",
       "1         Illegal                            9                         0   \n",
       "2         Illegal                            1                         3   \n",
       "3         Illegal                            7                         2   \n",
       "4         Illegal                            1                         9   \n",
       "\n",
       "  Financial Institution Tax Haven Country Domestic or Cross-Border  \\\n",
       "0               Bank_40         Singapore             Cross-Border   \n",
       "1              Bank_461           Bahamas             Cross-Border   \n",
       "2              Bank_387       Switzerland             Cross-Border   \n",
       "3              Bank_353            Panama             Cross-Border   \n",
       "4               Bank_57        Luxembourg             Cross-Border   \n",
       "\n",
       "            Origin Country Category Destination Tax Haven Flag  \n",
       "0  Upper-Middle / Partial Regulated              Non-Tax Haven  \n",
       "1  Upper-Middle / Partial Regulated              Non-Tax Haven  \n",
       "2           High Income / Regulated                  Tax Haven  \n",
       "3           High Income / Tax Haven              Non-Tax Haven  \n",
       "4          Upper-Middle / Regulated              Non-Tax Haven  "
      ]
     },
     "execution_count": 9,
     "metadata": {},
     "output_type": "execute_result"
    }
   ],
   "source": [
    "#Step 1. Load the dataset\n",
    "data = pd.read_csv('/Users/nataliewaugh/Documents/DataCode/Detecting_Money_Laundering_Patterns-/data/cleaned_money_laundering_datasetrevised.csv') \n",
    "\n",
    "#Step 2. show the first few rows of the dataset\n",
    "data.head()"
   ]
  },
  {
   "cell_type": "markdown",
   "id": "d5bf476b",
   "metadata": {},
   "source": [
    "## Initial Analysis "
   ]
  },
  {
   "cell_type": "markdown",
   "id": "01f6a6e6",
   "metadata": {},
   "source": [
    "This analysis begins with basic descriptive statistics — specifically, the mean, median, and mode of the numerical columns — to uncover initial patterns in the dataset."
   ]
  },
  {
   "cell_type": "code",
   "execution_count": null,
   "id": "2a436e1c",
   "metadata": {},
   "outputs": [
    {
     "data": {
      "text/html": [
       "<div>\n",
       "<style scoped>\n",
       "    .dataframe tbody tr th:only-of-type {\n",
       "        vertical-align: middle;\n",
       "    }\n",
       "\n",
       "    .dataframe tbody tr th {\n",
       "        vertical-align: top;\n",
       "    }\n",
       "\n",
       "    .dataframe thead th {\n",
       "        text-align: right;\n",
       "    }\n",
       "</style>\n",
       "<table border=\"1\" class=\"dataframe\">\n",
       "  <thead>\n",
       "    <tr style=\"text-align: right;\">\n",
       "      <th></th>\n",
       "      <th>mean</th>\n",
       "      <th>median</th>\n",
       "      <th>mode</th>\n",
       "      <th>min</th>\n",
       "      <th>max</th>\n",
       "      <th>std</th>\n",
       "      <th>25%</th>\n",
       "      <th>50%</th>\n",
       "      <th>75%</th>\n",
       "      <th>skewness</th>\n",
       "      <th>kurtosis</th>\n",
       "    </tr>\n",
       "  </thead>\n",
       "  <tbody>\n",
       "    <tr>\n",
       "      <th>Amount (USD)</th>\n",
       "      <td>2501817.6672</td>\n",
       "      <td>2501310.5</td>\n",
       "      <td>2655927.0</td>\n",
       "      <td>10032.0</td>\n",
       "      <td>4999812.0</td>\n",
       "      <td>1424364.278488</td>\n",
       "      <td>1279005.25</td>\n",
       "      <td>2501310.5</td>\n",
       "      <td>3722416.75</td>\n",
       "      <td>0.011124</td>\n",
       "      <td>-1.172878</td>\n",
       "    </tr>\n",
       "    <tr>\n",
       "      <th>Reported by Authority</th>\n",
       "      <td>0.2005</td>\n",
       "      <td>0.0</td>\n",
       "      <td>False</td>\n",
       "      <td>False</td>\n",
       "      <td>True</td>\n",
       "      <td>NaN</td>\n",
       "      <td>NaN</td>\n",
       "      <td>NaN</td>\n",
       "      <td>NaN</td>\n",
       "      <td>NaN</td>\n",
       "      <td>NaN</td>\n",
       "    </tr>\n",
       "    <tr>\n",
       "      <th>Money Laundering Risk Score</th>\n",
       "      <td>5.5264</td>\n",
       "      <td>6.0</td>\n",
       "      <td>9</td>\n",
       "      <td>1</td>\n",
       "      <td>10</td>\n",
       "      <td>2.893603</td>\n",
       "      <td>3.0</td>\n",
       "      <td>6.0</td>\n",
       "      <td>8.0</td>\n",
       "      <td>-0.011003</td>\n",
       "      <td>-1.243735</td>\n",
       "    </tr>\n",
       "    <tr>\n",
       "      <th>Shell Companies Involved</th>\n",
       "      <td>4.4694</td>\n",
       "      <td>4.0</td>\n",
       "      <td>0</td>\n",
       "      <td>0</td>\n",
       "      <td>9</td>\n",
       "      <td>2.879773</td>\n",
       "      <td>2.0</td>\n",
       "      <td>4.0</td>\n",
       "      <td>7.0</td>\n",
       "      <td>0.005806</td>\n",
       "      <td>-1.22295</td>\n",
       "    </tr>\n",
       "  </tbody>\n",
       "</table>\n",
       "</div>"
      ],
      "text/plain": [
       "                                     mean     median       mode      min  \\\n",
       "Amount (USD)                 2501817.6672  2501310.5  2655927.0  10032.0   \n",
       "Reported by Authority              0.2005        0.0      False    False   \n",
       "Money Laundering Risk Score        5.5264        6.0          9        1   \n",
       "Shell Companies Involved           4.4694        4.0          0        0   \n",
       "\n",
       "                                   max             std         25%        50%  \\\n",
       "Amount (USD)                 4999812.0  1424364.278488  1279005.25  2501310.5   \n",
       "Reported by Authority             True             NaN         NaN        NaN   \n",
       "Money Laundering Risk Score         10        2.893603         3.0        6.0   \n",
       "Shell Companies Involved             9        2.879773         2.0        4.0   \n",
       "\n",
       "                                    75%  skewness  kurtosis  \n",
       "Amount (USD)                 3722416.75  0.011124 -1.172878  \n",
       "Reported by Authority               NaN       NaN       NaN  \n",
       "Money Laundering Risk Score         8.0 -0.011003 -1.243735  \n",
       "Shell Companies Involved            7.0  0.005806  -1.22295  "
      ]
     },
     "metadata": {},
     "output_type": "display_data"
    }
   ],
   "source": [
    "# Step 12. Import seaborn and matplotlib\n",
    "import seaborn as sns\n",
    "import matplotlib.pyplot as plt\n",
    "\n",
    "\n",
    "# Step 13. Select numeric + boolean columns\n",
    "numeric_cols = data.select_dtypes(include=['float64', 'int64', 'bool']).columns\n",
    "\n",
    "# Step 14. Create stats DataFrame\n",
    "stats = pd.DataFrame(index=numeric_cols, columns=[\n",
    "    'mean', 'median', 'mode', 'min', 'max', 'std',\n",
    "    '25%', '50%', '75%', 'skewness', 'kurtosis',])\n",
    "\n",
    "# Step 15. Loop through each column\n",
    "for col in numeric_cols:\n",
    "    col_data = data[col]\n",
    "    \n",
    "    stats.loc[col, 'mean'] = col_data.mean()\n",
    "    stats.loc[col, 'median'] = col_data.median()\n",
    "    stats.loc[col, 'mode'] = col_data.mode().iloc[0] if not col_data.mode().empty else None\n",
    "    stats.loc[col, 'min'] = col_data.min()\n",
    "    stats.loc[col, 'max'] = col_data.max()\n",
    "\n",
    "# Step 16. Skip quantiles and advanced stats for booleans\n",
    "    if col_data.dtype != 'bool':\n",
    "        stats.loc[col, 'std'] = col_data.std()\n",
    "        stats.loc[col, '25%'] = col_data.quantile(0.25)\n",
    "        stats.loc[col, '50%'] = col_data.quantile(0.50)\n",
    "        stats.loc[col, '75%'] = col_data.quantile(0.75)\n",
    "        stats.loc[col, 'skewness'] = col_data.skew()\n",
    "        stats.loc[col, 'kurtosis'] = col_data.kurtosis()\n",
    "\n",
    "# Step 17. Display nicely\n",
    "display(stats.round(2))"
   ]
  },
  {
   "cell_type": "markdown",
   "id": "ca341b20",
   "metadata": {},
   "source": [
    "The Initial analysis of the data shows:\n",
    "\n",
    "`Amount (USD)`\n",
    "\n",
    "* **Mean**: 2,501,817. On average, transactions involve about \\$2.5 million.\n",
    "* **Median**: 2,501,310. The middle transaction amount is also about \\$2.5 million, very close to the mean, so the distribution might be roughly symmetric.\n",
    "* **Mode**: 2,655,927. The most common transaction amount is about \\$2.65 million.\n",
    "* **Max**: 4,999,812. The largest transaction is nearly \\$5 million.\n",
    "* **Standard Deviation**: 1,424,364. There is a high spread in transaction amounts, but because mean ≈ median, it suggests the spread isn't caused by strong outliers.\n",
    "* **25%**: 1,279,005.25 — 25% of all transactions fall below this amount. This shows what a “low-end” transaction looks like within the dataset.\n",
    "* **50%**: 2,501,310.50 — This is the **median**, meaning half the transactions are below this value and half are above. It's useful for understanding the \"typical\" transaction.\n",
    "* **75%**: 3,722,416.75 — 75% of transactions are below this amount, and 25% are above. This highlights what a relatively **large** transaction looks like within the context of the data.\n",
    "* **Skewness**: \\~0.01. The distribution is nearly symmetrical.\n",
    "* **Kurtosis**: -1.17. The distribution is flatter than normal, meaning fewer extreme outliers than expected in a bell curve.\n",
    "\n",
    "---\n",
    "\n",
    "`Reported by Authority` (Boolean: True = reported, False = not)\n",
    "\n",
    "* **Mean**: 0.2005. About **20%** of transactions were reported by authorities.\n",
    "* **Median**: 0.0. More than half of the transactions were **not reported**.\n",
    "* **Mode**: False. The most common value is **False**, confirming most cases are unreported.\n",
    "* **Max**: True. Some transactions were reported.\n",
    "* **Standard Deviation**: 0.400. Reflects a mix of True and False values, but skewed toward False.\n",
    "* **25%**: 0.0 — At least 25% of the values are definitely unreported.\n",
    "* **50%**: 0.0 — The median again confirms that at least half are unreported.\n",
    "* **75%**: 0.0 — Even 75% of the values are False (not reported), which shows that only a small minority were flagged by authorities.\n",
    "* **Skewness**: 1.50. Strong **right skew** — very few 1s (True values).\n",
    "* **Kurtosis**: 0.24. Slightly peaked compared to a normal distribution.\n",
    "\n",
    "**Conclusion**: Most transactions go unreported; this variable could help flag rare, suspicious activity.\n",
    "\n",
    "---\n",
    "\n",
    "`Money Laundering Risk Score` (0–10 scale)\n",
    "\n",
    "* **Mean**: \\~5.53. Average risk score is around 5.5.\n",
    "* **Median**: 6. Half the transactions have a score below 6, half above.\n",
    "* **Mode**: 9. Most common score is **9**, suggesting many high-risk transactions.\n",
    "* **Max**: 10. Some transactions score the maximum risk.\n",
    "* **Standard Deviation**: 2.89. There's a reasonable spread of scores.\n",
    "* **25%**: 3.0 — One-quarter of transactions are low-risk (below 3).\n",
    "* **50%**: 6.0 — The median; half of all transactions score below 6, half above.\n",
    "* **75%**: 8.0 — 25% of transactions have risk scores **higher than 8**, indicating a significant tail of high-risk activity.\n",
    "* **Skewness**: \\~-0.01. Very slight **left skew**, almost symmetric.\n",
    "* **Kurtosis**: -1.24. Flatter distribution — values more evenly spread than a bell curve.\n",
    "\n",
    "---\n",
    "\n",
    "`Shell Companies Involved` (0–9)\n",
    "\n",
    "* **Mean**: \\~4.47. On average, \\~4.5 shell companies are involved per transaction.\n",
    "* **Median**: 4. Half of transactions involve **4 or fewer** shell companies.\n",
    "* **Mode**: 0. Many transactions involve **no** shell companies at all.\n",
    "* **Max**: 9. Some transactions involve up to **9** shell companies.\n",
    "* **Standard Deviation**: 2.88. Moderate variability in number of shell companies involved.\n",
    "* **25%**: 2.0 — A quarter of transactions involve 2 or fewer shell companies.\n",
    "* **50%**: 4.0 — The median; half of all transactions involve fewer than 4 shell companies.\n",
    "* **75%**: 7.0 — A quarter of all transactions involve 7 or more shell companies — potentially suspicious activity.\n",
    "* **Skewness**: \\~0.01. Almost symmetrical distribution.\n",
    "* **Kurtosis**: -1.22. Flat distribution with fewer outliers.\n",
    "\n",
    "---"
   ]
  },
  {
   "cell_type": "markdown",
   "id": "62dbf71f",
   "metadata": {},
   "source": [
    "Next I will visualise the distribution for the four numerical columns."
   ]
  },
  {
   "cell_type": "markdown",
   "id": "d5e5a59d",
   "metadata": {},
   "source": [
    "We will plot the data to check the distribution. "
   ]
  },
  {
   "cell_type": "code",
   "execution_count": 11,
   "id": "a8657a2b",
   "metadata": {},
   "outputs": [
    {
     "data": {
      "image/png": "[encoded data removed]",
      "text/plain": [
       "<Figure size 800x400 with 1 Axes>"
      ]
     },
     "metadata": {},
     "output_type": "display_data"
    }
   ],
   "source": [
    "# Step 18. Create a histogram for 'Amount (USD)' to visualize the distribution of transaction amounts\n",
    "plt.figure(figsize=(8, 4))\n",
    "sns.countplot(x='Money Laundering Risk Score', data=data, color='blue', edgecolor='black')\n",
    "plt.title(\"Money Laundering Risk Score Count\")\n",
    "plt.ylabel(\"Frequency\")\n",
    "plt.xlabel(\"Risk Score\")\n",
    "plt.tight_layout()\n",
    "plt.show()"
   ]
  },
  {
   "cell_type": "markdown",
   "id": "982e38ab",
   "metadata": {},
   "source": [
    "There is a largely even spread of risk scores assigned to transactions."
   ]
  },
  {
   "cell_type": "code",
   "execution_count": 12,
   "id": "05922afe",
   "metadata": {},
   "outputs": [
    {
     "data": {
      "image/png": "[encoded data removed]",
      "text/plain": [
       "<Figure size 800x400 with 1 Axes>"
      ]
     },
     "metadata": {},
     "output_type": "display_data"
    }
   ],
   "source": [
    "# Step 19. Create a histogram for 'Shell Companies Involved' to visualize the distribution of shell companies\n",
    "plt.figure(figsize=(8, 4))\n",
    "sns.countplot(x='Shell Companies Involved', data=data, color='blue', edgecolor='black')\n",
    "plt.title(\"Shell Companies Involved\")\n",
    "plt.ylabel(\"Frequency\")\n",
    "plt.xlabel(\"Number of Shell Companies\")\n",
    "plt.tight_layout()\n",
    "plt.show()"
   ]
  },
  {
   "cell_type": "markdown",
   "id": "2644d609",
   "metadata": {},
   "source": [
    "This histogram shows there is also an even spread of transactions involving shell companies "
   ]
  },
  {
   "cell_type": "code",
   "execution_count": 13,
   "id": "1de82975",
   "metadata": {},
   "outputs": [
    {
     "name": "stdout",
     "output_type": "stream",
     "text": [
      "Standard Deviation for Amount (USD): $1,424,364.28\n"
     ]
    }
   ],
   "source": [
    "#Step 20. Calculate the standard deviation for 'Amount (USD)'\n",
    "std_amount = data['Amount (USD)'].std()\n",
    "print(f\"Standard Deviation for Amount (USD): ${std_amount:,.2f}\")"
   ]
  },
  {
   "cell_type": "code",
   "execution_count": 24,
   "id": "06fe4d9d",
   "metadata": {},
   "outputs": [
    {
     "data": {
      "image/png": "[encoded data removed]",
      "text/plain": [
       "<Figure size 640x480 with 1 Axes>"
      ]
     },
     "metadata": {},
     "output_type": "display_data"
    }
   ],
   "source": [
    "#Step 21. Create a boxplot for 'Amount (USD)' to visualize the distribution of transaction amounts\n",
    "sns.boxplot(x=data['Amount (USD)'], color='blue')\n",
    "\n",
    "q1 = data['Amount (USD)'].quantile(0.25)\n",
    "q3 = data['Amount (USD)'].quantile(0.75)\n",
    "\n",
    "plt.axvline(q1, color='green', linestyle='--')\n",
    "plt.axvline(q3, color='green', linestyle='--')\n",
    "\n",
    "plt.title('Distribution of transactions')\n",
    "plt.xlabel('Amount (USD)')\n",
    "\n",
    "plt.show()"
   ]
  },
  {
   "cell_type": "markdown",
   "id": "e5e12f91",
   "metadata": {},
   "source": [
    "This box plot shows that the mid point for most transactions is $2.5million, most transactions cluster around $1.5m and $3.75m. There are no extreme outliers beyond $5m and there can't be a transaction which is less than $0. "
   ]
  },
  {
   "cell_type": "code",
   "execution_count": 15,
   "id": "27cf4f22",
   "metadata": {},
   "outputs": [
    {
     "data": {
      "text/plain": [
       "Industry\n",
       "Luxury Goods    5.373544\n",
       "Oil & Gas       5.427843\n",
       "Real Estate     5.455301\n",
       "Casinos         5.556282\n",
       "Arms Trade      5.570721\n",
       "Construction    5.583562\n",
       "Finance         5.711864\n",
       "Name: Money Laundering Risk Score, dtype: float64"
      ]
     },
     "execution_count": 15,
     "metadata": {},
     "output_type": "execute_result"
    }
   ],
   "source": [
    "#Step 22. Calculate the mean Money Laundering Risk Score by Industry\n",
    "data.groupby('Industry')['Money Laundering Risk Score'].mean().sort_values()"
   ]
  },
  {
   "cell_type": "markdown",
   "id": "8a409f0a",
   "metadata": {},
   "source": [
    "Bearing in mind the `Money Laundering Risk Score`range from 1-9 inclusive, there isn't a great deal of difference between the low and the highest score."
   ]
  },
  {
   "cell_type": "code",
   "execution_count": null,
   "id": "ff58b717",
   "metadata": {},
   "outputs": [],
   "source": []
  },
  {
   "cell_type": "markdown",
   "id": "364cc342",
   "metadata": {},
   "source": [
    "---"
   ]
  },
  {
   "cell_type": "markdown",
   "id": "03f9d97c",
   "metadata": {},
   "source": [
    "## Advanced Analysis "
   ]
  },
  {
   "cell_type": "markdown",
   "id": "0ac9d61a",
   "metadata": {},
   "source": [
    "We will do a Pearson Correlation Analysis, to see if two variables move together. This will help you quantify the relationship between numerical variables, such as:\n",
    "- `Amount (USD)` and `Money Laundering Risk Score`\n",
    "- `Shell Companies Involved` and `Risk Score`\n",
    "- `Amount (USD)` and `Shell Companies Involved`\n"
   ]
  },
  {
   "cell_type": "code",
   "execution_count": 16,
   "id": "31775125",
   "metadata": {},
   "outputs": [
    {
     "name": "stdout",
     "output_type": "stream",
     "text": [
      "                             Amount (USD)  Money Laundering Risk Score  \\\n",
      "Amount (USD)                     1.000000                     0.016529   \n",
      "Money Laundering Risk Score      0.016529                     1.000000   \n",
      "Shell Companies Involved        -0.017905                    -0.019262   \n",
      "\n",
      "                             Shell Companies Involved  \n",
      "Amount (USD)                                -0.017905  \n",
      "Money Laundering Risk Score                 -0.019262  \n",
      "Shell Companies Involved                     1.000000  \n"
     ]
    }
   ],
   "source": [
    "# Step 23.Only include numerical columns\n",
    "numerical_cols = ['Amount (USD)', 'Money Laundering Risk Score', 'Shell Companies Involved']\n",
    "\n",
    "# Step 24. Compute correlation matrix\n",
    "correlation_matrix = data[numerical_cols].corr()\n",
    "\n",
    "# Step 25. Display it\n",
    "print(correlation_matrix)"
   ]
  },
  {
   "cell_type": "markdown",
   "id": "b07946d4",
   "metadata": {},
   "source": [
    "### Correlation Summary of Numerical Variables\n",
    "\n",
    "\n",
    "| Variable Pair                            | Correlation Coefficient | Interpretation |\n",
    "|------------------------------------------|--------------------------|----------------|\n",
    "| Amount (USD) & Risk Score                | 0.0165                   | Very weak positive correlation – almost no relationship |\n",
    "| Amount (USD) & Shell Companies Involved  | -0.0179                  | Very weak negative correlation – almost no relationship |\n",
    "| Risk Score & Shell Companies Involved    | -0.0193                  | Very weak negative correlation – almost no relationship |\n",
    "\n",
    "These results indicate that there is **no meaningful linear relationship** between these variables. For instance, larger transaction amounts are **not necessarily** associated with higher risk scores or more shell companies. This suggests that the `Money Laundering Risk Score` may be influenced more by other factors, such as `Industry`, `Country`, or whether the transaction was `Reported by Authority`."
   ]
  },
  {
   "cell_type": "code",
   "execution_count": 17,
   "id": "aaec4004",
   "metadata": {},
   "outputs": [
    {
     "data": {
      "image/png": "[encoded data removed]",
      "text/plain": [
       "<Figure size 800x600 with 2 Axes>"
      ]
     },
     "metadata": {},
     "output_type": "display_data"
    }
   ],
   "source": [
    "# Step 26. Visualize the correlation matrix using a heatmap\n",
    "plt.figure(figsize=(8,6))\n",
    "sns.heatmap(correlation_matrix, annot=True, cmap='coolwarm', fmt=\".2f\")\n",
    "plt.title(\"Correlation Between Numerical Variables\")\n",
    "plt.show()"
   ]
  },
  {
   "cell_type": "markdown",
   "id": "b62c78be",
   "metadata": {},
   "source": [
    "In order to calculate the relationships with categorical data, we'll explore the Chi Squared test, \n",
    "which is a statistical method used to determine if there is a significant association between two categorical \n",
    "variables. This test will help us understand if the distribution of one categorical variable differs significantly across the levels of another categorical variable."
   ]
  },
  {
   "cell_type": "code",
   "execution_count": 18,
   "id": "6a91a08d",
   "metadata": {},
   "outputs": [
    {
     "name": "stdout",
     "output_type": "stream",
     "text": [
      "Chi-squared statistic: 12.7965\n",
      "Degrees of freedom: 6\n",
      "P-value: 0.04638317224472215\n"
     ]
    }
   ],
   "source": [
    "from scipy.stats import chi2_contingency\n",
    "\n",
    "# Example: Chi-squared test between 'Industry' and 'Reported by Authority'\n",
    "cat1 = 'Industry'\n",
    "cat2 = 'Reported by Authority'\n",
    "\n",
    "# Create a contingency table\n",
    "contingency_table = pd.crosstab(data[cat1], data[cat2])\n",
    "\n",
    "# Run the Chi-squared test\n",
    "chi2, p, dof, expected = chi2_contingency(contingency_table)\n",
    "\n",
    "# Print results\n",
    "print(f\"Chi-squared statistic: {chi2:.4f}\")\n",
    "print(f\"Degrees of freedom: {dof}\")\n",
    "print(\"P-value:\", p)"
   ]
  },
  {
   "cell_type": "markdown",
   "id": "2c1a4a50",
   "metadata": {},
   "source": [
    "Here the chi-Squared test assesses the relationship between `Industry` and `Reported by Authority`. The result are statistically significant (χ² = 12.80, df = 6, p = 0.046), suggesting a potential association between the variables. However, since the p-value is close to 0.05, the evidence is weak indicating meaning it should be intrepreted with caution. "
   ]
  },
  {
   "cell_type": "code",
   "execution_count": null,
   "id": "968ccb4f",
   "metadata": {},
   "outputs": [
    {
     "name": "stdout",
     "output_type": "stream",
     "text": [
      "Chi-squared statistic: 3.5725\n",
      "Degrees of freedom: 1\n",
      "P-value: 0.05874435676800048\n"
     ]
    }
   ],
   "source": [
    "# Example: Chi-squared test between 'Shell Cat, (Number of shell companies involved) and \n",
    "# 'Reported by Authority (USD)'\n",
    "\n",
    "data['Shell_Cat'] = data['Shell Companies Involved'].apply(lambda x: '3 or more' if x >= 3 else 'Less than 3')\n",
    "\n",
    "cat1 = 'Shell_Cat'\n",
    "cat2 = 'Reported by Authority'\n",
    "\n",
    "# Create a contingency table\n",
    "contingency_table = pd.crosstab(data[cat1], data[cat2])\n",
    "\n",
    "# Run the Chi-squared test\n",
    "chi2, p, dof, expected = chi2_contingency(contingency_table)\n",
    "\n",
    "# Print results\n",
    "print(f\"Chi-squared statistic: {chi2:.4f}\")\n",
    "print(f\"Degrees of freedom: {dof}\")\n",
    "print(\"P-value:\", p)"
   ]
  },
  {
   "cell_type": "markdown",
   "id": "8c5cd601",
   "metadata": {},
   "source": [
    "The chi-Squared test assesses the relationship between `Shell Cat` and `Reported by Authority` The p-value of 0.059 is slightly above the conventional significance level of 0.05. This means we do not have strong enough evidence to conclude a statistically significant association between the number of shell companies and being reported — but the result is close to significance and may suggest a potential relationship worth further exploration with more data."
   ]
  },
  {
   "cell_type": "code",
   "execution_count": 20,
   "id": "219b0bbb",
   "metadata": {},
   "outputs": [
    {
     "name": "stdout",
     "output_type": "stream",
     "text": [
      "Chi-squared statistic: 41.2689\n",
      "Degrees of freedom: 20\n",
      "P-value: 0.0034399538602876483\n"
     ]
    }
   ],
   "source": [
    "# Example: Chi-squared test between 'Transaction Type' and 'Amount (USD)' - Hypothesis Three \n",
    "cat1 = 'Transaction Type'\n",
    "cat2 = 'Tax Haven Country'\n",
    "\n",
    "# Create a contingency table\n",
    "contingency_table = pd.crosstab(data[cat1], data[cat2])\n",
    "\n",
    "# Run the Chi-squared test\n",
    "chi2, p, dof, expected = chi2_contingency(contingency_table)\n",
    "\n",
    "# Print results\n",
    "print(f\"Chi-squared statistic: {chi2:.4f}\")\n",
    "print(f\"Degrees of freedom: {dof}\")\n",
    "print(\"P-value:\", p)"
   ]
  },
  {
   "cell_type": "markdown",
   "id": "01d4b2e7",
   "metadata": {},
   "source": [
    "Since the p-value (0.0034) is less than 0.05, we reject the null hypothesis and conclude that there is a statistically significant association between the two variables. This suggests that the observed differences between `Transaction Type` and `Tax Haven Country` are unlikely to be due to chance, and there may be a meaningful relationship between the two. "
   ]
  },
  {
   "cell_type": "markdown",
   "id": "9c1d55c8",
   "metadata": {},
   "source": [
    "**Save the cleaned dataset**"
   ]
  },
  {
   "cell_type": "code",
   "execution_count": 23,
   "id": "d0b3818f",
   "metadata": {},
   "outputs": [],
   "source": [
    "data.to_csv('/Users/nataliewaugh/Documents/DataCode/Detecting_Money_Laundering_Patterns-/data/Cleaned_Money_Laundering_Dataset.csv', index=False)"
   ]
  },
  {
   "cell_type": "code",
   "execution_count": null,
   "id": "7fbfaf31",
   "metadata": {},
   "outputs": [],
   "source": []
  }
 ],
 "metadata": {
  "kernelspec": {
   "display_name": ".venv",
   "language": "python",
   "name": "python3"
  },
  "language_info": {
   "codemirror_mode": {
    "name": "ipython",
    "version": 3
   },
   "file_extension": ".py",
   "mimetype": "text/x-python",
   "name": "python",
   "nbconvert_exporter": "python",
   "pygments_lexer": "ipython3",
   "version": "3.12.8"
  }
 },
 "nbformat": 4,
 "nbformat_minor": 5
}
