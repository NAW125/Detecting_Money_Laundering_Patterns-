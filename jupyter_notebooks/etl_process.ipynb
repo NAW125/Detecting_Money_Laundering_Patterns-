{
  "cells": [
    {
      "cell_type": "markdown",
      "metadata": {
        "id": "0aStgWSO0E0E"
      },
      "source": [
        "# Detecting Money Laundering Patterns Across Global Financial Transactions- ETL process"
      ]
    },
    {
      "cell_type": "markdown",
      "metadata": {
        "id": "1eLEkw5O0ECa"
      },
      "source": [
        "## Objectives\n",
        "\n",
        "This project will explore a large dataset of 10,000 records, containing information on international  financial transactions. The dataset includes categorical and numerical information as it relates to each financial transaction including country of origin, the legality of the transaction, transaction amount, industry, number of shell companies involved in a transaction, tax haven of country and risk rating. \n",
        "\n",
        "The objective is to determine what variable or group of variables within the dataset will determine if the transaction is illegal. To do this, I will:\n",
        "\n",
        "- Carry out a complete ETL (Extract, Transform, Load) process to clean and prepare the data.\n",
        "\n",
        "- Run statistical tests to evaluate the four different hypothesis.\n",
        "\n",
        "- Use these insights to suggest money laundering risk reduction strategies.\n",
        "\n"
      ]
    },
    {
      "cell_type": "markdown",
      "metadata": {},
      "source": [
        "\n",
        "\n"
      ]
    },
    {
      "cell_type": "markdown",
      "metadata": {},
      "source": [
        "## Ethics and Data Privacy\n",
        "\n",
        "All personal and identifiable information has been thoroughly removed from the dataset to ensure the privacy and confidentiality of individuals and institutions involved. Specifically:\n",
        "1. **Personal Identifiers:** Names, contact details, account numbers, and any direct personal identifiers have been fully anonymised. For example, individual names have been replaced with generic labels such as Person 123.\n",
        "Institutional Data: Identifiable information relating to financial institutions, such as bank names or branch identifiers, has also been anonymised, using placeholders like Bank 4833.\n",
        "\n",
        "2. **Indirect Identifiers:** Care has been taken to avoid inclusion of any combinations of data that could potentially lead to re-identification of individuals or organisations, in accordance with established data protection and ethical research guidelines.\n",
        "\n",
        "3. **Data Handling:** The data has been stored and handled securely throughout the project, and access has been restricted to authorised personnel only.\n",
        "These steps have been implemented to ensure compliance with ethical research standards and data protection regulations, including GDPR (where applicable), and to respect the privacy of all parties involved."
      ]
    },
    {
      "cell_type": "markdown",
      "metadata": {
        "id": "9uWZXH9LwoQg"
      },
      "source": [
        "---"
      ]
    },
    {
      "cell_type": "markdown",
      "metadata": {},
      "source": [
        "1. **Import Required Libraries**\n",
        "\n",
        "I will begin by importing the necessary Python libraries for data handling and exploration."
      ]
    },
    {
      "cell_type": "code",
      "execution_count": 24,
      "metadata": {
        "id": "wZfF_j-Bz3i4",
        "outputId": "66943449-1436-4c3d-85c7-b85f9f78349b"
      },
      "outputs": [
        {
          "name": "stdout",
          "output_type": "stream",
          "text": [
            "/Users/nataliewaugh/Documents/DataCode/Detecting_Money_Laundering_Patterns-/jupyter_notebooks\n"
          ]
        }
      ],
      "source": [
        "import pandas as pd\n",
        "import numpy as np\n",
        "import os\n",
        "\n",
        "# Step 0. Move up one directory level to where the dataset file is located, enabling pandas to find and load the CSV successfully\n",
        "print(os.getcwd())"
      ]
    },
    {
      "cell_type": "markdown",
      "metadata": {
        "id": "9MWW8E7lz3i7"
      },
      "source": [
        "2. **Load the Dataset**\n",
        "\n",
        "I will load the CSV file named Money_Laundering_Dataset.csv from the local directory."
      ]
    },
    {
      "cell_type": "code",
      "execution_count": 23,
      "metadata": {
        "id": "TwHsQRWjz3i9",
        "outputId": "86849db3-cd2f-4cc5-ebb8-2d0caafa1a2c"
      },
      "outputs": [
        {
          "data": {
            "text/html": [
              "<div>\n",
              "<style scoped>\n",
              "    .dataframe tbody tr th:only-of-type {\n",
              "        vertical-align: middle;\n",
              "    }\n",
              "\n",
              "    .dataframe tbody tr th {\n",
              "        vertical-align: top;\n",
              "    }\n",
              "\n",
              "    .dataframe thead th {\n",
              "        text-align: right;\n",
              "    }\n",
              "</style>\n",
              "<table border=\"1\" class=\"dataframe\">\n",
              "  <thead>\n",
              "    <tr style=\"text-align: right;\">\n",
              "      <th></th>\n",
              "      <th>Transaction ID</th>\n",
              "      <th>Country</th>\n",
              "      <th>Amount (USD)</th>\n",
              "      <th>Transaction Type</th>\n",
              "      <th>Date of Transaction</th>\n",
              "      <th>Person Involved</th>\n",
              "      <th>Industry</th>\n",
              "      <th>Destination Country</th>\n",
              "      <th>Reported by Authority</th>\n",
              "      <th>Source of Money</th>\n",
              "      <th>Money Laundering Risk Score</th>\n",
              "      <th>Shell Companies Involved</th>\n",
              "      <th>Financial Institution</th>\n",
              "      <th>Tax Haven Country</th>\n",
              "    </tr>\n",
              "  </thead>\n",
              "  <tbody>\n",
              "    <tr>\n",
              "      <th>0</th>\n",
              "      <td>TX0000000001</td>\n",
              "      <td>Brazil</td>\n",
              "      <td>3.267530e+06</td>\n",
              "      <td>Offshore Transfer</td>\n",
              "      <td>2013-01-01 00:00:00</td>\n",
              "      <td>Person_1101</td>\n",
              "      <td>Construction</td>\n",
              "      <td>USA</td>\n",
              "      <td>True</td>\n",
              "      <td>Illegal</td>\n",
              "      <td>6</td>\n",
              "      <td>1</td>\n",
              "      <td>Bank_40</td>\n",
              "      <td>Singapore</td>\n",
              "    </tr>\n",
              "    <tr>\n",
              "      <th>1</th>\n",
              "      <td>TX0000000002</td>\n",
              "      <td>China</td>\n",
              "      <td>4.965767e+06</td>\n",
              "      <td>Stocks Transfer</td>\n",
              "      <td>2013-01-01 01:00:00</td>\n",
              "      <td>Person_7484</td>\n",
              "      <td>Luxury Goods</td>\n",
              "      <td>South Africa</td>\n",
              "      <td>False</td>\n",
              "      <td>Illegal</td>\n",
              "      <td>9</td>\n",
              "      <td>0</td>\n",
              "      <td>Bank_461</td>\n",
              "      <td>Bahamas</td>\n",
              "    </tr>\n",
              "    <tr>\n",
              "      <th>2</th>\n",
              "      <td>TX0000000003</td>\n",
              "      <td>UK</td>\n",
              "      <td>9.416750e+04</td>\n",
              "      <td>Stocks Transfer</td>\n",
              "      <td>2013-01-01 02:00:00</td>\n",
              "      <td>Person_3655</td>\n",
              "      <td>Construction</td>\n",
              "      <td>Switzerland</td>\n",
              "      <td>True</td>\n",
              "      <td>Illegal</td>\n",
              "      <td>1</td>\n",
              "      <td>3</td>\n",
              "      <td>Bank_387</td>\n",
              "      <td>Switzerland</td>\n",
              "    </tr>\n",
              "    <tr>\n",
              "      <th>3</th>\n",
              "      <td>TX0000000004</td>\n",
              "      <td>UAE</td>\n",
              "      <td>3.864201e+05</td>\n",
              "      <td>Cash Withdrawal</td>\n",
              "      <td>2013-01-01 03:00:00</td>\n",
              "      <td>Person_3226</td>\n",
              "      <td>Oil &amp; Gas</td>\n",
              "      <td>Russia</td>\n",
              "      <td>False</td>\n",
              "      <td>Illegal</td>\n",
              "      <td>7</td>\n",
              "      <td>2</td>\n",
              "      <td>Bank_353</td>\n",
              "      <td>Panama</td>\n",
              "    </tr>\n",
              "    <tr>\n",
              "      <th>4</th>\n",
              "      <td>TX0000000005</td>\n",
              "      <td>South Africa</td>\n",
              "      <td>6.433784e+05</td>\n",
              "      <td>Cryptocurrency</td>\n",
              "      <td>2013-01-01 04:00:00</td>\n",
              "      <td>Person_7975</td>\n",
              "      <td>Real Estate</td>\n",
              "      <td>USA</td>\n",
              "      <td>True</td>\n",
              "      <td>Illegal</td>\n",
              "      <td>1</td>\n",
              "      <td>9</td>\n",
              "      <td>Bank_57</td>\n",
              "      <td>Luxembourg</td>\n",
              "    </tr>\n",
              "  </tbody>\n",
              "</table>\n",
              "</div>"
            ],
            "text/plain": [
              "  Transaction ID       Country  Amount (USD)   Transaction Type  \\\n",
              "0   TX0000000001        Brazil  3.267530e+06  Offshore Transfer   \n",
              "1   TX0000000002         China  4.965767e+06    Stocks Transfer   \n",
              "2   TX0000000003            UK  9.416750e+04    Stocks Transfer   \n",
              "3   TX0000000004           UAE  3.864201e+05    Cash Withdrawal   \n",
              "4   TX0000000005  South Africa  6.433784e+05     Cryptocurrency   \n",
              "\n",
              "   Date of Transaction Person Involved      Industry Destination Country  \\\n",
              "0  2013-01-01 00:00:00     Person_1101  Construction                 USA   \n",
              "1  2013-01-01 01:00:00     Person_7484  Luxury Goods        South Africa   \n",
              "2  2013-01-01 02:00:00     Person_3655  Construction         Switzerland   \n",
              "3  2013-01-01 03:00:00     Person_3226     Oil & Gas              Russia   \n",
              "4  2013-01-01 04:00:00     Person_7975   Real Estate                 USA   \n",
              "\n",
              "   Reported by Authority Source of Money  Money Laundering Risk Score  \\\n",
              "0                   True         Illegal                            6   \n",
              "1                  False         Illegal                            9   \n",
              "2                   True         Illegal                            1   \n",
              "3                  False         Illegal                            7   \n",
              "4                   True         Illegal                            1   \n",
              "\n",
              "   Shell Companies Involved Financial Institution Tax Haven Country  \n",
              "0                         1               Bank_40         Singapore  \n",
              "1                         0              Bank_461           Bahamas  \n",
              "2                         3              Bank_387       Switzerland  \n",
              "3                         2              Bank_353            Panama  \n",
              "4                         9               Bank_57        Luxembourg  "
            ]
          },
          "execution_count": 23,
          "metadata": {},
          "output_type": "execute_result"
        }
      ],
      "source": [
        "#Step 1. Load the dataset\n",
        "data = pd.read_csv('/Users/nataliewaugh/Documents/DataCode/Detecting_Money_Laundering_Patterns-/data/money_ laundering_dataset.csv')\n",
        "\n",
        "#Step 2. show the first few rows of the dataset\n",
        "data.head()"
      ]
    },
    {
      "cell_type": "code",
      "execution_count": 25,
      "metadata": {},
      "outputs": [
        {
          "name": "stdout",
          "output_type": "stream",
          "text": [
            "<class 'pandas.core.frame.DataFrame'>\n",
            "RangeIndex: 10000 entries, 0 to 9999\n",
            "Data columns (total 14 columns):\n",
            " #   Column                       Non-Null Count  Dtype  \n",
            "---  ------                       --------------  -----  \n",
            " 0   Transaction ID               10000 non-null  object \n",
            " 1   Country                      10000 non-null  object \n",
            " 2   Amount (USD)                 10000 non-null  float64\n",
            " 3   Transaction Type             10000 non-null  object \n",
            " 4   Date of Transaction          10000 non-null  object \n",
            " 5   Person Involved              10000 non-null  object \n",
            " 6   Industry                     10000 non-null  object \n",
            " 7   Destination Country          10000 non-null  object \n",
            " 8   Reported by Authority        10000 non-null  bool   \n",
            " 9   Source of Money              10000 non-null  object \n",
            " 10  Money Laundering Risk Score  10000 non-null  int64  \n",
            " 11  Shell Companies Involved     10000 non-null  int64  \n",
            " 12  Financial Institution        10000 non-null  object \n",
            " 13  Tax Haven Country            10000 non-null  object \n",
            "dtypes: bool(1), float64(1), int64(2), object(10)\n",
            "memory usage: 1.0+ MB\n"
          ]
        }
      ],
      "source": [
        "# Step 3. Display summary of dataset structure, including column names, non-null counts, and data types.\n",
        "data.info()"
      ]
    },
    {
      "cell_type": "markdown",
      "metadata": {},
      "source": [
        "3. **Clean the Dataset**\n",
        "\n",
        "I will check for irregularities across the dataset which may hinder further analysis i.e spelling mistakes and duplication. Moneytary values will be brought down to 0 decimal places, due to the large sums of money involved. "
      ]
    },
    {
      "cell_type": "code",
      "execution_count": 3,
      "metadata": {},
      "outputs": [],
      "source": [
        "# Step 4. Drop columns that are not needed for analysis\n",
        "data.drop(columns=['Transaction ID'], inplace=True)"
      ]
    },
    {
      "cell_type": "code",
      "execution_count": 4,
      "metadata": {},
      "outputs": [
        {
          "name": "stdout",
          "output_type": "stream",
          "text": [
            "3680\n"
          ]
        }
      ],
      "source": [
        "# Step 5. Check for duplicate values in 'Person Involved' column\n",
        "print(data['Person Involved'].duplicated().sum())"
      ]
    },
    {
      "cell_type": "code",
      "execution_count": 5,
      "metadata": {},
      "outputs": [
        {
          "name": "stdout",
          "output_type": "stream",
          "text": [
            "['Person_1101' 'Person_7484' 'Person_3655' ... 'Person_6348' 'Person_4171'\n",
            " 'Person_3267']\n"
          ]
        }
      ],
      "source": [
        "print(data['Person Involved'].unique())"
      ]
    },
    {
      "cell_type": "markdown",
      "metadata": {},
      "source": [
        "Initially, I considered removing the `'Person Involved'` column because it contains coded identifiers. However, after discovering that there are 3,680 duplicate entries, it’s clear that this column provides valuable information for analysis. These repeated entries can help identify individuals involved in multiple transactions, which is important for detecting suspicious patterns or behaviors."
      ]
    },
    {
      "cell_type": "code",
      "execution_count": 6,
      "metadata": {},
      "outputs": [
        {
          "name": "stdout",
          "output_type": "stream",
          "text": [
            "9501\n"
          ]
        },
        {
          "data": {
            "text/plain": [
              "Financial Institution\n",
              "Bank_81     36\n",
              "Bank_260    36\n",
              "Bank_100    35\n",
              "Bank_120    34\n",
              "Bank_438    33\n",
              "            ..\n",
              "Bank_199    11\n",
              "Bank_169    11\n",
              "Bank_269    11\n",
              "Bank_249     9\n",
              "Bank_133     9\n",
              "Name: count, Length: 499, dtype: int64"
            ]
          },
          "execution_count": 6,
          "metadata": {},
          "output_type": "execute_result"
        }
      ],
      "source": [
        "# Step 6. Check for duplicate values in 'Financial Institution' column\n",
        "print(data['Financial Institution'].duplicated().sum())\n",
        "data['Financial Institution'].value_counts()"
      ]
    },
    {
      "cell_type": "markdown",
      "metadata": {},
      "source": [
        "The exploration above shows that there is repetition in the `'Financial Institution`' involved, with some banks appearing significantly more often than others. Therefore, I will retain this column to further analyze whether there is any correlation between the financial institution and the legality of the transactions."
      ]
    },
    {
      "cell_type": "code",
      "execution_count": 7,
      "metadata": {},
      "outputs": [
        {
          "name": "stdout",
          "output_type": "stream",
          "text": [
            "['Construction' 'Luxury Goods' 'Oil & Gas' 'Real Estate' 'Arms Trade'\n",
            " 'Casinos' 'Finance']\n"
          ]
        }
      ],
      "source": [
        "#Step 7. Check for irregularies in 'Industry' column\n",
        "print(data['Industry'].unique())"
      ]
    },
    {
      "cell_type": "markdown",
      "metadata": {},
      "source": [
        "`'Industry`' column contains seven industries and no irregularities in the data. "
      ]
    },
    {
      "cell_type": "code",
      "execution_count": 8,
      "metadata": {},
      "outputs": [
        {
          "name": "stdout",
          "output_type": "stream",
          "text": [
            "[ True False]\n",
            "['Illegal' 'Legal']\n",
            "['USA' 'South Africa' 'Switzerland' 'Russia' 'Brazil' 'UK' 'India' 'China'\n",
            " 'Singapore' 'UAE']\n",
            "['Singapore' 'Bahamas' 'Switzerland' 'Panama' 'Luxembourg'\n",
            " 'Cayman Islands']\n"
          ]
        }
      ],
      "source": [
        "#Step 8. Check for irregularities in remaining columns \n",
        "print(data['Reported by Authority'].unique())\n",
        "print(data['Source of Money'].unique())\n",
        "print(data['Destination Country'].unique())\n",
        "print(data['Tax Haven Country'].unique())\n",
        " "
      ]
    },
    {
      "cell_type": "markdown",
      "metadata": {},
      "source": [
        "The remaining columns in the dataset do not show any irregularities in their entries. There are a total of 10 countries where the source of money originates and six tax haven countries. Overall, the data quality in these columns appears to be good."
      ]
    },
    {
      "cell_type": "code",
      "execution_count": 9,
      "metadata": {},
      "outputs": [
        {
          "name": "stdout",
          "output_type": "stream",
          "text": [
            "0    3267530.0\n",
            "1    4965767.0\n",
            "2      94168.0\n",
            "3     386420.0\n",
            "4     643378.0\n",
            "Name: Amount (USD), dtype: float64\n"
          ]
        }
      ],
      "source": [
        "# Step 9. Change the monetary values to 0 decimal places\n",
        "data['Amount (USD)'] = data['Amount (USD)'].round(0)\n",
        "print(data['Amount (USD)'].head())\n",
        "  "
      ]
    },
    {
      "cell_type": "markdown",
      "metadata": {},
      "source": [
        "4. **Time Shift data**\n",
        "\n",
        "The `Date of Transaction` in the dataset range from 2013 onwards. For the purpose of this analysis, the dates have been shifted forward by 10 years to align with the current timeline (2023 and beyond). This adjustment helps in contextualizing the data to present-day conditions without altering the relative timing of transactions, allowing for more relevant insights while maintaining data integrity."
      ]
    },
    {
      "cell_type": "code",
      "execution_count": 28,
      "metadata": {},
      "outputs": [
        {
          "ename": "NameError",
          "evalue": "name 'relativedelta' is not defined",
          "output_type": "error",
          "traceback": [
            "\u001b[31m---------------------------------------------------------------------------\u001b[39m",
            "\u001b[31mNameError\u001b[39m                                 Traceback (most recent call last)",
            "\u001b[36mCell\u001b[39m\u001b[36m \u001b[39m\u001b[32mIn[28]\u001b[39m\u001b[32m, line 2\u001b[39m\n\u001b[32m      1\u001b[39m \u001b[38;5;66;03m# Step 10. Shift the date forward by 10 years, add ten years to the existing 'Date of Transaction' column\u001b[39;00m\n\u001b[32m----> \u001b[39m\u001b[32m2\u001b[39m data[\u001b[33m'\u001b[39m\u001b[33mDate of Transaction\u001b[39m\u001b[33m'\u001b[39m] = \u001b[43mdata\u001b[49m\u001b[43m[\u001b[49m\u001b[33;43m'\u001b[39;49m\u001b[33;43mDate of Transaction\u001b[39;49m\u001b[33;43m'\u001b[39;49m\u001b[43m]\u001b[49m\u001b[43m.\u001b[49m\u001b[43mapply\u001b[49m\u001b[43m(\u001b[49m\u001b[38;5;28;43;01mlambda\u001b[39;49;00m\u001b[43m \u001b[49m\u001b[43mx\u001b[49m\u001b[43m:\u001b[49m\u001b[43m \u001b[49m\u001b[43mx\u001b[49m\u001b[43m \u001b[49m\u001b[43m+\u001b[49m\u001b[43m \u001b[49m\u001b[43mrelativedelta\u001b[49m\u001b[43m(\u001b[49m\u001b[43myears\u001b[49m\u001b[43m=\u001b[49m\u001b[32;43m10\u001b[39;49m\u001b[43m)\u001b[49m\u001b[43m)\u001b[49m\n\u001b[32m      4\u001b[39m \u001b[38;5;66;03m# Step 11. Preview to show updated 'Date of Transaction' column\u001b[39;00m\n\u001b[32m      5\u001b[39m \u001b[38;5;28mprint\u001b[39m(data[\u001b[33m'\u001b[39m\u001b[33mDate of Trasaction\u001b[39m\u001b[33m'\u001b[39m].head())\n",
            "\u001b[36mFile \u001b[39m\u001b[32m~/Documents/DataCode/Detecting_Money_Laundering_Patterns-/.venv/lib/python3.12/site-packages/pandas/core/series.py:4760\u001b[39m, in \u001b[36mSeries.apply\u001b[39m\u001b[34m(self, func, convert_dtype, args, by_row, **kwargs)\u001b[39m\n\u001b[32m   4625\u001b[39m \u001b[38;5;28;01mdef\u001b[39;00m\u001b[38;5;250m \u001b[39m\u001b[34mapply\u001b[39m(\n\u001b[32m   4626\u001b[39m     \u001b[38;5;28mself\u001b[39m,\n\u001b[32m   4627\u001b[39m     func: AggFuncType,\n\u001b[32m   (...)\u001b[39m\u001b[32m   4632\u001b[39m     **kwargs,\n\u001b[32m   4633\u001b[39m ) -> DataFrame | Series:\n\u001b[32m   4634\u001b[39m \u001b[38;5;250m    \u001b[39m\u001b[33;03m\"\"\"\u001b[39;00m\n\u001b[32m   4635\u001b[39m \u001b[33;03m    Invoke function on values of Series.\u001b[39;00m\n\u001b[32m   4636\u001b[39m \n\u001b[32m   (...)\u001b[39m\u001b[32m   4751\u001b[39m \u001b[33;03m    dtype: float64\u001b[39;00m\n\u001b[32m   4752\u001b[39m \u001b[33;03m    \"\"\"\u001b[39;00m\n\u001b[32m   4753\u001b[39m     \u001b[38;5;28;01mreturn\u001b[39;00m \u001b[43mSeriesApply\u001b[49m\u001b[43m(\u001b[49m\n\u001b[32m   4754\u001b[39m \u001b[43m        \u001b[49m\u001b[38;5;28;43mself\u001b[39;49m\u001b[43m,\u001b[49m\n\u001b[32m   4755\u001b[39m \u001b[43m        \u001b[49m\u001b[43mfunc\u001b[49m\u001b[43m,\u001b[49m\n\u001b[32m   4756\u001b[39m \u001b[43m        \u001b[49m\u001b[43mconvert_dtype\u001b[49m\u001b[43m=\u001b[49m\u001b[43mconvert_dtype\u001b[49m\u001b[43m,\u001b[49m\n\u001b[32m   4757\u001b[39m \u001b[43m        \u001b[49m\u001b[43mby_row\u001b[49m\u001b[43m=\u001b[49m\u001b[43mby_row\u001b[49m\u001b[43m,\u001b[49m\n\u001b[32m   4758\u001b[39m \u001b[43m        \u001b[49m\u001b[43margs\u001b[49m\u001b[43m=\u001b[49m\u001b[43margs\u001b[49m\u001b[43m,\u001b[49m\n\u001b[32m   4759\u001b[39m \u001b[43m        \u001b[49m\u001b[43mkwargs\u001b[49m\u001b[43m=\u001b[49m\u001b[43mkwargs\u001b[49m\u001b[43m,\u001b[49m\n\u001b[32m-> \u001b[39m\u001b[32m4760\u001b[39m \u001b[43m    \u001b[49m\u001b[43m)\u001b[49m\u001b[43m.\u001b[49m\u001b[43mapply\u001b[49m\u001b[43m(\u001b[49m\u001b[43m)\u001b[49m\n",
            "\u001b[36mFile \u001b[39m\u001b[32m~/Documents/DataCode/Detecting_Money_Laundering_Patterns-/.venv/lib/python3.12/site-packages/pandas/core/apply.py:1207\u001b[39m, in \u001b[36mSeriesApply.apply\u001b[39m\u001b[34m(self)\u001b[39m\n\u001b[32m   1204\u001b[39m     \u001b[38;5;28;01mreturn\u001b[39;00m \u001b[38;5;28mself\u001b[39m.apply_compat()\n\u001b[32m   1206\u001b[39m \u001b[38;5;66;03m# self.func is Callable\u001b[39;00m\n\u001b[32m-> \u001b[39m\u001b[32m1207\u001b[39m \u001b[38;5;28;01mreturn\u001b[39;00m \u001b[38;5;28;43mself\u001b[39;49m\u001b[43m.\u001b[49m\u001b[43mapply_standard\u001b[49m\u001b[43m(\u001b[49m\u001b[43m)\u001b[49m\n",
            "\u001b[36mFile \u001b[39m\u001b[32m~/Documents/DataCode/Detecting_Money_Laundering_Patterns-/.venv/lib/python3.12/site-packages/pandas/core/apply.py:1287\u001b[39m, in \u001b[36mSeriesApply.apply_standard\u001b[39m\u001b[34m(self)\u001b[39m\n\u001b[32m   1281\u001b[39m \u001b[38;5;66;03m# row-wise access\u001b[39;00m\n\u001b[32m   1282\u001b[39m \u001b[38;5;66;03m# apply doesn't have a `na_action` keyword and for backward compat reasons\u001b[39;00m\n\u001b[32m   1283\u001b[39m \u001b[38;5;66;03m# we need to give `na_action=\"ignore\"` for categorical data.\u001b[39;00m\n\u001b[32m   1284\u001b[39m \u001b[38;5;66;03m# TODO: remove the `na_action=\"ignore\"` when that default has been changed in\u001b[39;00m\n\u001b[32m   1285\u001b[39m \u001b[38;5;66;03m#  Categorical (GH51645).\u001b[39;00m\n\u001b[32m   1286\u001b[39m action = \u001b[33m\"\u001b[39m\u001b[33mignore\u001b[39m\u001b[33m\"\u001b[39m \u001b[38;5;28;01mif\u001b[39;00m \u001b[38;5;28misinstance\u001b[39m(obj.dtype, CategoricalDtype) \u001b[38;5;28;01melse\u001b[39;00m \u001b[38;5;28;01mNone\u001b[39;00m\n\u001b[32m-> \u001b[39m\u001b[32m1287\u001b[39m mapped = \u001b[43mobj\u001b[49m\u001b[43m.\u001b[49m\u001b[43m_map_values\u001b[49m\u001b[43m(\u001b[49m\n\u001b[32m   1288\u001b[39m \u001b[43m    \u001b[49m\u001b[43mmapper\u001b[49m\u001b[43m=\u001b[49m\u001b[43mcurried\u001b[49m\u001b[43m,\u001b[49m\u001b[43m \u001b[49m\u001b[43mna_action\u001b[49m\u001b[43m=\u001b[49m\u001b[43maction\u001b[49m\u001b[43m,\u001b[49m\u001b[43m \u001b[49m\u001b[43mconvert\u001b[49m\u001b[43m=\u001b[49m\u001b[38;5;28;43mself\u001b[39;49m\u001b[43m.\u001b[49m\u001b[43mconvert_dtype\u001b[49m\n\u001b[32m   1289\u001b[39m \u001b[43m\u001b[49m\u001b[43m)\u001b[49m\n\u001b[32m   1291\u001b[39m \u001b[38;5;28;01mif\u001b[39;00m \u001b[38;5;28mlen\u001b[39m(mapped) \u001b[38;5;129;01mand\u001b[39;00m \u001b[38;5;28misinstance\u001b[39m(mapped[\u001b[32m0\u001b[39m], ABCSeries):\n\u001b[32m   1292\u001b[39m     \u001b[38;5;66;03m# GH#43986 Need to do list(mapped) in order to get treated as nested\u001b[39;00m\n\u001b[32m   1293\u001b[39m     \u001b[38;5;66;03m#  See also GH#25959 regarding EA support\u001b[39;00m\n\u001b[32m   1294\u001b[39m     \u001b[38;5;28;01mreturn\u001b[39;00m obj._constructor_expanddim(\u001b[38;5;28mlist\u001b[39m(mapped), index=obj.index)\n",
            "\u001b[36mFile \u001b[39m\u001b[32m~/Documents/DataCode/Detecting_Money_Laundering_Patterns-/.venv/lib/python3.12/site-packages/pandas/core/base.py:921\u001b[39m, in \u001b[36mIndexOpsMixin._map_values\u001b[39m\u001b[34m(self, mapper, na_action, convert)\u001b[39m\n\u001b[32m    918\u001b[39m \u001b[38;5;28;01mif\u001b[39;00m \u001b[38;5;28misinstance\u001b[39m(arr, ExtensionArray):\n\u001b[32m    919\u001b[39m     \u001b[38;5;28;01mreturn\u001b[39;00m arr.map(mapper, na_action=na_action)\n\u001b[32m--> \u001b[39m\u001b[32m921\u001b[39m \u001b[38;5;28;01mreturn\u001b[39;00m \u001b[43malgorithms\u001b[49m\u001b[43m.\u001b[49m\u001b[43mmap_array\u001b[49m\u001b[43m(\u001b[49m\u001b[43marr\u001b[49m\u001b[43m,\u001b[49m\u001b[43m \u001b[49m\u001b[43mmapper\u001b[49m\u001b[43m,\u001b[49m\u001b[43m \u001b[49m\u001b[43mna_action\u001b[49m\u001b[43m=\u001b[49m\u001b[43mna_action\u001b[49m\u001b[43m,\u001b[49m\u001b[43m \u001b[49m\u001b[43mconvert\u001b[49m\u001b[43m=\u001b[49m\u001b[43mconvert\u001b[49m\u001b[43m)\u001b[49m\n",
            "\u001b[36mFile \u001b[39m\u001b[32m~/Documents/DataCode/Detecting_Money_Laundering_Patterns-/.venv/lib/python3.12/site-packages/pandas/core/algorithms.py:1814\u001b[39m, in \u001b[36mmap_array\u001b[39m\u001b[34m(arr, mapper, na_action, convert)\u001b[39m\n\u001b[32m   1812\u001b[39m values = arr.astype(\u001b[38;5;28mobject\u001b[39m, copy=\u001b[38;5;28;01mFalse\u001b[39;00m)\n\u001b[32m   1813\u001b[39m \u001b[38;5;28;01mif\u001b[39;00m na_action \u001b[38;5;129;01mis\u001b[39;00m \u001b[38;5;28;01mNone\u001b[39;00m:\n\u001b[32m-> \u001b[39m\u001b[32m1814\u001b[39m     \u001b[38;5;28;01mreturn\u001b[39;00m \u001b[43mlib\u001b[49m\u001b[43m.\u001b[49m\u001b[43mmap_infer\u001b[49m\u001b[43m(\u001b[49m\u001b[43mvalues\u001b[49m\u001b[43m,\u001b[49m\u001b[43m \u001b[49m\u001b[43mmapper\u001b[49m\u001b[43m,\u001b[49m\u001b[43m \u001b[49m\u001b[43mconvert\u001b[49m\u001b[43m=\u001b[49m\u001b[43mconvert\u001b[49m\u001b[43m)\u001b[49m\n\u001b[32m   1815\u001b[39m \u001b[38;5;28;01melse\u001b[39;00m:\n\u001b[32m   1816\u001b[39m     \u001b[38;5;28;01mreturn\u001b[39;00m lib.map_infer_mask(\n\u001b[32m   1817\u001b[39m         values, mapper, mask=isna(values).view(np.uint8), convert=convert\n\u001b[32m   1818\u001b[39m     )\n",
            "\u001b[36mFile \u001b[39m\u001b[32mlib.pyx:2917\u001b[39m, in \u001b[36mpandas._libs.lib.map_infer\u001b[39m\u001b[34m()\u001b[39m\n",
            "\u001b[36mCell\u001b[39m\u001b[36m \u001b[39m\u001b[32mIn[28]\u001b[39m\u001b[32m, line 2\u001b[39m, in \u001b[36m<lambda>\u001b[39m\u001b[34m(x)\u001b[39m\n\u001b[32m      1\u001b[39m \u001b[38;5;66;03m# Step 10. Shift the date forward by 10 years, add ten years to the existing 'Date of Transaction' column\u001b[39;00m\n\u001b[32m----> \u001b[39m\u001b[32m2\u001b[39m data[\u001b[33m'\u001b[39m\u001b[33mDate of Transaction\u001b[39m\u001b[33m'\u001b[39m] = data[\u001b[33m'\u001b[39m\u001b[33mDate of Transaction\u001b[39m\u001b[33m'\u001b[39m].apply(\u001b[38;5;28;01mlambda\u001b[39;00m x: x + \u001b[43mrelativedelta\u001b[49m(years=\u001b[32m10\u001b[39m))\n\u001b[32m      4\u001b[39m \u001b[38;5;66;03m# Step 11. Preview to show updated 'Date of Transaction' column\u001b[39;00m\n\u001b[32m      5\u001b[39m \u001b[38;5;28mprint\u001b[39m(data[\u001b[33m'\u001b[39m\u001b[33mDate of Trasaction\u001b[39m\u001b[33m'\u001b[39m].head())\n",
            "\u001b[31mNameError\u001b[39m: name 'relativedelta' is not defined"
          ]
        }
      ],
      "source": [
        "# Step 10. Shift the date forward by 10 years, add ten years to the existing 'Date of Transaction' column\n",
        "data['Date of Transaction'] = data['Date of Transaction'].apply(lambda x: x + relativedelta(years=10))\n",
        "\n",
        "# Step 11. Preview to show updated 'Date of Transaction' column\n",
        "print(data['Date of Trasaction'].head())"
      ]
    },
    {
      "cell_type": "markdown",
      "metadata": {},
      "source": [
        "Upon reviewing the dataset, I found that only three out of ten columns contain numerical data, while the rest are categorical. A large portion of categorical data makes it more difficult to visualize and uncover meaningful patterns. Therefore, I will convert some of these categorical columns into numerical or binary features, making the data easier to analyze and more suitable for visualisation and pattern detection. "
      ]
    },
    {
      "cell_type": "code",
      "execution_count": 26,
      "metadata": {},
      "outputs": [
        {
          "name": "stdout",
          "output_type": "stream",
          "text": [
            "['Brazil' 'China' 'UK' 'UAE' 'South Africa' 'Russia' 'Switzerland' 'India'\n",
            " 'USA' 'Singapore']\n",
            "['USA' 'South Africa' 'Switzerland' 'Russia' 'Brazil' 'UK' 'India' 'China'\n",
            " 'Singapore' 'UAE']\n"
          ]
        }
      ],
      "source": [
        "# Step 12. Check for unique values in categorical columns\n",
        "print(data['Country'].unique())\n",
        "print(data['Destination Country'].unique())"
      ]
    },
    {
      "cell_type": "markdown",
      "metadata": {},
      "source": [
        "There are 10 unique values in both the Country and Destination Country columns. There is overlap between the two columns, meaning some transactions may remain within the same country — whether legal or illegal. To enable clearer analysis in Tableau, especially for identifying cross-border risks and country-type behavior, I will create three engineered categorical columns:\n",
        "\n",
        "1. **Number of Shell Companies Involved**  creating a column `Shell Cat` Additional column for the number of shell companies involved. Defining two categories, Transactions which involve less that three shell companies and transactions that involve more than three shell companies, grouping all transactions from 3-10 in one single bin. \n",
        "\n",
        "\n",
        "1. **Transaction Type: Domestic vs Cross-Border**\n",
        "Purpose: Quickly identifies if a transaction stays within the same country or goes across borders.\n",
        "Method: Compare Country with Destination Country.\n",
        "\n",
        "2. **Origin Country Category (Income & Regulation Bins)**\n",
        "Based on UN classifications, World Bank income levels, and FATF regulatory status, countries can be grouped into three bins:\n",
        "Country\tOrigin Country Bin\n",
        "Brazil\tUpper-Middle Income / Moderate Regulation\n",
        "China\tUpper-Middle Income / Strict Regulation\n",
        "UK\tHigh Income / Strong Regulation\n",
        "UAE\tHigh Income / Low Transparency / Risk Zone\n",
        "South Africa\tUpper-Middle Income / Moderate Regulation\n",
        "Russia\tHigh Income / High Risk\n",
        "Switzerland\tHigh Income / Strong Regulation\n",
        "India\tLower-Middle Income / Developing\n",
        "USA\tHigh Income / Strong Regulation\n",
        "Singapore\tHigh Income / Tax Haven / Risk Zone\n",
        "\n",
        "3. **Destination Country Category (Mapped)**\n",
        "\n",
        "| Destination Country | Income Level        | Regulation / Transparency                | Risk Level    | **Mapped Category**                            |\n",
        "| ------------------- | ------------------- | ---------------------------------------- | ------------- | ---------------------------------------------- |\n",
        "| **USA**             | High Income         | Strong AML Regulation                    | Low to Medium | High Income / Strong Regulation                |\n",
        "| **UK**              | High Income         | Strong AML Regulation                    | Low           | High Income / Strong Regulation                |\n",
        "| **Switzerland**     | High Income         | Strong AML Regulation (but secrecy laws) | Medium        | High Income / Strong Regulation / Secrecy Risk |\n",
        "| **Singapore**       | High Income         | High Regulation but Known Secrecy        | Medium        | High Income / Tax Haven / Medium Risk          |\n",
        "| **Russia**          | High Income         | Weak AML Controls, Sanctions             | High          | High Income / Weak Regulation / High Risk      |\n",
        "| **UAE**             | High Income         | Low Transparency, Emerging Compliance    | High          | High Income / Low Regulation / High Risk       |\n",
        "| **China**           | Upper-Middle Income | Moderate Regulation                      | Medium        | Upper-Middle Income / Medium Regulation        |\n",
        "| **Brazil**          | Upper-Middle Income | Moderate Regulation                      | Medium        | Upper-Middle Income / Moderate Regulation      |\n",
        "| **South Africa**    | Upper-Middle Income | Improving AML Framework                  | Medium        | Upper-Middle Income / Moderate Regulation      |\n",
        "| **India**           | Lower-Middle Income | Developing AML Systems                   | Medium        | Lower-Middle Income / Developing Regulation    |\n",
        "\n",
        "\n"
      ]
    },
    {
      "cell_type": "markdown",
      "metadata": {
        "id": "ZY3l0-AxO93d"
      },
      "source": [
        "---"
      ]
    },
    {
      "cell_type": "markdown",
      "metadata": {
        "id": "uFQo3ycuO-v6"
      },
      "source": [
        "## Initial Analysis "
      ]
    },
    {
      "cell_type": "markdown",
      "metadata": {},
      "source": [
        "This analysis begins with basic descriptive statistics — specifically, the mean, median, and mode of the numerical columns — to uncover initial patterns in the dataset."
      ]
    },
    {
      "cell_type": "code",
      "execution_count": 11,
      "metadata": {},
      "outputs": [
        {
          "data": {
            "text/html": [
              "<div>\n",
              "<style scoped>\n",
              "    .dataframe tbody tr th:only-of-type {\n",
              "        vertical-align: middle;\n",
              "    }\n",
              "\n",
              "    .dataframe tbody tr th {\n",
              "        vertical-align: top;\n",
              "    }\n",
              "\n",
              "    .dataframe thead th {\n",
              "        text-align: right;\n",
              "    }\n",
              "</style>\n",
              "<table border=\"1\" class=\"dataframe\">\n",
              "  <thead>\n",
              "    <tr style=\"text-align: right;\">\n",
              "      <th></th>\n",
              "      <th>mean</th>\n",
              "      <th>median</th>\n",
              "      <th>mode</th>\n",
              "      <th>min</th>\n",
              "      <th>max</th>\n",
              "      <th>std</th>\n",
              "      <th>25%</th>\n",
              "      <th>50%</th>\n",
              "      <th>75%</th>\n",
              "      <th>skewness</th>\n",
              "      <th>kurtosis</th>\n",
              "    </tr>\n",
              "  </thead>\n",
              "  <tbody>\n",
              "    <tr>\n",
              "      <th>Amount (USD)</th>\n",
              "      <td>2501817.6671</td>\n",
              "      <td>2501310.5</td>\n",
              "      <td>2655927.0</td>\n",
              "      <td>10032.0</td>\n",
              "      <td>4999812.0</td>\n",
              "      <td>1424364.278361</td>\n",
              "      <td>1279005.25</td>\n",
              "      <td>2501310.5</td>\n",
              "      <td>3722416.75</td>\n",
              "      <td>0.011124</td>\n",
              "      <td>-1.172878</td>\n",
              "    </tr>\n",
              "    <tr>\n",
              "      <th>Reported by Authority</th>\n",
              "      <td>0.2005</td>\n",
              "      <td>0.0</td>\n",
              "      <td>False</td>\n",
              "      <td>False</td>\n",
              "      <td>True</td>\n",
              "      <td>NaN</td>\n",
              "      <td>NaN</td>\n",
              "      <td>NaN</td>\n",
              "      <td>NaN</td>\n",
              "      <td>NaN</td>\n",
              "      <td>NaN</td>\n",
              "    </tr>\n",
              "    <tr>\n",
              "      <th>Money Laundering Risk Score</th>\n",
              "      <td>5.5264</td>\n",
              "      <td>6.0</td>\n",
              "      <td>9</td>\n",
              "      <td>1</td>\n",
              "      <td>10</td>\n",
              "      <td>2.893603</td>\n",
              "      <td>3.0</td>\n",
              "      <td>6.0</td>\n",
              "      <td>8.0</td>\n",
              "      <td>-0.011003</td>\n",
              "      <td>-1.243735</td>\n",
              "    </tr>\n",
              "    <tr>\n",
              "      <th>Shell Companies Involved</th>\n",
              "      <td>4.4694</td>\n",
              "      <td>4.0</td>\n",
              "      <td>0</td>\n",
              "      <td>0</td>\n",
              "      <td>9</td>\n",
              "      <td>2.879773</td>\n",
              "      <td>2.0</td>\n",
              "      <td>4.0</td>\n",
              "      <td>7.0</td>\n",
              "      <td>0.005806</td>\n",
              "      <td>-1.22295</td>\n",
              "    </tr>\n",
              "  </tbody>\n",
              "</table>\n",
              "</div>"
            ],
            "text/plain": [
              "                                     mean     median       mode      min  \\\n",
              "Amount (USD)                 2501817.6671  2501310.5  2655927.0  10032.0   \n",
              "Reported by Authority              0.2005        0.0      False    False   \n",
              "Money Laundering Risk Score        5.5264        6.0          9        1   \n",
              "Shell Companies Involved           4.4694        4.0          0        0   \n",
              "\n",
              "                                   max             std         25%        50%  \\\n",
              "Amount (USD)                 4999812.0  1424364.278361  1279005.25  2501310.5   \n",
              "Reported by Authority             True             NaN         NaN        NaN   \n",
              "Money Laundering Risk Score         10        2.893603         3.0        6.0   \n",
              "Shell Companies Involved             9        2.879773         2.0        4.0   \n",
              "\n",
              "                                    75%  skewness  kurtosis  \n",
              "Amount (USD)                 3722416.75  0.011124 -1.172878  \n",
              "Reported by Authority               NaN       NaN       NaN  \n",
              "Money Laundering Risk Score         8.0 -0.011003 -1.243735  \n",
              "Shell Companies Involved            7.0  0.005806  -1.22295  "
            ]
          },
          "metadata": {},
          "output_type": "display_data"
        }
      ],
      "source": [
        "# Step 12. Import seaborn and matplotlib\n",
        "import seaborn as sns\n",
        "import matplotlib.pyplot as plt\n",
        "\n",
        "\n",
        "# Step 13. Select numeric + boolean columns\n",
        "numeric_cols = data.select_dtypes(include=['float64', 'int64', 'bool']).columns\n",
        "\n",
        "# Step 14. Create stats DataFrame\n",
        "stats = pd.DataFrame(index=numeric_cols, columns=[\n",
        "    'mean', 'median', 'mode', 'min', 'max', 'std',\n",
        "    '25%', '50%', '75%', 'skewness', 'kurtosis',])\n",
        "\n",
        "# Step 15. Loop through each column\n",
        "for col in numeric_cols:\n",
        "    col_data = data[col]\n",
        "    \n",
        "    stats.loc[col, 'mean'] = col_data.mean()\n",
        "    stats.loc[col, 'median'] = col_data.median()\n",
        "    stats.loc[col, 'mode'] = col_data.mode().iloc[0] if not col_data.mode().empty else None\n",
        "    stats.loc[col, 'min'] = col_data.min()\n",
        "    stats.loc[col, 'max'] = col_data.max()\n",
        "\n",
        "    # Step 16. Skip quantiles and advanced stats for booleans\n",
        "    if col_data.dtype != 'bool':\n",
        "        stats.loc[col, 'std'] = col_data.std()\n",
        "        stats.loc[col, '25%'] = col_data.quantile(0.25)\n",
        "        stats.loc[col, '50%'] = col_data.quantile(0.50)\n",
        "        stats.loc[col, '75%'] = col_data.quantile(0.75)\n",
        "        stats.loc[col, 'skewness'] = col_data.skew()\n",
        "        stats.loc[col, 'kurtosis'] = col_data.kurtosis()\n",
        "\n",
        "# Step 17. Display nicely\n",
        "display(stats.round(2))"
      ]
    },
    {
      "cell_type": "markdown",
      "metadata": {},
      "source": []
    },
    {
      "cell_type": "markdown",
      "metadata": {},
      "source": [
        "\n",
        "The Initial analysis of the data shows:\n",
        "\n",
        "`Amount (USD)`\n",
        "\n",
        "* **Mean**: 2,501,817. On average, transactions involve about \\$2.5 million.\n",
        "* **Median**: 2,501,310. The middle transaction amount is also about \\$2.5 million, very close to the mean, so the distribution might be roughly symmetric.\n",
        "* **Mode**: 2,655,927. The most common transaction amount is about \\$2.65 million.\n",
        "* **Max**: 4,999,812. The largest transaction is nearly \\$5 million.\n",
        "* **Standard Deviation**: 1,424,364. There is a high spread in transaction amounts, but because mean ≈ median, it suggests the spread isn't caused by strong outliers.\n",
        "* **25%**: 1,279,005.25 — 25% of all transactions fall below this amount. This shows what a “low-end” transaction looks like within the dataset.\n",
        "* **50%**: 2,501,310.50 — This is the **median**, meaning half the transactions are below this value and half are above. It's useful for understanding the \"typical\" transaction.\n",
        "* **75%**: 3,722,416.75 — 75% of transactions are below this amount, and 25% are above. This highlights what a relatively **large** transaction looks like within the context of the data.\n",
        "* **Skewness**: \\~0.01. The distribution is nearly symmetrical.\n",
        "* **Kurtosis**: -1.17. The distribution is flatter than normal, meaning fewer extreme outliers than expected in a bell curve.\n",
        "\n",
        "---\n",
        "\n",
        "`Reported by Authority` (Boolean: True = reported, False = not)\n",
        "\n",
        "* **Mean**: 0.2005. About **20%** of transactions were reported by authorities.\n",
        "* **Median**: 0.0. More than half of the transactions were **not reported**.\n",
        "* **Mode**: False. The most common value is **False**, confirming most cases are unreported.\n",
        "* **Max**: True. Some transactions were reported.\n",
        "* **Standard Deviation**: 0.400. Reflects a mix of True and False values, but skewed toward False.\n",
        "* **25%**: 0.0 — At least 25% of the values are definitely unreported.\n",
        "* **50%**: 0.0 — The median again confirms that at least half are unreported.\n",
        "* **75%**: 0.0 — Even 75% of the values are False (not reported), which shows that only a small minority were flagged by authorities.\n",
        "* **Skewness**: 1.50. Strong **right skew** — very few 1s (True values).\n",
        "* **Kurtosis**: 0.24. Slightly peaked compared to a normal distribution.\n",
        "\n",
        "**Conclusion**: Most transactions go unreported; this variable could help flag rare, suspicious activity.\n",
        "\n",
        "---\n",
        "\n",
        "`Money Laundering Risk Score` (0–10 scale)\n",
        "\n",
        "* **Mean**: \\~5.53. Average risk score is around 5.5.\n",
        "* **Median**: 6. Half the transactions have a score below 6, half above.\n",
        "* **Mode**: 9. Most common score is **9**, suggesting many high-risk transactions.\n",
        "* **Max**: 10. Some transactions score the maximum risk.\n",
        "* **Standard Deviation**: 2.89. There's a reasonable spread of scores.\n",
        "* **25%**: 3.0 — One-quarter of transactions are low-risk (below 3).\n",
        "* **50%**: 6.0 — The median; half of all transactions score below 6, half above.\n",
        "* **75%**: 8.0 — 25% of transactions have risk scores **higher than 8**, indicating a significant tail of high-risk activity.\n",
        "* **Skewness**: \\~-0.01. Very slight **left skew**, almost symmetric.\n",
        "* **Kurtosis**: -1.24. Flatter distribution — values more evenly spread than a bell curve.\n",
        "\n",
        "---\n",
        "\n",
        "`Shell Companies Involved` (0–9)\n",
        "\n",
        "* **Mean**: \\~4.47. On average, \\~4.5 shell companies are involved per transaction.\n",
        "* **Median**: 4. Half of transactions involve **4 or fewer** shell companies.\n",
        "* **Mode**: 0. Many transactions involve **no** shell companies at all.\n",
        "* **Max**: 9. Some transactions involve up to **9** shell companies.\n",
        "* **Standard Deviation**: 2.88. Moderate variability in number of shell companies involved.\n",
        "* **25%**: 2.0 — A quarter of transactions involve 2 or fewer shell companies.\n",
        "* **50%**: 4.0 — The median; half of all transactions involve fewer than 4 shell companies.\n",
        "* **75%**: 7.0 — A quarter of all transactions involve 7 or more shell companies — potentially suspicious activity.\n",
        "* **Skewness**: \\~0.01. Almost symmetrical distribution.\n",
        "* **Kurtosis**: -1.22. Flat distribution with fewer outliers.\n",
        "\n",
        "---"
      ]
    },
    {
      "cell_type": "markdown",
      "metadata": {},
      "source": [
        "Next I will visualise the distribution for the four numerical columns."
      ]
    },
    {
      "cell_type": "markdown",
      "metadata": {},
      "source": [
        "We will plot the data to check the distribution. "
      ]
    },
    {
      "cell_type": "code",
      "execution_count": 12,
      "metadata": {},
      "outputs": [
        {
          "data": {
            "image/png": "[encoded data removed]",
            "text/plain": [
              "<Figure size 800x400 with 1 Axes>"
            ]
          },
          "metadata": {},
          "output_type": "display_data"
        }
      ],
      "source": [
        "# Step 18. Create a histogram for 'Amount (USD)' to visualize the distribution of transaction amounts\n",
        "plt.figure(figsize=(8, 4))\n",
        "sns.countplot(x='Money Laundering Risk Score', data=data, color='blue', edgecolor='black')\n",
        "plt.title(\"Money Laundering Risk Score Count\")\n",
        "plt.ylabel(\"Frequency\")\n",
        "plt.xlabel(\"Risk Score\")\n",
        "plt.tight_layout()\n",
        "plt.show()"
      ]
    },
    {
      "cell_type": "code",
      "execution_count": 24,
      "metadata": {},
      "outputs": [
        {
          "data": {
            "image/png": "[encoded data removed]",
            "text/plain": [
              "<Figure size 800x400 with 1 Axes>"
            ]
          },
          "metadata": {},
          "output_type": "display_data"
        }
      ],
      "source": [
        "# Step 19. Create a histogram for 'Shell Companies Involved' to visualize the distribution of shell companies\n",
        "plt.figure(figsize=(8, 4))\n",
        "sns.countplot(x='Shell Companies Involved', data=data, color='blue', edgecolor='black')\n",
        "plt.title(\"Shell Companies Involved\")\n",
        "plt.ylabel(\"Frequency\")\n",
        "plt.xlabel(\"Number of Shell Companies\")\n",
        "plt.tight_layout()\n",
        "plt.show()"
      ]
    },
    {
      "cell_type": "code",
      "execution_count": 13,
      "metadata": {},
      "outputs": [
        {
          "name": "stdout",
          "output_type": "stream",
          "text": [
            "Standard Deviation for Amount (USD): $1,424,364.28\n"
          ]
        }
      ],
      "source": [
        "#Step 20. Calculate the standard deviation for 'Amount (USD)'\n",
        "std_amount = data['Amount (USD)'].std()\n",
        "print(f\"Standard Deviation for Amount (USD): ${std_amount:,.2f}\")"
      ]
    },
    {
      "cell_type": "code",
      "execution_count": 14,
      "metadata": {},
      "outputs": [
        {
          "data": {
            "image/png": "[encoded data removed]",
            "text/plain": [
              "<Figure size 640x480 with 1 Axes>"
            ]
          },
          "metadata": {},
          "output_type": "display_data"
        }
      ],
      "source": [
        "#Step 21. Create a boxplot for 'Amount (USD)' to visualize the distribution of transaction amounts\n",
        "sns.boxplot(x=data['Amount (USD)'], color='blue')\n",
        "\n",
        "q1 = data['Amount (USD)'].quantile(0.25)\n",
        "q3 = data['Amount (USD)'].quantile(0.75)\n",
        "\n",
        "plt.axvline(q1, color='green', linestyle='--')\n",
        "plt.axvline(q3, color='green', linestyle='--')\n",
        "\n",
        "plt.title('Amount (USD) — Boxplot with Quartiles')\n",
        "plt.xlabel('Amount (USD)')\n",
        "\n",
        "plt.show()"
      ]
    },
    {
      "cell_type": "markdown",
      "metadata": {},
      "source": [
        "This box plot shows that the mid point for most transactions is $2.5million, most transactions cluster around $1.5m and $3.75m. There are no extreme outliers beyond $5m and there can't be a transaction which is less than $0. "
      ]
    },
    {
      "cell_type": "markdown",
      "metadata": {},
      "source": []
    },
    {
      "cell_type": "code",
      "execution_count": 15,
      "metadata": {},
      "outputs": [
        {
          "data": {
            "text/plain": [
              "Industry\n",
              "Luxury Goods    5.373544\n",
              "Oil & Gas       5.427843\n",
              "Real Estate     5.455301\n",
              "Casinos         5.556282\n",
              "Arms Trade      5.570721\n",
              "Construction    5.583562\n",
              "Finance         5.711864\n",
              "Name: Money Laundering Risk Score, dtype: float64"
            ]
          },
          "execution_count": 15,
          "metadata": {},
          "output_type": "execute_result"
        }
      ],
      "source": [
        "#Step 22. Calculate the mean Money Laundering Risk Score by Industry\n",
        "data.groupby('Industry')['Money Laundering Risk Score'].mean().sort_values()"
      ]
    },
    {
      "cell_type": "markdown",
      "metadata": {},
      "source": [
        "Bearing in mind the `Money Laundering Risk Score`range from 1-9 inclusive, there isn't a great deal of difference between the low and the highest score."
      ]
    },
    {
      "cell_type": "markdown",
      "metadata": {},
      "source": [
        "---"
      ]
    },
    {
      "cell_type": "markdown",
      "metadata": {},
      "source": [
        "## Advanced Analysis "
      ]
    },
    {
      "cell_type": "markdown",
      "metadata": {},
      "source": [
        "We will do a Pearson Correlation Analysis, to see if two variables move together. This will help you quantify the relationship between numerical variables, such as:\n",
        "- `Amount (USD)` and `Money Laundering Risk Score`\n",
        "- `Shell Companies Involved` and `Risk Score`\n",
        "- `Amount (USD)` and `Shell Companies Involved`"
      ]
    },
    {
      "cell_type": "code",
      "execution_count": 16,
      "metadata": {},
      "outputs": [
        {
          "name": "stdout",
          "output_type": "stream",
          "text": [
            "                             Amount (USD)  Money Laundering Risk Score  \\\n",
            "Amount (USD)                     1.000000                     0.016529   \n",
            "Money Laundering Risk Score      0.016529                     1.000000   \n",
            "Shell Companies Involved        -0.017905                    -0.019262   \n",
            "\n",
            "                             Shell Companies Involved  \n",
            "Amount (USD)                                -0.017905  \n",
            "Money Laundering Risk Score                 -0.019262  \n",
            "Shell Companies Involved                     1.000000  \n"
          ]
        }
      ],
      "source": [
        "# Step 23.Only include numerical columns\n",
        "numerical_cols = ['Amount (USD)', 'Money Laundering Risk Score', 'Shell Companies Involved']\n",
        "\n",
        "# Step 24. Compute correlation matrix\n",
        "correlation_matrix = data[numerical_cols].corr()\n",
        "\n",
        "# Step 25. Display it\n",
        "print(correlation_matrix)"
      ]
    },
    {
      "cell_type": "markdown",
      "metadata": {},
      "source": []
    },
    {
      "cell_type": "markdown",
      "metadata": {},
      "source": [
        "### Correlation Summary of Numerical Variables\n",
        "\n",
        "\n",
        "| Variable Pair                            | Correlation Coefficient | Interpretation |\n",
        "|------------------------------------------|--------------------------|----------------|\n",
        "| Amount (USD) & Risk Score                | 0.0165                   | Very weak positive correlation – almost no relationship |\n",
        "| Amount (USD) & Shell Companies Involved  | -0.0179                  | Very weak negative correlation – almost no relationship |\n",
        "| Risk Score & Shell Companies Involved    | -0.0193                  | Very weak negative correlation – almost no relationship |\n",
        "\n",
        "These results indicate that there is **no meaningful linear relationship** between these variables. For instance, larger transaction amounts are **not necessarily** associated with higher risk scores or more shell companies. This suggests that the `Money Laundering Risk Score` may be influenced more by other factors, such as `Industry`, `Country`, or whether the transaction was `Reported by Authority`.\n"
      ]
    },
    {
      "cell_type": "code",
      "execution_count": 17,
      "metadata": {},
      "outputs": [
        {
          "data": {
            "image/png": "[encoded data removed]",
            "text/plain": [
              "<Figure size 800x600 with 2 Axes>"
            ]
          },
          "metadata": {},
          "output_type": "display_data"
        }
      ],
      "source": [
        "# Step 26. Visualize the correlation matrix using a heatmap\n",
        "plt.figure(figsize=(8,6))\n",
        "sns.heatmap(correlation_matrix, annot=True, cmap='coolwarm', fmt=\".2f\")\n",
        "plt.title(\"Correlation Between Numerical Variables\")\n",
        "plt.show()"
      ]
    },
    {
      "cell_type": "markdown",
      "metadata": {},
      "source": [
        "In order to calculate the relationships with categorical data, we'll explore the Chi Squared test, \n",
        "which is a statistical method used to determine if there is a significant association between two categorical \n",
        "variables. This test will help us understand if the distribution of one categorical variable differs significantly across the levels of another categorical variable."
      ]
    },
    {
      "cell_type": "code",
      "execution_count": 21,
      "metadata": {},
      "outputs": [
        {
          "name": "stdout",
          "output_type": "stream",
          "text": [
            "Chi-squared statistic: 12.7965\n",
            "Degrees of freedom: 6\n",
            "P-value: 0.04638317224472215\n"
          ]
        }
      ],
      "source": [
        "from scipy.stats import chi2_contingency\n",
        "\n",
        "# Example: Chi-squared test between 'Industry' and 'Reported by Authority'\n",
        "cat1 = 'Industry'\n",
        "cat2 = 'Reported by Authority'\n",
        "\n",
        "# Create a contingency table\n",
        "contingency_table = pd.crosstab(data[cat1], data[cat2])\n",
        "\n",
        "# Run the Chi-squared test\n",
        "chi2, p, dof, expected = chi2_contingency(contingency_table)\n",
        "\n",
        "# Print results\n",
        "print(f\"Chi-squared statistic: {chi2:.4f}\")\n",
        "print(f\"Degrees of freedom: {dof}\")\n",
        "print(\"P-value:\", p)"
      ]
    },
    {
      "cell_type": "markdown",
      "metadata": {},
      "source": [
        "Here the chi-Squared test assesses the relationship between `Industry` and `Reported by Authority`. The result are statistically significant (χ² = 12.80, df = 6, p = 0.046), suggesting a potential association between the variables. However, since the p-value is close to 0.05, the evidence is weak indicating meaning it should be intrepreted with caution. "
      ]
    },
    {
      "cell_type": "code",
      "execution_count": 22,
      "metadata": {},
      "outputs": [
        {
          "name": "stdout",
          "output_type": "stream",
          "text": [
            "Chi-squared statistic: 3.5725\n",
            "Degrees of freedom: 1\n",
            "P-value: 0.05874435676800048\n"
          ]
        }
      ],
      "source": [
        "# Example: Chi-squared test between 'Transaction Type' and 'Amount (USD)' - Hypothesis Two \n",
        "\n",
        "data['Shell_Cat'] = data['Shell Companies Involved'].apply(lambda x: '3 or more' if x >= 3 else 'Less than 3')\n",
        "\n",
        "cat1 = 'Shell_Cat'\n",
        "cat2 = 'Reported by Authority'\n",
        "\n",
        "# Create a contingency table\n",
        "contingency_table = pd.crosstab(data[cat1], data[cat2])\n",
        "\n",
        "# Run the Chi-squared test\n",
        "chi2, p, dof, expected = chi2_contingency(contingency_table)\n",
        "\n",
        "# Print results\n",
        "print(f\"Chi-squared statistic: {chi2:.4f}\")\n",
        "print(f\"Degrees of freedom: {dof}\")\n",
        "print(\"P-value:\", p)"
      ]
    },
    {
      "cell_type": "code",
      "execution_count": 51,
      "metadata": {},
      "outputs": [
        {
          "name": "stdout",
          "output_type": "stream",
          "text": [
            "Chi-squared statistic: 41.2689\n",
            "Degrees of freedom: 20\n",
            "P-value: 0.0034399538602876483\n"
          ]
        }
      ],
      "source": [
        "# Example: Chi-squared test between 'Transaction Type' and 'Amount (USD)' - Hypothesis Three \n",
        "cat1 = 'Transaction Type'\n",
        "cat2 = 'Tax Haven Country'\n",
        "\n",
        "# Create a contingency table\n",
        "contingency_table = pd.crosstab(data[cat1], data[cat2])\n",
        "\n",
        "# Run the Chi-squared test\n",
        "chi2, p, dof, expected = chi2_contingency(contingency_table)\n",
        "\n",
        "# Print results\n",
        "print(f\"Chi-squared statistic: {chi2:.4f}\")\n",
        "print(f\"Degrees of freedom: {dof}\")\n",
        "print(\"P-value:\", p)"
      ]
    },
    {
      "cell_type": "markdown",
      "metadata": {},
      "source": [
        "save new clean dataset to my local drive. "
      ]
    },
    {
      "cell_type": "code",
      "execution_count": 19,
      "metadata": {},
      "outputs": [],
      "source": [
        "data.to_csv('/Users/nataliewaugh/Documents/DataCode/Detecting_Money_Laundering_Patterns-/data/Cleaned_Money_Laundering_Dataset.csv', index=False)"
      ]
    },
    {
      "cell_type": "code",
      "execution_count": null,
      "metadata": {},
      "outputs": [],
      "source": []
    }
  ],
  "metadata": {
    "accelerator": "GPU",
    "colab": {
      "name": "Data Practitioner Jupyter Notebook.ipynb",
      "provenance": [],
      "toc_visible": true
    },
    "kernelspec": {
      "display_name": ".venv",
      "language": "python",
      "name": "python3"
    },
    "language_info": {
      "codemirror_mode": {
        "name": "ipython",
        "version": 3
      },
      "file_extension": ".py",
      "mimetype": "text/x-python",
      "name": "python",
      "nbconvert_exporter": "python",
      "pygments_lexer": "ipython3",
      "version": "3.12.8"
    },
    "orig_nbformat": 2
  },
  "nbformat": 4,
  "nbformat_minor": 2
}
